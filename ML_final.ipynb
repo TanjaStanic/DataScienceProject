{
 "cells": [
  {
   "cell_type": "code",
   "execution_count": null,
   "metadata": {},
   "outputs": [],
   "source": []
  },
  {
   "cell_type": "code",
   "execution_count": 4,
   "metadata": {},
   "outputs": [],
   "source": [
    "import pandas as pd\n",
    "from matplotlib import pyplot as plt\n",
    "from sklearn import preprocessing"
   ]
  },
  {
   "cell_type": "code",
   "execution_count": 5,
   "metadata": {},
   "outputs": [
    {
     "data": {
      "text/html": [
       "<div>\n",
       "<style scoped>\n",
       "    .dataframe tbody tr th:only-of-type {\n",
       "        vertical-align: middle;\n",
       "    }\n",
       "\n",
       "    .dataframe tbody tr th {\n",
       "        vertical-align: top;\n",
       "    }\n",
       "\n",
       "    .dataframe thead th {\n",
       "        text-align: right;\n",
       "    }\n",
       "</style>\n",
       "<table border=\"1\" class=\"dataframe\">\n",
       "  <thead>\n",
       "    <tr style=\"text-align: right;\">\n",
       "      <th></th>\n",
       "      <th>Id</th>\n",
       "      <th>Age</th>\n",
       "      <th>Race</th>\n",
       "      <th>Sex</th>\n",
       "      <th>Diagnosed</th>\n",
       "      <th>Diagnosed group</th>\n",
       "      <th>Stage</th>\n",
       "      <th>Months</th>\n",
       "      <th>Site</th>\n",
       "      <th>Sequence number</th>\n",
       "      <th>...</th>\n",
       "      <th>COD</th>\n",
       "      <th>COD2</th>\n",
       "      <th>Report</th>\n",
       "      <th>Property</th>\n",
       "      <th>Tumor size</th>\n",
       "      <th>Tumor size group</th>\n",
       "      <th>Surgery</th>\n",
       "      <th>Chemotherapy</th>\n",
       "      <th>Radiotherapy</th>\n",
       "      <th>Survive</th>\n",
       "    </tr>\n",
       "  </thead>\n",
       "  <tbody>\n",
       "    <tr>\n",
       "      <th>0</th>\n",
       "      <td>22929427</td>\n",
       "      <td>15-19</td>\n",
       "      <td>White</td>\n",
       "      <td>Male</td>\n",
       "      <td>1975</td>\n",
       "      <td>1975-1999</td>\n",
       "      <td>Regional</td>\n",
       "      <td>31.0</td>\n",
       "      <td>Bones and Joints</td>\n",
       "      <td>One primary only</td>\n",
       "      <td>...</td>\n",
       "      <td>Bones and Joints</td>\n",
       "      <td>Dead (attributable to this cancer dx)</td>\n",
       "      <td>Hospital inpatient/outpatient or clinic</td>\n",
       "      <td>$75,000+</td>\n",
       "      <td>94.0</td>\n",
       "      <td>85-115</td>\n",
       "      <td>No</td>\n",
       "      <td>No</td>\n",
       "      <td>No</td>\n",
       "      <td>Dead in 5</td>\n",
       "    </tr>\n",
       "    <tr>\n",
       "      <th>1</th>\n",
       "      <td>10123011</td>\n",
       "      <td>05-09</td>\n",
       "      <td>White</td>\n",
       "      <td>Male</td>\n",
       "      <td>1975</td>\n",
       "      <td>1975-1999</td>\n",
       "      <td>Regional</td>\n",
       "      <td>23.0</td>\n",
       "      <td>Bones and Joints</td>\n",
       "      <td>One primary only</td>\n",
       "      <td>...</td>\n",
       "      <td>Bones and Joints</td>\n",
       "      <td>Dead (attributable to this cancer dx)</td>\n",
       "      <td>Hospital inpatient/outpatient or clinic</td>\n",
       "      <td>$75,000+</td>\n",
       "      <td>94.0</td>\n",
       "      <td>85-115</td>\n",
       "      <td>No</td>\n",
       "      <td>No</td>\n",
       "      <td>No</td>\n",
       "      <td>Dead in 5</td>\n",
       "    </tr>\n",
       "  </tbody>\n",
       "</table>\n",
       "<p>2 rows × 21 columns</p>\n",
       "</div>"
      ],
      "text/plain": [
       "         Id    Age   Race   Sex  Diagnosed Diagnosed group     Stage  Months  \\\n",
       "0  22929427  15-19  White  Male       1975       1975-1999  Regional    31.0   \n",
       "1  10123011  05-09  White  Male       1975       1975-1999  Regional    23.0   \n",
       "\n",
       "               Site   Sequence number  ...               COD  \\\n",
       "0  Bones and Joints  One primary only  ...  Bones and Joints   \n",
       "1  Bones and Joints  One primary only  ...  Bones and Joints   \n",
       "\n",
       "                                    COD2  \\\n",
       "0  Dead (attributable to this cancer dx)   \n",
       "1  Dead (attributable to this cancer dx)   \n",
       "\n",
       "                                    Report  Property Tumor size  \\\n",
       "0  Hospital inpatient/outpatient or clinic  $75,000+       94.0   \n",
       "1  Hospital inpatient/outpatient or clinic  $75,000+       94.0   \n",
       "\n",
       "   Tumor size group Surgery Chemotherapy Radiotherapy    Survive  \n",
       "0            85-115      No           No           No  Dead in 5  \n",
       "1            85-115      No           No           No  Dead in 5  \n",
       "\n",
       "[2 rows x 21 columns]"
      ]
     },
     "execution_count": 5,
     "metadata": {},
     "output_type": "execute_result"
    }
   ],
   "source": [
    "df = pd.read_csv('ml-data.csv', delimiter=',', encoding= 'unicode_escape')\n",
    "df.head(2)"
   ]
  },
  {
   "cell_type": "code",
   "execution_count": 6,
   "metadata": {},
   "outputs": [
    {
     "name": "stdout",
     "output_type": "stream",
     "text": [
      "<class 'pandas.core.frame.DataFrame'>\n",
      "RangeIndex: 2581 entries, 0 to 2580\n",
      "Data columns (total 21 columns):\n",
      " #   Column            Non-Null Count  Dtype  \n",
      "---  ------            --------------  -----  \n",
      " 0   Id                2581 non-null   int64  \n",
      " 1   Age               2581 non-null   object \n",
      " 2   Race              2581 non-null   object \n",
      " 3   Sex               2581 non-null   object \n",
      " 4   Diagnosed         2581 non-null   int64  \n",
      " 5   Diagnosed group   2581 non-null   object \n",
      " 6   Stage             2581 non-null   object \n",
      " 7   Months            2581 non-null   float64\n",
      " 8   Site              2581 non-null   object \n",
      " 9   Sequence number   2581 non-null   object \n",
      " 10  Malignat number   2581 non-null   int64  \n",
      " 11  COD               2581 non-null   object \n",
      " 12  COD2              2581 non-null   object \n",
      " 13  Report            2581 non-null   object \n",
      " 14  Property          2581 non-null   object \n",
      " 15  Tumor size        2581 non-null   float64\n",
      " 16  Tumor size group  2581 non-null   object \n",
      " 17  Surgery           2581 non-null   object \n",
      " 18  Chemotherapy      2581 non-null   object \n",
      " 19  Radiotherapy      2581 non-null   object \n",
      " 20  Survive           2581 non-null   object \n",
      "dtypes: float64(2), int64(3), object(16)\n",
      "memory usage: 423.6+ KB\n"
     ]
    }
   ],
   "source": [
    "df.info()"
   ]
  },
  {
   "cell_type": "code",
   "execution_count": 7,
   "metadata": {},
   "outputs": [],
   "source": [
    "df = df.drop(['Diagnosed group','Months','Tumor size','COD2'], axis = 1)"
   ]
  },
  {
   "cell_type": "code",
   "execution_count": 8,
   "metadata": {},
   "outputs": [],
   "source": [
    "df = df.drop(['Id'], axis = 1)"
   ]
  },
  {
   "cell_type": "code",
   "execution_count": 9,
   "metadata": {},
   "outputs": [],
   "source": [
    "df = df.drop(['Malignat number'], axis = 1)"
   ]
  },
  {
   "cell_type": "code",
   "execution_count": 10,
   "metadata": {
    "collapsed": true
   },
   "outputs": [
    {
     "data": {
      "text/html": [
       "<div>\n",
       "<style scoped>\n",
       "    .dataframe tbody tr th:only-of-type {\n",
       "        vertical-align: middle;\n",
       "    }\n",
       "\n",
       "    .dataframe tbody tr th {\n",
       "        vertical-align: top;\n",
       "    }\n",
       "\n",
       "    .dataframe thead th {\n",
       "        text-align: right;\n",
       "    }\n",
       "</style>\n",
       "<table border=\"1\" class=\"dataframe\">\n",
       "  <thead>\n",
       "    <tr style=\"text-align: right;\">\n",
       "      <th></th>\n",
       "      <th>Age</th>\n",
       "      <th>Race</th>\n",
       "      <th>Sex</th>\n",
       "      <th>Diagnosed</th>\n",
       "      <th>Stage</th>\n",
       "      <th>Site</th>\n",
       "      <th>Sequence number</th>\n",
       "      <th>COD</th>\n",
       "      <th>Report</th>\n",
       "      <th>Property</th>\n",
       "      <th>Tumor size group</th>\n",
       "      <th>Surgery</th>\n",
       "      <th>Chemotherapy</th>\n",
       "      <th>Radiotherapy</th>\n",
       "      <th>Survive</th>\n",
       "    </tr>\n",
       "  </thead>\n",
       "  <tbody>\n",
       "    <tr>\n",
       "      <th>0</th>\n",
       "      <td>15-19</td>\n",
       "      <td>White</td>\n",
       "      <td>Male</td>\n",
       "      <td>1975</td>\n",
       "      <td>Regional</td>\n",
       "      <td>Bones and Joints</td>\n",
       "      <td>One primary only</td>\n",
       "      <td>Bones and Joints</td>\n",
       "      <td>Hospital inpatient/outpatient or clinic</td>\n",
       "      <td>$75,000+</td>\n",
       "      <td>85-115</td>\n",
       "      <td>No</td>\n",
       "      <td>No</td>\n",
       "      <td>No</td>\n",
       "      <td>Dead in 5</td>\n",
       "    </tr>\n",
       "    <tr>\n",
       "      <th>1</th>\n",
       "      <td>05-09</td>\n",
       "      <td>White</td>\n",
       "      <td>Male</td>\n",
       "      <td>1975</td>\n",
       "      <td>Regional</td>\n",
       "      <td>Bones and Joints</td>\n",
       "      <td>One primary only</td>\n",
       "      <td>Bones and Joints</td>\n",
       "      <td>Hospital inpatient/outpatient or clinic</td>\n",
       "      <td>$75,000+</td>\n",
       "      <td>85-115</td>\n",
       "      <td>No</td>\n",
       "      <td>No</td>\n",
       "      <td>No</td>\n",
       "      <td>Dead in 5</td>\n",
       "    </tr>\n",
       "    <tr>\n",
       "      <th>2</th>\n",
       "      <td>15-19</td>\n",
       "      <td>White</td>\n",
       "      <td>Male</td>\n",
       "      <td>1975</td>\n",
       "      <td>Distant</td>\n",
       "      <td>Bones and Joints</td>\n",
       "      <td>One primary only</td>\n",
       "      <td>Bones and Joints</td>\n",
       "      <td>Hospital inpatient/outpatient or clinic</td>\n",
       "      <td>&lt; $60,999</td>\n",
       "      <td>85-115</td>\n",
       "      <td>No</td>\n",
       "      <td>Yes</td>\n",
       "      <td>No</td>\n",
       "      <td>Dead in 5</td>\n",
       "    </tr>\n",
       "    <tr>\n",
       "      <th>3</th>\n",
       "      <td>15-19</td>\n",
       "      <td>White</td>\n",
       "      <td>Male</td>\n",
       "      <td>1975</td>\n",
       "      <td>Regional</td>\n",
       "      <td>Bones and Joints</td>\n",
       "      <td>One primary only</td>\n",
       "      <td>Bones and Joints</td>\n",
       "      <td>Hospital inpatient/outpatient or clinic</td>\n",
       "      <td>$60,000 - $74,999</td>\n",
       "      <td>85-115</td>\n",
       "      <td>No</td>\n",
       "      <td>Yes</td>\n",
       "      <td>No</td>\n",
       "      <td>Dead in 5</td>\n",
       "    </tr>\n",
       "    <tr>\n",
       "      <th>4</th>\n",
       "      <td>15-19</td>\n",
       "      <td>White</td>\n",
       "      <td>Male</td>\n",
       "      <td>1975</td>\n",
       "      <td>Localized</td>\n",
       "      <td>Bones and Joints</td>\n",
       "      <td>One primary only</td>\n",
       "      <td>Bones and Joints</td>\n",
       "      <td>Hospital inpatient/outpatient or clinic</td>\n",
       "      <td>&lt; $60,999</td>\n",
       "      <td>&gt; 115</td>\n",
       "      <td>Yes</td>\n",
       "      <td>No</td>\n",
       "      <td>No</td>\n",
       "      <td>Dead in 5</td>\n",
       "    </tr>\n",
       "    <tr>\n",
       "      <th>...</th>\n",
       "      <td>...</td>\n",
       "      <td>...</td>\n",
       "      <td>...</td>\n",
       "      <td>...</td>\n",
       "      <td>...</td>\n",
       "      <td>...</td>\n",
       "      <td>...</td>\n",
       "      <td>...</td>\n",
       "      <td>...</td>\n",
       "      <td>...</td>\n",
       "      <td>...</td>\n",
       "      <td>...</td>\n",
       "      <td>...</td>\n",
       "      <td>...</td>\n",
       "      <td>...</td>\n",
       "    </tr>\n",
       "    <tr>\n",
       "      <th>145</th>\n",
       "      <td>10-14</td>\n",
       "      <td>White</td>\n",
       "      <td>Female</td>\n",
       "      <td>1981</td>\n",
       "      <td>Regional</td>\n",
       "      <td>Bones and Joints</td>\n",
       "      <td>One primary only</td>\n",
       "      <td>Alive</td>\n",
       "      <td>Hospital inpatient/outpatient or clinic</td>\n",
       "      <td>$75,000+</td>\n",
       "      <td>85-115</td>\n",
       "      <td>No</td>\n",
       "      <td>No</td>\n",
       "      <td>No</td>\n",
       "      <td>Survive</td>\n",
       "    </tr>\n",
       "    <tr>\n",
       "      <th>146</th>\n",
       "      <td>15-19</td>\n",
       "      <td>White</td>\n",
       "      <td>Male</td>\n",
       "      <td>1981</td>\n",
       "      <td>Regional</td>\n",
       "      <td>Bones and Joints</td>\n",
       "      <td>One primary only</td>\n",
       "      <td>Bones and Joints</td>\n",
       "      <td>Hospital inpatient/outpatient or clinic</td>\n",
       "      <td>$75,000+</td>\n",
       "      <td>85-115</td>\n",
       "      <td>No</td>\n",
       "      <td>Yes</td>\n",
       "      <td>No</td>\n",
       "      <td>Dead in 5</td>\n",
       "    </tr>\n",
       "    <tr>\n",
       "      <th>147</th>\n",
       "      <td>15-19</td>\n",
       "      <td>White</td>\n",
       "      <td>Female</td>\n",
       "      <td>1981</td>\n",
       "      <td>Localized</td>\n",
       "      <td>Bones and Joints</td>\n",
       "      <td>One primary only</td>\n",
       "      <td>Bones and Joints</td>\n",
       "      <td>Hospital inpatient/outpatient or clinic</td>\n",
       "      <td>$75,000+</td>\n",
       "      <td>&gt; 115</td>\n",
       "      <td>No</td>\n",
       "      <td>Yes</td>\n",
       "      <td>No</td>\n",
       "      <td>Dead in 5</td>\n",
       "    </tr>\n",
       "    <tr>\n",
       "      <th>148</th>\n",
       "      <td>05-09</td>\n",
       "      <td>White</td>\n",
       "      <td>Female</td>\n",
       "      <td>1981</td>\n",
       "      <td>Localized</td>\n",
       "      <td>Bones and Joints</td>\n",
       "      <td>One primary only</td>\n",
       "      <td>Alive</td>\n",
       "      <td>Hospital inpatient/outpatient or clinic</td>\n",
       "      <td>$60,000 - $74,999</td>\n",
       "      <td>85-115</td>\n",
       "      <td>Unknown</td>\n",
       "      <td>Yes</td>\n",
       "      <td>No</td>\n",
       "      <td>Survive</td>\n",
       "    </tr>\n",
       "    <tr>\n",
       "      <th>149</th>\n",
       "      <td>10-14</td>\n",
       "      <td>White</td>\n",
       "      <td>Female</td>\n",
       "      <td>1981</td>\n",
       "      <td>Localized</td>\n",
       "      <td>Bones and Joints</td>\n",
       "      <td>One primary only</td>\n",
       "      <td>Bones and Joints</td>\n",
       "      <td>Hospital inpatient/outpatient or clinic</td>\n",
       "      <td>$75,000+</td>\n",
       "      <td>&gt; 115</td>\n",
       "      <td>Unknown</td>\n",
       "      <td>No</td>\n",
       "      <td>No</td>\n",
       "      <td>Dead in 5</td>\n",
       "    </tr>\n",
       "  </tbody>\n",
       "</table>\n",
       "<p>150 rows × 15 columns</p>\n",
       "</div>"
      ],
      "text/plain": [
       "       Age   Race     Sex  Diagnosed      Stage              Site  \\\n",
       "0    15-19  White    Male       1975   Regional  Bones and Joints   \n",
       "1    05-09  White    Male       1975   Regional  Bones and Joints   \n",
       "2    15-19  White    Male       1975    Distant  Bones and Joints   \n",
       "3    15-19  White    Male       1975   Regional  Bones and Joints   \n",
       "4    15-19  White    Male       1975  Localized  Bones and Joints   \n",
       "..     ...    ...     ...        ...        ...               ...   \n",
       "145  10-14  White  Female       1981   Regional  Bones and Joints   \n",
       "146  15-19  White    Male       1981   Regional  Bones and Joints   \n",
       "147  15-19  White  Female       1981  Localized  Bones and Joints   \n",
       "148  05-09  White  Female       1981  Localized  Bones and Joints   \n",
       "149  10-14  White  Female       1981  Localized  Bones and Joints   \n",
       "\n",
       "      Sequence number               COD  \\\n",
       "0    One primary only  Bones and Joints   \n",
       "1    One primary only  Bones and Joints   \n",
       "2    One primary only  Bones and Joints   \n",
       "3    One primary only  Bones and Joints   \n",
       "4    One primary only  Bones and Joints   \n",
       "..                ...               ...   \n",
       "145  One primary only             Alive   \n",
       "146  One primary only  Bones and Joints   \n",
       "147  One primary only  Bones and Joints   \n",
       "148  One primary only             Alive   \n",
       "149  One primary only  Bones and Joints   \n",
       "\n",
       "                                      Report           Property  \\\n",
       "0    Hospital inpatient/outpatient or clinic           $75,000+   \n",
       "1    Hospital inpatient/outpatient or clinic           $75,000+   \n",
       "2    Hospital inpatient/outpatient or clinic          < $60,999   \n",
       "3    Hospital inpatient/outpatient or clinic  $60,000 - $74,999   \n",
       "4    Hospital inpatient/outpatient or clinic          < $60,999   \n",
       "..                                       ...                ...   \n",
       "145  Hospital inpatient/outpatient or clinic           $75,000+   \n",
       "146  Hospital inpatient/outpatient or clinic           $75,000+   \n",
       "147  Hospital inpatient/outpatient or clinic           $75,000+   \n",
       "148  Hospital inpatient/outpatient or clinic  $60,000 - $74,999   \n",
       "149  Hospital inpatient/outpatient or clinic           $75,000+   \n",
       "\n",
       "    Tumor size group  Surgery Chemotherapy Radiotherapy    Survive  \n",
       "0             85-115       No           No           No  Dead in 5  \n",
       "1             85-115       No           No           No  Dead in 5  \n",
       "2             85-115       No          Yes           No  Dead in 5  \n",
       "3             85-115       No          Yes           No  Dead in 5  \n",
       "4              > 115      Yes           No           No  Dead in 5  \n",
       "..               ...      ...          ...          ...        ...  \n",
       "145           85-115       No           No           No    Survive  \n",
       "146           85-115       No          Yes           No  Dead in 5  \n",
       "147            > 115       No          Yes           No  Dead in 5  \n",
       "148           85-115  Unknown          Yes           No    Survive  \n",
       "149            > 115  Unknown           No           No  Dead in 5  \n",
       "\n",
       "[150 rows x 15 columns]"
      ]
     },
     "execution_count": 10,
     "metadata": {},
     "output_type": "execute_result"
    }
   ],
   "source": [
    "df.head(150)"
   ]
  },
  {
   "cell_type": "markdown",
   "metadata": {},
   "source": [
    "## Normalize diagnosed column"
   ]
  },
  {
   "cell_type": "code",
   "execution_count": 11,
   "metadata": {},
   "outputs": [],
   "source": [
    "from sklearn.preprocessing import MinMaxScaler\n",
    "\n",
    "min_max_scaler = MinMaxScaler()"
   ]
  },
  {
   "cell_type": "code",
   "execution_count": 12,
   "metadata": {},
   "outputs": [],
   "source": [
    "column_names_to_normalize = ['Diagnosed']\n",
    "x = df[column_names_to_normalize].values\n",
    "x_scaled = min_max_scaler.fit_transform(x)\n",
    "df_temp = pd.DataFrame(x_scaled, columns=column_names_to_normalize, index = df.index)\n",
    "df[column_names_to_normalize] = df_temp"
   ]
  },
  {
   "cell_type": "code",
   "execution_count": null,
   "metadata": {},
   "outputs": [],
   "source": []
  },
  {
   "cell_type": "code",
   "execution_count": null,
   "metadata": {},
   "outputs": [],
   "source": []
  },
  {
   "cell_type": "markdown",
   "metadata": {},
   "source": [
    "### One hot Encoding for the otrhers columns"
   ]
  },
  {
   "cell_type": "code",
   "execution_count": 13,
   "metadata": {},
   "outputs": [],
   "source": [
    "from sklearn.preprocessing import OneHotEncoder"
   ]
  },
  {
   "cell_type": "code",
   "execution_count": 14,
   "metadata": {},
   "outputs": [],
   "source": [
    "df_ohe = df\n",
    "categorical_columns = ['Age', 'Race', 'Sex', 'Stage', 'Site',\n",
    "       'Sequence number', 'COD', 'Report',\n",
    "       'Property', 'Tumor size group', 'Surgery', 'Chemotherapy',\n",
    "       'Radiotherapy']\n",
    "\n",
    "for col in categorical_columns:\n",
    "    col_ohe = pd.get_dummies(df[col], prefix=col)\n",
    "    df_ohe = pd.concat((df_ohe, col_ohe), axis=1).drop(col, axis=1)"
   ]
  },
  {
   "cell_type": "code",
   "execution_count": 15,
   "metadata": {
    "collapsed": true
   },
   "outputs": [
    {
     "name": "stdout",
     "output_type": "stream",
     "text": [
      "Index(['Diagnosed', 'Survive', 'Age_00', 'Age_01-04', 'Age_05-09', 'Age_10-14',\n",
      "       'Age_15-19', 'Race_Black', 'Race_Other', 'Race_White', 'Sex_Female',\n",
      "       'Sex_Male', 'Stage_Distant', 'Stage_Localized', 'Stage_Regional',\n",
      "       'Site_Bones and Joints', 'Site_Kidney and Renal Pelvis', 'Site_Other',\n",
      "       'Site_Soft Tissue including Heart',\n",
      "       'Sequence number_1st of 2 or more primaries',\n",
      "       'Sequence number_2nd of 2 or more primaries',\n",
      "       'Sequence number_3rd of 3 or more primaries',\n",
      "       'Sequence number_One primary only', 'COD_Alive', 'COD_Bones and Joints',\n",
      "       'COD_Brain and Other Nervous System', 'COD_Dead Other Site',\n",
      "       'COD_Other Cause of Death', 'COD_Soft Tissue including Heart',\n",
      "       'Report_Death certificate only',\n",
      "       'Report_Hospital inpatient/outpatient or clinic',\n",
      "       'Report_Laboratory only (hospital or private)',\n",
      "       'Report_Other hospital outpatient unit or surgery center (2006+)',\n",
      "       'Report_Physicians office/private medical practitioner (LMD)',\n",
      "       'Report_Radiation treatment or medical oncology center (2006+)',\n",
      "       'Property_$60,000 - $74,999', 'Property_$75,000+', 'Property_< $60,999',\n",
      "       'Tumor size group_85-115', 'Tumor size group_< 85',\n",
      "       'Tumor size group_> 115', 'Surgery_No', 'Surgery_Unknown',\n",
      "       'Surgery_Yes', 'Chemotherapy_No', 'Chemotherapy_Yes', 'Radiotherapy_No',\n",
      "       'Radiotherapy_Yes'],\n",
      "      dtype='object')\n"
     ]
    }
   ],
   "source": [
    "print(df_ohe.columns)"
   ]
  },
  {
   "cell_type": "markdown",
   "metadata": {},
   "source": [
    "## Make survive as category"
   ]
  },
  {
   "cell_type": "code",
   "execution_count": 23,
   "metadata": {},
   "outputs": [
    {
     "data": {
      "text/plain": [
       "Survive        1610\n",
       "Dead in 5       806\n",
       "Dead in 10      102\n",
       "Dead in 10+      63\n",
       "Name: Survive, dtype: int64"
      ]
     },
     "execution_count": 23,
     "metadata": {},
     "output_type": "execute_result"
    }
   ],
   "source": [
    "df['Survive'].value_counts()"
   ]
  },
  {
   "cell_type": "code",
   "execution_count": 24,
   "metadata": {},
   "outputs": [],
   "source": [
    "df[\"Survive\"] = df[\"Survive\"].astype('category')"
   ]
  },
  {
   "cell_type": "code",
   "execution_count": 16,
   "metadata": {},
   "outputs": [
    {
     "data": {
      "text/plain": [
       "3    1610\n",
       "2     806\n",
       "0     102\n",
       "1      63\n",
       "Name: Survive, dtype: int64"
      ]
     },
     "execution_count": 16,
     "metadata": {},
     "output_type": "execute_result"
    }
   ],
   "source": [
    "df_ohe['Survive'] = df_ohe['Survive'].astype('category').cat.codes\n",
    "df_ohe['Survive'].value_counts()"
   ]
  },
  {
   "cell_type": "markdown",
   "metadata": {},
   "source": [
    "## Split trening and test data"
   ]
  },
  {
   "cell_type": "code",
   "execution_count": 17,
   "metadata": {},
   "outputs": [],
   "source": [
    "from sklearn.model_selection import train_test_split"
   ]
  },
  {
   "cell_type": "code",
   "execution_count": 18,
   "metadata": {},
   "outputs": [],
   "source": [
    "# split training and test\n",
    "training, test = train_test_split(df_ohe, test_size=0.25, random_state=35)"
   ]
  },
  {
   "cell_type": "code",
   "execution_count": 19,
   "metadata": {},
   "outputs": [],
   "source": [
    "features = training.drop([\"Survive\"], axis=1).columns"
   ]
  },
  {
   "cell_type": "markdown",
   "metadata": {},
   "source": [
    "## SVM linear"
   ]
  },
  {
   "cell_type": "code",
   "execution_count": 1,
   "metadata": {},
   "outputs": [],
   "source": [
    "from sklearn import svm\n",
    "\n",
    "clf_svm = svm.SVC(kernel='linear')"
   ]
  },
  {
   "cell_type": "code",
   "execution_count": 20,
   "metadata": {
    "scrolled": true
   },
   "outputs": [
    {
     "data": {
      "text/plain": [
       "SVC(kernel='linear')"
      ]
     },
     "execution_count": 20,
     "metadata": {},
     "output_type": "execute_result"
    }
   ],
   "source": [
    "clf_svm.fit(training[features], training['Survive'])"
   ]
  },
  {
   "cell_type": "code",
   "execution_count": 25,
   "metadata": {},
   "outputs": [
    {
     "name": "stdout",
     "output_type": "stream",
     "text": [
      "              precision    recall  f1-score   support\n",
      "\n",
      "           0       0.00      0.00      0.00        22\n",
      "           1       0.38      0.25      0.30        12\n",
      "           2       0.88      0.99      0.93       206\n",
      "           3       1.00      1.00      1.00       406\n",
      "\n",
      "    accuracy                           0.95       646\n",
      "   macro avg       0.56      0.56      0.56       646\n",
      "weighted avg       0.92      0.95      0.93       646\n",
      "\n"
     ]
    }
   ],
   "source": [
    "from sklearn.metrics import classification_report\n",
    "\n",
    "print(classification_report(test['Survive'], clf_svm.predict(test[features])))"
   ]
  },
  {
   "cell_type": "markdown",
   "metadata": {},
   "source": [
    "## SVM rbf "
   ]
  },
  {
   "cell_type": "code",
   "execution_count": 35,
   "metadata": {
    "collapsed": true
   },
   "outputs": [
    {
     "name": "stdout",
     "output_type": "stream",
     "text": [
      "              precision    recall  f1-score   support\n",
      "\n",
      "           0       1.00      0.05      0.09        22\n",
      "           1       0.33      0.17      0.22        12\n",
      "           2       0.88      1.00      0.93       206\n",
      "           3       1.00      1.00      1.00       406\n",
      "\n",
      "    accuracy                           0.95       646\n",
      "   macro avg       0.80      0.55      0.56       646\n",
      "weighted avg       0.95      0.95      0.93       646\n",
      "\n"
     ]
    }
   ],
   "source": [
    "clf_svm_rbf = svm.SVC(kernel='rbf')\n",
    "\n",
    "clf_svm_rbf.fit(training[features], training['Survive'])\n",
    "\n",
    "print(classification_report(test['Survive'], clf_svm_rbf.predict(test[features])))"
   ]
  },
  {
   "cell_type": "markdown",
   "metadata": {},
   "source": [
    "## KNN"
   ]
  },
  {
   "cell_type": "code",
   "execution_count": 44,
   "metadata": {
    "collapsed": true
   },
   "outputs": [
    {
     "name": "stdout",
     "output_type": "stream",
     "text": [
      "              precision    recall  f1-score   support\n",
      "\n",
      "           0       0.00      0.00      0.00        22\n",
      "           1       0.60      0.25      0.35        12\n",
      "           2       0.90      0.88      0.89       206\n",
      "           3       0.93      1.00      0.96       406\n",
      "\n",
      "    accuracy                           0.91       646\n",
      "   macro avg       0.61      0.53      0.55       646\n",
      "weighted avg       0.88      0.91      0.89       646\n",
      "\n"
     ]
    }
   ],
   "source": [
    "from sklearn.neighbors import KNeighborsClassifier\n",
    "clf_knn = KNeighborsClassifier(n_neighbors=5,weights='distance')\n",
    "\n",
    "clf_knn.fit(training[features], training['Survive'])\n",
    "print(classification_report(test['Survive'], clf_knn.predict(test[features])))"
   ]
  },
  {
   "cell_type": "code",
   "execution_count": null,
   "metadata": {},
   "outputs": [],
   "source": []
  },
  {
   "cell_type": "markdown",
   "metadata": {},
   "source": [
    "## Decision Tree"
   ]
  },
  {
   "cell_type": "code",
   "execution_count": 45,
   "metadata": {},
   "outputs": [
    {
     "name": "stdout",
     "output_type": "stream",
     "text": [
      "              precision    recall  f1-score   support\n",
      "\n",
      "           0       0.00      0.00      0.00        22\n",
      "           1       0.29      0.42      0.34        12\n",
      "           2       0.89      0.97      0.93       206\n",
      "           3       1.00      1.00      1.00       406\n",
      "\n",
      "    accuracy                           0.94       646\n",
      "   macro avg       0.55      0.60      0.57       646\n",
      "weighted avg       0.92      0.94      0.93       646\n",
      "\n"
     ]
    },
    {
     "name": "stderr",
     "output_type": "stream",
     "text": [
      "C:\\anaconda3\\lib\\site-packages\\sklearn\\metrics\\_classification.py:1221: UndefinedMetricWarning: Precision and F-score are ill-defined and being set to 0.0 in labels with no predicted samples. Use `zero_division` parameter to control this behavior.\n",
      "  _warn_prf(average, modifier, msg_start, len(result))\n"
     ]
    }
   ],
   "source": [
    "from sklearn import tree\n",
    "clf_dtree = tree.DecisionTreeClassifier(max_leaf_nodes = 10, min_samples_leaf = 5, max_depth= 5)\n",
    "\n",
    "clf_dtree.fit(training[features], training['Survive'])\n",
    "print(classification_report(test['Survive'], clf_dtree.predict(test[features])))"
   ]
  },
  {
   "cell_type": "markdown",
   "metadata": {},
   "source": [
    "### Using cross validation, k=5, with DT "
   ]
  },
  {
   "cell_type": "code",
   "execution_count": 51,
   "metadata": {
    "collapsed": true
   },
   "outputs": [
    {
     "name": "stdout",
     "output_type": "stream",
     "text": [
      "              precision    recall  f1-score   support\n",
      "\n",
      "           0       0.00      0.00      0.00        22\n",
      "           1       0.20      0.17      0.18        12\n",
      "           2       0.88      0.98      0.93       206\n",
      "           3       1.00      1.00      1.00       406\n",
      "\n",
      "    accuracy                           0.94       646\n",
      "   macro avg       0.52      0.54      0.53       646\n",
      "weighted avg       0.91      0.94      0.93       646\n",
      "\n"
     ]
    },
    {
     "name": "stderr",
     "output_type": "stream",
     "text": [
      "C:\\anaconda3\\lib\\site-packages\\sklearn\\metrics\\_classification.py:1221: UndefinedMetricWarning: Precision and F-score are ill-defined and being set to 0.0 in labels with no predicted samples. Use `zero_division` parameter to control this behavior.\n",
      "  _warn_prf(average, modifier, msg_start, len(result))\n"
     ]
    }
   ],
   "source": [
    "from sklearn.model_selection import StratifiedKFold\n",
    "from sklearn.feature_selection import RFECV\n",
    "\n",
    "rfecv = RFECV(estimator=clf_dtree, cv=StratifiedKFold(2), scoring='f1_micro')\n",
    "rfecv.fit(training[features], training['Survive'])\n",
    "print(classification_report(test['Survive'], rfecv.predict(test[features])))"
   ]
  },
  {
   "cell_type": "markdown",
   "metadata": {},
   "source": [
    "## Naive Bayes Gaussian"
   ]
  },
  {
   "cell_type": "code",
   "execution_count": 52,
   "metadata": {
    "collapsed": true
   },
   "outputs": [
    {
     "name": "stdout",
     "output_type": "stream",
     "text": [
      "              precision    recall  f1-score   support\n",
      "\n",
      "           0       0.08      0.23      0.12        22\n",
      "           1       0.06      0.83      0.11        12\n",
      "           2       0.90      0.04      0.08       206\n",
      "           3       1.00      1.00      1.00       406\n",
      "\n",
      "    accuracy                           0.67       646\n",
      "   macro avg       0.51      0.53      0.33       646\n",
      "weighted avg       0.92      0.67      0.66       646\n",
      "\n"
     ]
    }
   ],
   "source": [
    "from sklearn.naive_bayes import GaussianNB\n",
    "\n",
    "clf_gnb = GaussianNB()\n",
    "\n",
    "clf_gnb.fit(training[features], training['Survive'])\n",
    "print(classification_report(test['Survive'], clf_gnb.predict(test[features])))"
   ]
  },
  {
   "cell_type": "markdown",
   "metadata": {},
   "source": [
    "## Logistic regression"
   ]
  },
  {
   "cell_type": "code",
   "execution_count": 54,
   "metadata": {
    "collapsed": true
   },
   "outputs": [
    {
     "name": "stdout",
     "output_type": "stream",
     "text": [
      "              precision    recall  f1-score   support\n",
      "\n",
      "           0       0.00      0.00      0.00        22\n",
      "           1       0.33      0.25      0.29        12\n",
      "           2       0.88      0.98      0.92       206\n",
      "           3       1.00      1.00      1.00       406\n",
      "\n",
      "    accuracy                           0.94       646\n",
      "   macro avg       0.55      0.56      0.55       646\n",
      "weighted avg       0.91      0.94      0.93       646\n",
      "\n"
     ]
    },
    {
     "name": "stderr",
     "output_type": "stream",
     "text": [
      "C:\\anaconda3\\lib\\site-packages\\sklearn\\linear_model\\_logistic.py:762: ConvergenceWarning: lbfgs failed to converge (status=1):\n",
      "STOP: TOTAL NO. of ITERATIONS REACHED LIMIT.\n",
      "\n",
      "Increase the number of iterations (max_iter) or scale the data as shown in:\n",
      "    https://scikit-learn.org/stable/modules/preprocessing.html\n",
      "Please also refer to the documentation for alternative solver options:\n",
      "    https://scikit-learn.org/stable/modules/linear_model.html#logistic-regression\n",
      "  n_iter_i = _check_optimize_result(\n"
     ]
    }
   ],
   "source": [
    "from sklearn.linear_model import LogisticRegression\n",
    "\n",
    "clf_log = LogisticRegression()\n",
    "\n",
    "clf_log.fit(training[features], training['Survive'])\n",
    "print(classification_report(test['Survive'], clf_log.predict(test[features])))"
   ]
  },
  {
   "cell_type": "markdown",
   "metadata": {},
   "source": [
    "## Random forest"
   ]
  },
  {
   "cell_type": "code",
   "execution_count": 60,
   "metadata": {},
   "outputs": [
    {
     "name": "stdout",
     "output_type": "stream",
     "text": [
      "              precision    recall  f1-score   support\n",
      "\n",
      "           0       0.00      0.00      0.00        22\n",
      "           1       0.00      0.00      0.00        12\n",
      "           2       0.86      1.00      0.92       206\n",
      "           3       1.00      1.00      1.00       406\n",
      "\n",
      "    accuracy                           0.95       646\n",
      "   macro avg       0.46      0.50      0.48       646\n",
      "weighted avg       0.90      0.95      0.92       646\n",
      "\n"
     ]
    },
    {
     "name": "stderr",
     "output_type": "stream",
     "text": [
      "C:\\anaconda3\\lib\\site-packages\\sklearn\\metrics\\_classification.py:1221: UndefinedMetricWarning: Precision and F-score are ill-defined and being set to 0.0 in labels with no predicted samples. Use `zero_division` parameter to control this behavior.\n",
      "  _warn_prf(average, modifier, msg_start, len(result))\n"
     ]
    }
   ],
   "source": [
    "from sklearn.ensemble import RandomForestClassifier\n",
    "\n",
    "clf_rf = RandomForestClassifier(max_depth=3, random_state=0)\n",
    "\n",
    "clf_rf.fit(training[features], training['Survive'])\n",
    "print(classification_report(test['Survive'], clf_rf.predict(test[features])))"
   ]
  },
  {
   "cell_type": "markdown",
   "metadata": {},
   "source": [
    "## Ada boots"
   ]
  },
  {
   "cell_type": "code",
   "execution_count": 62,
   "metadata": {
    "collapsed": true
   },
   "outputs": [
    {
     "name": "stdout",
     "output_type": "stream",
     "text": [
      "              precision    recall  f1-score   support\n",
      "\n",
      "           0       0.00      0.00      0.00        22\n",
      "           1       0.00      0.00      0.00        12\n",
      "           2       0.86      1.00      0.92       206\n",
      "           3       1.00      1.00      1.00       406\n",
      "\n",
      "    accuracy                           0.95       646\n",
      "   macro avg       0.46      0.50      0.48       646\n",
      "weighted avg       0.90      0.95      0.92       646\n",
      "\n"
     ]
    },
    {
     "name": "stderr",
     "output_type": "stream",
     "text": [
      "C:\\anaconda3\\lib\\site-packages\\sklearn\\metrics\\_classification.py:1221: UndefinedMetricWarning: Precision and F-score are ill-defined and being set to 0.0 in labels with no predicted samples. Use `zero_division` parameter to control this behavior.\n",
      "  _warn_prf(average, modifier, msg_start, len(result))\n"
     ]
    }
   ],
   "source": [
    "from sklearn.ensemble import AdaBoostClassifier\n",
    "\n",
    "clf_ab = AdaBoostClassifier(n_estimators=76, random_state=0)\n",
    "\n",
    "clf_ab.fit(training[features], training['Survive'])\n",
    "print(classification_report(test['Survive'], clf_ab.predict(test[features])))"
   ]
  },
  {
   "cell_type": "markdown",
   "metadata": {},
   "source": [
    "## XGBoots"
   ]
  },
  {
   "cell_type": "code",
   "execution_count": 80,
   "metadata": {},
   "outputs": [],
   "source": [
    "training1 = training\n",
    "test1 = test"
   ]
  },
  {
   "cell_type": "code",
   "execution_count": 81,
   "metadata": {},
   "outputs": [],
   "source": [
    "import re\n",
    "\n",
    "regex = re.compile(r\"\\[|\\]|<\", re.IGNORECASE)\n",
    "\n",
    "training1.columns = [regex.sub(\"_\", col) if any(x in str(col) for x in set(('[', ']', '<'))) else col for col in training1.columns.values]\n",
    "test1.columns = [regex.sub(\"_\", col) if any(x in str(col) for x in set(('[', ']', '<'))) else col for col in test1.columns.values]\n"
   ]
  },
  {
   "cell_type": "code",
   "execution_count": 82,
   "metadata": {
    "collapsed": true
   },
   "outputs": [
    {
     "data": {
      "text/plain": [
       "Index(['Diagnosed', 'Survive', 'Age_00', 'Age_01-04', 'Age_05-09', 'Age_10-14',\n",
       "       'Age_15-19', 'Race_Black', 'Race_Other', 'Race_White', 'Sex_Female',\n",
       "       'Sex_Male', 'Stage_Distant', 'Stage_Localized', 'Stage_Regional',\n",
       "       'Site_Bones and Joints', 'Site_Kidney and Renal Pelvis', 'Site_Other',\n",
       "       'Site_Soft Tissue including Heart',\n",
       "       'Sequence number_1st of 2 or more primaries',\n",
       "       'Sequence number_2nd of 2 or more primaries',\n",
       "       'Sequence number_3rd of 3 or more primaries',\n",
       "       'Sequence number_One primary only', 'COD_Alive', 'COD_Bones and Joints',\n",
       "       'COD_Brain and Other Nervous System', 'COD_Dead Other Site',\n",
       "       'COD_Other Cause of Death', 'COD_Soft Tissue including Heart',\n",
       "       'Report_Death certificate only',\n",
       "       'Report_Hospital inpatient/outpatient or clinic',\n",
       "       'Report_Laboratory only (hospital or private)',\n",
       "       'Report_Other hospital outpatient unit or surgery center (2006+)',\n",
       "       'Report_Physicians office/private medical practitioner (LMD)',\n",
       "       'Report_Radiation treatment or medical oncology center (2006+)',\n",
       "       'Property_$60,000 - $74,999', 'Property_$75,000+', 'Property__ $60,999',\n",
       "       'Tumor size group_85-115', 'Tumor size group__ 85',\n",
       "       'Tumor size group_> 115', 'Surgery_No', 'Surgery_Unknown',\n",
       "       'Surgery_Yes', 'Chemotherapy_No', 'Chemotherapy_Yes', 'Radiotherapy_No',\n",
       "       'Radiotherapy_Yes'],\n",
       "      dtype='object')"
      ]
     },
     "execution_count": 82,
     "metadata": {},
     "output_type": "execute_result"
    }
   ],
   "source": [
    "features1 = training1.columns\n",
    "features1"
   ]
  },
  {
   "cell_type": "code",
   "execution_count": 118,
   "metadata": {},
   "outputs": [],
   "source": [
    "import xgboost as xgb"
   ]
  },
  {
   "cell_type": "code",
   "execution_count": 119,
   "metadata": {},
   "outputs": [],
   "source": [
    "dtrain = xgb.DMatrix(training1[features1], training1['Survive'])\n",
    "dtest = xgb.DMatrix(test1[features1], test1['Survive'])"
   ]
  },
  {
   "cell_type": "code",
   "execution_count": 120,
   "metadata": {},
   "outputs": [],
   "source": [
    "params = {\n",
    "    'max_depth':10,\n",
    "    'min_child_weight': 1,\n",
    "    'eta':.3,\n",
    "    'subsample': 0.6,\n",
    "    'colsample_bytree': 0.6,\n",
    "    'objective':'multi:softmax',\n",
    "    'num_class': 4,\n",
    "    'eval_metric' : 'merror'\n",
    "}"
   ]
  },
  {
   "cell_type": "code",
   "execution_count": 121,
   "metadata": {},
   "outputs": [
    {
     "name": "stdout",
     "output_type": "stream",
     "text": [
      "[0]\tTrain-merror:0.05530\n",
      "[1]\tTrain-merror:0.04496\n",
      "[2]\tTrain-merror:0.04238\n",
      "[3]\tTrain-merror:0.04238\n",
      "[4]\tTrain-merror:0.03979\n",
      "[5]\tTrain-merror:0.03979\n",
      "[6]\tTrain-merror:0.03876\n",
      "[7]\tTrain-merror:0.03979\n",
      "[8]\tTrain-merror:0.03928\n",
      "[9]\tTrain-merror:0.03773\n",
      "[10]\tTrain-merror:0.03411\n",
      "[11]\tTrain-merror:0.03204\n",
      "[12]\tTrain-merror:0.03308\n",
      "[13]\tTrain-merror:0.03359\n",
      "[14]\tTrain-merror:0.02997\n",
      "[15]\tTrain-merror:0.02842\n",
      "[16]\tTrain-merror:0.02584\n",
      "[17]\tTrain-merror:0.02377\n",
      "[18]\tTrain-merror:0.02170\n",
      "[19]\tTrain-merror:0.02015\n",
      "[20]\tTrain-merror:0.01705\n",
      "[21]\tTrain-merror:0.01499\n",
      "[22]\tTrain-merror:0.01447\n",
      "[23]\tTrain-merror:0.01550\n",
      "[24]\tTrain-merror:0.01344\n",
      "[25]\tTrain-merror:0.01189\n",
      "[26]\tTrain-merror:0.01085\n",
      "[27]\tTrain-merror:0.01085\n",
      "[28]\tTrain-merror:0.01034\n",
      "[29]\tTrain-merror:0.01034\n",
      "[30]\tTrain-merror:0.00879\n",
      "[31]\tTrain-merror:0.00775\n",
      "[32]\tTrain-merror:0.00672\n",
      "[33]\tTrain-merror:0.00724\n",
      "[34]\tTrain-merror:0.00568\n",
      "[35]\tTrain-merror:0.00517\n",
      "[36]\tTrain-merror:0.00465\n",
      "[37]\tTrain-merror:0.00465\n",
      "[38]\tTrain-merror:0.00465\n",
      "[39]\tTrain-merror:0.00517\n",
      "[40]\tTrain-merror:0.00517\n",
      "[41]\tTrain-merror:0.00413\n",
      "[42]\tTrain-merror:0.00465\n",
      "[43]\tTrain-merror:0.00465\n",
      "[44]\tTrain-merror:0.00413\n",
      "[45]\tTrain-merror:0.00362\n",
      "[46]\tTrain-merror:0.00310\n",
      "[47]\tTrain-merror:0.00207\n",
      "[48]\tTrain-merror:0.00258\n",
      "[49]\tTrain-merror:0.00207\n",
      "[50]\tTrain-merror:0.00155\n",
      "[51]\tTrain-merror:0.00155\n",
      "[52]\tTrain-merror:0.00155\n",
      "[53]\tTrain-merror:0.00103\n",
      "[54]\tTrain-merror:0.00155\n",
      "[55]\tTrain-merror:0.00155\n",
      "[56]\tTrain-merror:0.00207\n",
      "[57]\tTrain-merror:0.00103\n",
      "[58]\tTrain-merror:0.00052\n",
      "[59]\tTrain-merror:0.00103\n",
      "[60]\tTrain-merror:0.00103\n",
      "[61]\tTrain-merror:0.00103\n",
      "[62]\tTrain-merror:0.00103\n",
      "[63]\tTrain-merror:0.00103\n",
      "[64]\tTrain-merror:0.00052\n",
      "[65]\tTrain-merror:0.00103\n",
      "[66]\tTrain-merror:0.00052\n",
      "[67]\tTrain-merror:0.00103\n",
      "[68]\tTrain-merror:0.00103\n",
      "[69]\tTrain-merror:0.00103\n",
      "[70]\tTrain-merror:0.00052\n",
      "[71]\tTrain-merror:0.00103\n",
      "[72]\tTrain-merror:0.00000\n",
      "[73]\tTrain-merror:0.00052\n",
      "[74]\tTrain-merror:0.00052\n",
      "[75]\tTrain-merror:0.00052\n",
      "[76]\tTrain-merror:0.00052\n",
      "[77]\tTrain-merror:0.00000\n",
      "[78]\tTrain-merror:0.00052\n",
      "[79]\tTrain-merror:0.00052\n",
      "[80]\tTrain-merror:0.00052\n",
      "[81]\tTrain-merror:0.00052\n",
      "[82]\tTrain-merror:0.00103\n",
      "[83]\tTrain-merror:0.00103\n",
      "[84]\tTrain-merror:0.00052\n",
      "[85]\tTrain-merror:0.00052\n",
      "[86]\tTrain-merror:0.00052\n",
      "[87]\tTrain-merror:0.00052\n",
      "[88]\tTrain-merror:0.00052\n",
      "[89]\tTrain-merror:0.00052\n",
      "[90]\tTrain-merror:0.00052\n",
      "[91]\tTrain-merror:0.00052\n",
      "[92]\tTrain-merror:0.00052\n",
      "[93]\tTrain-merror:0.00000\n",
      "[94]\tTrain-merror:0.00052\n",
      "[95]\tTrain-merror:0.00000\n",
      "[96]\tTrain-merror:0.00000\n",
      "[97]\tTrain-merror:0.00000\n",
      "[98]\tTrain-merror:0.00000\n",
      "[99]\tTrain-merror:0.00000\n",
      "[100]\tTrain-merror:0.00000\n",
      "[101]\tTrain-merror:0.00000\n",
      "[102]\tTrain-merror:0.00000\n",
      "[103]\tTrain-merror:0.00000\n",
      "[104]\tTrain-merror:0.00000\n",
      "[105]\tTrain-merror:0.00000\n",
      "[106]\tTrain-merror:0.00000\n",
      "[107]\tTrain-merror:0.00000\n",
      "[108]\tTrain-merror:0.00000\n",
      "[109]\tTrain-merror:0.00000\n",
      "[110]\tTrain-merror:0.00000\n",
      "[111]\tTrain-merror:0.00000\n",
      "[112]\tTrain-merror:0.00000\n",
      "[113]\tTrain-merror:0.00000\n",
      "[114]\tTrain-merror:0.00000\n",
      "[115]\tTrain-merror:0.00000\n",
      "[116]\tTrain-merror:0.00000\n",
      "[117]\tTrain-merror:0.00000\n",
      "[118]\tTrain-merror:0.00000\n",
      "[119]\tTrain-merror:0.00000\n",
      "[120]\tTrain-merror:0.00000\n",
      "[121]\tTrain-merror:0.00000\n",
      "[122]\tTrain-merror:0.00000\n",
      "[123]\tTrain-merror:0.00000\n",
      "[124]\tTrain-merror:0.00000\n",
      "[125]\tTrain-merror:0.00000\n",
      "[126]\tTrain-merror:0.00000\n",
      "[127]\tTrain-merror:0.00000\n",
      "[128]\tTrain-merror:0.00000\n",
      "[129]\tTrain-merror:0.00000\n",
      "[130]\tTrain-merror:0.00000\n",
      "[131]\tTrain-merror:0.00000\n",
      "[132]\tTrain-merror:0.00000\n",
      "[133]\tTrain-merror:0.00000\n",
      "[134]\tTrain-merror:0.00000\n",
      "[135]\tTrain-merror:0.00000\n",
      "[136]\tTrain-merror:0.00000\n",
      "[137]\tTrain-merror:0.00000\n",
      "[138]\tTrain-merror:0.00000\n",
      "[139]\tTrain-merror:0.00000\n",
      "[140]\tTrain-merror:0.00000\n",
      "[141]\tTrain-merror:0.00000\n",
      "[142]\tTrain-merror:0.00000\n",
      "[143]\tTrain-merror:0.00000\n",
      "[144]\tTrain-merror:0.00000\n",
      "[145]\tTrain-merror:0.00000\n",
      "[146]\tTrain-merror:0.00000\n",
      "[147]\tTrain-merror:0.00000\n",
      "[148]\tTrain-merror:0.00000\n",
      "[149]\tTrain-merror:0.00000\n",
      "[150]\tTrain-merror:0.00000\n",
      "[151]\tTrain-merror:0.00000\n",
      "[152]\tTrain-merror:0.00000\n",
      "[153]\tTrain-merror:0.00000\n",
      "[154]\tTrain-merror:0.00000\n",
      "[155]\tTrain-merror:0.00000\n",
      "[156]\tTrain-merror:0.00000\n",
      "[157]\tTrain-merror:0.00000\n",
      "[158]\tTrain-merror:0.00000\n",
      "[159]\tTrain-merror:0.00000\n",
      "[160]\tTrain-merror:0.00000\n",
      "[161]\tTrain-merror:0.00000\n",
      "[162]\tTrain-merror:0.00000\n",
      "[163]\tTrain-merror:0.00000\n",
      "[164]\tTrain-merror:0.00000\n",
      "[165]\tTrain-merror:0.00000\n",
      "[166]\tTrain-merror:0.00000\n",
      "[167]\tTrain-merror:0.00000\n",
      "[168]\tTrain-merror:0.00000\n",
      "[169]\tTrain-merror:0.00000\n",
      "[170]\tTrain-merror:0.00000\n",
      "[171]\tTrain-merror:0.00000\n",
      "[172]\tTrain-merror:0.00000\n",
      "[173]\tTrain-merror:0.00000\n",
      "[174]\tTrain-merror:0.00000\n",
      "[175]\tTrain-merror:0.00000\n",
      "[176]\tTrain-merror:0.00000\n",
      "[177]\tTrain-merror:0.00000\n",
      "[178]\tTrain-merror:0.00000\n",
      "[179]\tTrain-merror:0.00000\n",
      "[180]\tTrain-merror:0.00000\n",
      "[181]\tTrain-merror:0.00000\n",
      "[182]\tTrain-merror:0.00000\n",
      "[183]\tTrain-merror:0.00000\n",
      "[184]\tTrain-merror:0.00000\n",
      "[185]\tTrain-merror:0.00000\n",
      "[186]\tTrain-merror:0.00000\n",
      "[187]\tTrain-merror:0.00000\n",
      "[188]\tTrain-merror:0.00000\n",
      "[189]\tTrain-merror:0.00000\n",
      "[190]\tTrain-merror:0.00000\n",
      "[191]\tTrain-merror:0.00000\n",
      "[192]\tTrain-merror:0.00000\n",
      "[193]\tTrain-merror:0.00000\n",
      "[194]\tTrain-merror:0.00000\n",
      "[195]\tTrain-merror:0.00000\n",
      "[196]\tTrain-merror:0.00000\n",
      "[197]\tTrain-merror:0.00000\n",
      "[198]\tTrain-merror:0.00000\n",
      "[199]\tTrain-merror:0.00000\n",
      "[200]\tTrain-merror:0.00000\n",
      "[201]\tTrain-merror:0.00000\n",
      "[202]\tTrain-merror:0.00000\n",
      "[203]\tTrain-merror:0.00000\n",
      "[204]\tTrain-merror:0.00000\n",
      "[205]\tTrain-merror:0.00000\n",
      "[206]\tTrain-merror:0.00000\n",
      "[207]\tTrain-merror:0.00000\n",
      "[208]\tTrain-merror:0.00000\n",
      "[209]\tTrain-merror:0.00000\n",
      "[210]\tTrain-merror:0.00000\n",
      "[211]\tTrain-merror:0.00000\n",
      "[212]\tTrain-merror:0.00000\n",
      "[213]\tTrain-merror:0.00000\n",
      "[214]\tTrain-merror:0.00000\n",
      "[215]\tTrain-merror:0.00000\n",
      "[216]\tTrain-merror:0.00000\n",
      "[217]\tTrain-merror:0.00000\n",
      "[218]\tTrain-merror:0.00000\n",
      "[219]\tTrain-merror:0.00000\n",
      "[220]\tTrain-merror:0.00000\n",
      "[221]\tTrain-merror:0.00000\n",
      "[222]\tTrain-merror:0.00000\n",
      "[223]\tTrain-merror:0.00000\n",
      "[224]\tTrain-merror:0.00000\n",
      "[225]\tTrain-merror:0.00000\n",
      "[226]\tTrain-merror:0.00000\n",
      "[227]\tTrain-merror:0.00000\n",
      "[228]\tTrain-merror:0.00000\n",
      "[229]\tTrain-merror:0.00000\n",
      "[230]\tTrain-merror:0.00000\n",
      "[231]\tTrain-merror:0.00000\n",
      "[232]\tTrain-merror:0.00000\n",
      "[233]\tTrain-merror:0.00000\n",
      "[234]\tTrain-merror:0.00000\n",
      "[235]\tTrain-merror:0.00000\n",
      "[236]\tTrain-merror:0.00000\n",
      "[237]\tTrain-merror:0.00000\n",
      "[238]\tTrain-merror:0.00000\n",
      "[239]\tTrain-merror:0.00000\n",
      "[240]\tTrain-merror:0.00000\n",
      "[241]\tTrain-merror:0.00000\n",
      "[242]\tTrain-merror:0.00000\n",
      "[243]\tTrain-merror:0.00000\n",
      "[244]\tTrain-merror:0.00000\n",
      "[245]\tTrain-merror:0.00000\n",
      "[246]\tTrain-merror:0.00000\n",
      "[247]\tTrain-merror:0.00000\n",
      "[248]\tTrain-merror:0.00000\n",
      "[249]\tTrain-merror:0.00000\n",
      "[250]\tTrain-merror:0.00000\n",
      "[251]\tTrain-merror:0.00000\n",
      "[252]\tTrain-merror:0.00000\n",
      "[253]\tTrain-merror:0.00000\n",
      "[254]\tTrain-merror:0.00000\n",
      "[255]\tTrain-merror:0.00000\n",
      "[256]\tTrain-merror:0.00000\n",
      "[257]\tTrain-merror:0.00000\n",
      "[258]\tTrain-merror:0.00000\n",
      "[259]\tTrain-merror:0.00000\n",
      "[260]\tTrain-merror:0.00000\n",
      "[261]\tTrain-merror:0.00000\n",
      "[262]\tTrain-merror:0.00000\n",
      "[263]\tTrain-merror:0.00000\n",
      "[264]\tTrain-merror:0.00000\n",
      "[265]\tTrain-merror:0.00000\n",
      "[266]\tTrain-merror:0.00000\n",
      "[267]\tTrain-merror:0.00000\n",
      "[268]\tTrain-merror:0.00000\n",
      "[269]\tTrain-merror:0.00000\n",
      "[270]\tTrain-merror:0.00000\n",
      "[271]\tTrain-merror:0.00000\n",
      "[272]\tTrain-merror:0.00000\n",
      "[273]\tTrain-merror:0.00000\n",
      "[274]\tTrain-merror:0.00000\n",
      "[275]\tTrain-merror:0.00000\n",
      "[276]\tTrain-merror:0.00000\n",
      "[277]\tTrain-merror:0.00000\n",
      "[278]\tTrain-merror:0.00000\n",
      "[279]\tTrain-merror:0.00000\n",
      "[280]\tTrain-merror:0.00000\n",
      "[281]\tTrain-merror:0.00000\n",
      "[282]\tTrain-merror:0.00000\n",
      "[283]\tTrain-merror:0.00000\n",
      "[284]\tTrain-merror:0.00000\n",
      "[285]\tTrain-merror:0.00000\n",
      "[286]\tTrain-merror:0.00000\n",
      "[287]\tTrain-merror:0.00000\n",
      "[288]\tTrain-merror:0.00000\n",
      "[289]\tTrain-merror:0.00000\n",
      "[290]\tTrain-merror:0.00000\n",
      "[291]\tTrain-merror:0.00000\n",
      "[292]\tTrain-merror:0.00000\n",
      "[293]\tTrain-merror:0.00000\n",
      "[294]\tTrain-merror:0.00000\n",
      "[295]\tTrain-merror:0.00000\n",
      "[296]\tTrain-merror:0.00000\n",
      "[297]\tTrain-merror:0.00000\n",
      "[298]\tTrain-merror:0.00000\n",
      "[299]\tTrain-merror:0.00000\n",
      "[300]\tTrain-merror:0.00000\n",
      "[301]\tTrain-merror:0.00000\n",
      "[302]\tTrain-merror:0.00000\n",
      "[303]\tTrain-merror:0.00000\n",
      "[304]\tTrain-merror:0.00000\n",
      "[305]\tTrain-merror:0.00000\n",
      "[306]\tTrain-merror:0.00000\n",
      "[307]\tTrain-merror:0.00000\n"
     ]
    },
    {
     "name": "stdout",
     "output_type": "stream",
     "text": [
      "[308]\tTrain-merror:0.00000\n",
      "[309]\tTrain-merror:0.00000\n",
      "[310]\tTrain-merror:0.00000\n",
      "[311]\tTrain-merror:0.00000\n",
      "[312]\tTrain-merror:0.00000\n",
      "[313]\tTrain-merror:0.00000\n",
      "[314]\tTrain-merror:0.00000\n",
      "[315]\tTrain-merror:0.00000\n",
      "[316]\tTrain-merror:0.00000\n",
      "[317]\tTrain-merror:0.00000\n",
      "[318]\tTrain-merror:0.00000\n",
      "[319]\tTrain-merror:0.00000\n",
      "[320]\tTrain-merror:0.00000\n",
      "[321]\tTrain-merror:0.00000\n",
      "[322]\tTrain-merror:0.00000\n",
      "[323]\tTrain-merror:0.00000\n",
      "[324]\tTrain-merror:0.00000\n",
      "[325]\tTrain-merror:0.00000\n",
      "[326]\tTrain-merror:0.00000\n",
      "[327]\tTrain-merror:0.00000\n",
      "[328]\tTrain-merror:0.00000\n",
      "[329]\tTrain-merror:0.00000\n",
      "[330]\tTrain-merror:0.00000\n",
      "[331]\tTrain-merror:0.00000\n",
      "[332]\tTrain-merror:0.00000\n",
      "[333]\tTrain-merror:0.00000\n",
      "[334]\tTrain-merror:0.00000\n",
      "[335]\tTrain-merror:0.00000\n",
      "[336]\tTrain-merror:0.00000\n",
      "[337]\tTrain-merror:0.00000\n",
      "[338]\tTrain-merror:0.00000\n",
      "[339]\tTrain-merror:0.00000\n",
      "[340]\tTrain-merror:0.00000\n",
      "[341]\tTrain-merror:0.00000\n",
      "[342]\tTrain-merror:0.00000\n",
      "[343]\tTrain-merror:0.00000\n",
      "[344]\tTrain-merror:0.00000\n",
      "[345]\tTrain-merror:0.00000\n",
      "[346]\tTrain-merror:0.00000\n",
      "[347]\tTrain-merror:0.00000\n",
      "[348]\tTrain-merror:0.00000\n",
      "[349]\tTrain-merror:0.00000\n",
      "[350]\tTrain-merror:0.00000\n",
      "[351]\tTrain-merror:0.00000\n",
      "[352]\tTrain-merror:0.00000\n",
      "[353]\tTrain-merror:0.00000\n",
      "[354]\tTrain-merror:0.00000\n",
      "[355]\tTrain-merror:0.00000\n",
      "[356]\tTrain-merror:0.00000\n",
      "[357]\tTrain-merror:0.00000\n",
      "[358]\tTrain-merror:0.00000\n",
      "[359]\tTrain-merror:0.00000\n",
      "[360]\tTrain-merror:0.00000\n",
      "[361]\tTrain-merror:0.00000\n",
      "[362]\tTrain-merror:0.00000\n",
      "[363]\tTrain-merror:0.00000\n",
      "[364]\tTrain-merror:0.00000\n",
      "[365]\tTrain-merror:0.00000\n",
      "[366]\tTrain-merror:0.00000\n",
      "[367]\tTrain-merror:0.00000\n",
      "[368]\tTrain-merror:0.00000\n",
      "[369]\tTrain-merror:0.00000\n",
      "[370]\tTrain-merror:0.00000\n",
      "[371]\tTrain-merror:0.00000\n",
      "[372]\tTrain-merror:0.00000\n",
      "[373]\tTrain-merror:0.00000\n",
      "[374]\tTrain-merror:0.00000\n",
      "[375]\tTrain-merror:0.00000\n",
      "[376]\tTrain-merror:0.00000\n",
      "[377]\tTrain-merror:0.00000\n",
      "[378]\tTrain-merror:0.00000\n",
      "[379]\tTrain-merror:0.00000\n",
      "[380]\tTrain-merror:0.00000\n",
      "[381]\tTrain-merror:0.00000\n",
      "[382]\tTrain-merror:0.00000\n",
      "[383]\tTrain-merror:0.00000\n",
      "[384]\tTrain-merror:0.00000\n",
      "[385]\tTrain-merror:0.00000\n",
      "[386]\tTrain-merror:0.00000\n",
      "[387]\tTrain-merror:0.00000\n",
      "[388]\tTrain-merror:0.00000\n",
      "[389]\tTrain-merror:0.00000\n",
      "[390]\tTrain-merror:0.00000\n",
      "[391]\tTrain-merror:0.00000\n",
      "[392]\tTrain-merror:0.00000\n",
      "[393]\tTrain-merror:0.00000\n",
      "[394]\tTrain-merror:0.00000\n",
      "[395]\tTrain-merror:0.00000\n",
      "[396]\tTrain-merror:0.00000\n",
      "[397]\tTrain-merror:0.00000\n",
      "[398]\tTrain-merror:0.00000\n",
      "[399]\tTrain-merror:0.00000\n",
      "[400]\tTrain-merror:0.00000\n",
      "[401]\tTrain-merror:0.00000\n",
      "[402]\tTrain-merror:0.00000\n",
      "[403]\tTrain-merror:0.00000\n",
      "[404]\tTrain-merror:0.00000\n",
      "[405]\tTrain-merror:0.00000\n",
      "[406]\tTrain-merror:0.00000\n",
      "[407]\tTrain-merror:0.00000\n",
      "[408]\tTrain-merror:0.00000\n",
      "[409]\tTrain-merror:0.00000\n",
      "[410]\tTrain-merror:0.00000\n",
      "[411]\tTrain-merror:0.00000\n",
      "[412]\tTrain-merror:0.00000\n",
      "[413]\tTrain-merror:0.00000\n",
      "[414]\tTrain-merror:0.00000\n",
      "[415]\tTrain-merror:0.00000\n",
      "[416]\tTrain-merror:0.00000\n",
      "[417]\tTrain-merror:0.00000\n",
      "[418]\tTrain-merror:0.00000\n",
      "[419]\tTrain-merror:0.00000\n",
      "[420]\tTrain-merror:0.00000\n",
      "[421]\tTrain-merror:0.00000\n",
      "[422]\tTrain-merror:0.00000\n",
      "[423]\tTrain-merror:0.00000\n",
      "[424]\tTrain-merror:0.00000\n",
      "[425]\tTrain-merror:0.00000\n",
      "[426]\tTrain-merror:0.00000\n",
      "[427]\tTrain-merror:0.00000\n",
      "[428]\tTrain-merror:0.00000\n",
      "[429]\tTrain-merror:0.00000\n",
      "[430]\tTrain-merror:0.00000\n",
      "[431]\tTrain-merror:0.00000\n",
      "[432]\tTrain-merror:0.00000\n",
      "[433]\tTrain-merror:0.00000\n",
      "[434]\tTrain-merror:0.00000\n",
      "[435]\tTrain-merror:0.00000\n",
      "[436]\tTrain-merror:0.00000\n",
      "[437]\tTrain-merror:0.00000\n",
      "[438]\tTrain-merror:0.00000\n",
      "[439]\tTrain-merror:0.00000\n",
      "[440]\tTrain-merror:0.00000\n",
      "[441]\tTrain-merror:0.00000\n",
      "[442]\tTrain-merror:0.00000\n",
      "[443]\tTrain-merror:0.00000\n",
      "[444]\tTrain-merror:0.00000\n",
      "[445]\tTrain-merror:0.00000\n",
      "[446]\tTrain-merror:0.00000\n",
      "[447]\tTrain-merror:0.00000\n",
      "[448]\tTrain-merror:0.00000\n",
      "[449]\tTrain-merror:0.00000\n",
      "[450]\tTrain-merror:0.00000\n",
      "[451]\tTrain-merror:0.00000\n",
      "[452]\tTrain-merror:0.00000\n",
      "[453]\tTrain-merror:0.00000\n",
      "[454]\tTrain-merror:0.00000\n",
      "[455]\tTrain-merror:0.00000\n",
      "[456]\tTrain-merror:0.00000\n",
      "[457]\tTrain-merror:0.00000\n",
      "[458]\tTrain-merror:0.00000\n",
      "[459]\tTrain-merror:0.00000\n",
      "[460]\tTrain-merror:0.00000\n",
      "[461]\tTrain-merror:0.00000\n",
      "[462]\tTrain-merror:0.00000\n",
      "[463]\tTrain-merror:0.00000\n",
      "[464]\tTrain-merror:0.00000\n",
      "[465]\tTrain-merror:0.00000\n",
      "[466]\tTrain-merror:0.00000\n",
      "[467]\tTrain-merror:0.00000\n",
      "[468]\tTrain-merror:0.00000\n",
      "[469]\tTrain-merror:0.00000\n",
      "[470]\tTrain-merror:0.00000\n",
      "[471]\tTrain-merror:0.00000\n",
      "[472]\tTrain-merror:0.00000\n",
      "[473]\tTrain-merror:0.00000\n",
      "[474]\tTrain-merror:0.00000\n",
      "[475]\tTrain-merror:0.00000\n",
      "[476]\tTrain-merror:0.00000\n",
      "[477]\tTrain-merror:0.00000\n",
      "[478]\tTrain-merror:0.00000\n",
      "[479]\tTrain-merror:0.00000\n",
      "[480]\tTrain-merror:0.00000\n",
      "[481]\tTrain-merror:0.00000\n",
      "[482]\tTrain-merror:0.00000\n",
      "[483]\tTrain-merror:0.00000\n",
      "[484]\tTrain-merror:0.00000\n",
      "[485]\tTrain-merror:0.00000\n",
      "[486]\tTrain-merror:0.00000\n",
      "[487]\tTrain-merror:0.00000\n",
      "[488]\tTrain-merror:0.00000\n",
      "[489]\tTrain-merror:0.00000\n",
      "[490]\tTrain-merror:0.00000\n",
      "[491]\tTrain-merror:0.00000\n",
      "[492]\tTrain-merror:0.00000\n",
      "[493]\tTrain-merror:0.00000\n",
      "[494]\tTrain-merror:0.00000\n",
      "[495]\tTrain-merror:0.00000\n",
      "[496]\tTrain-merror:0.00000\n",
      "[497]\tTrain-merror:0.00000\n",
      "[498]\tTrain-merror:0.00000\n",
      "[499]\tTrain-merror:0.00000\n",
      "[500]\tTrain-merror:0.00000\n",
      "[501]\tTrain-merror:0.00000\n",
      "[502]\tTrain-merror:0.00000\n",
      "[503]\tTrain-merror:0.00000\n",
      "[504]\tTrain-merror:0.00000\n",
      "[505]\tTrain-merror:0.00000\n",
      "[506]\tTrain-merror:0.00000\n",
      "[507]\tTrain-merror:0.00000\n",
      "[508]\tTrain-merror:0.00000\n",
      "[509]\tTrain-merror:0.00000\n",
      "[510]\tTrain-merror:0.00000\n",
      "[511]\tTrain-merror:0.00000\n",
      "[512]\tTrain-merror:0.00000\n",
      "[513]\tTrain-merror:0.00000\n",
      "[514]\tTrain-merror:0.00000\n",
      "[515]\tTrain-merror:0.00000\n",
      "[516]\tTrain-merror:0.00000\n",
      "[517]\tTrain-merror:0.00000\n",
      "[518]\tTrain-merror:0.00000\n",
      "[519]\tTrain-merror:0.00000\n",
      "[520]\tTrain-merror:0.00000\n",
      "[521]\tTrain-merror:0.00000\n",
      "[522]\tTrain-merror:0.00000\n",
      "[523]\tTrain-merror:0.00000\n",
      "[524]\tTrain-merror:0.00000\n",
      "[525]\tTrain-merror:0.00000\n",
      "[526]\tTrain-merror:0.00000\n",
      "[527]\tTrain-merror:0.00000\n",
      "[528]\tTrain-merror:0.00000\n",
      "[529]\tTrain-merror:0.00000\n",
      "[530]\tTrain-merror:0.00000\n",
      "[531]\tTrain-merror:0.00000\n",
      "[532]\tTrain-merror:0.00000\n",
      "[533]\tTrain-merror:0.00000\n",
      "[534]\tTrain-merror:0.00000\n",
      "[535]\tTrain-merror:0.00000\n",
      "[536]\tTrain-merror:0.00000\n",
      "[537]\tTrain-merror:0.00000\n",
      "[538]\tTrain-merror:0.00000\n",
      "[539]\tTrain-merror:0.00000\n",
      "[540]\tTrain-merror:0.00000\n",
      "[541]\tTrain-merror:0.00000\n",
      "[542]\tTrain-merror:0.00000\n",
      "[543]\tTrain-merror:0.00000\n",
      "[544]\tTrain-merror:0.00000\n",
      "[545]\tTrain-merror:0.00000\n",
      "[546]\tTrain-merror:0.00000\n",
      "[547]\tTrain-merror:0.00000\n",
      "[548]\tTrain-merror:0.00000\n",
      "[549]\tTrain-merror:0.00000\n",
      "[550]\tTrain-merror:0.00000\n",
      "[551]\tTrain-merror:0.00000\n",
      "[552]\tTrain-merror:0.00000\n",
      "[553]\tTrain-merror:0.00000\n",
      "[554]\tTrain-merror:0.00000\n",
      "[555]\tTrain-merror:0.00000\n",
      "[556]\tTrain-merror:0.00000\n",
      "[557]\tTrain-merror:0.00000\n",
      "[558]\tTrain-merror:0.00000\n",
      "[559]\tTrain-merror:0.00000\n",
      "[560]\tTrain-merror:0.00000\n",
      "[561]\tTrain-merror:0.00000\n",
      "[562]\tTrain-merror:0.00000\n",
      "[563]\tTrain-merror:0.00000\n",
      "[564]\tTrain-merror:0.00000\n",
      "[565]\tTrain-merror:0.00000\n",
      "[566]\tTrain-merror:0.00000\n",
      "[567]\tTrain-merror:0.00000\n",
      "[568]\tTrain-merror:0.00000\n",
      "[569]\tTrain-merror:0.00000\n",
      "[570]\tTrain-merror:0.00000\n",
      "[571]\tTrain-merror:0.00000\n",
      "[572]\tTrain-merror:0.00000\n",
      "[573]\tTrain-merror:0.00000\n",
      "[574]\tTrain-merror:0.00000\n",
      "[575]\tTrain-merror:0.00000\n",
      "[576]\tTrain-merror:0.00000\n",
      "[577]\tTrain-merror:0.00000\n",
      "[578]\tTrain-merror:0.00000\n",
      "[579]\tTrain-merror:0.00000\n",
      "[580]\tTrain-merror:0.00000\n",
      "[581]\tTrain-merror:0.00000\n",
      "[582]\tTrain-merror:0.00000\n",
      "[583]\tTrain-merror:0.00000\n",
      "[584]\tTrain-merror:0.00000\n",
      "[585]\tTrain-merror:0.00000\n",
      "[586]\tTrain-merror:0.00000\n",
      "[587]\tTrain-merror:0.00000\n",
      "[588]\tTrain-merror:0.00000\n",
      "[589]\tTrain-merror:0.00000\n",
      "[590]\tTrain-merror:0.00000\n",
      "[591]\tTrain-merror:0.00000\n",
      "[592]\tTrain-merror:0.00000\n",
      "[593]\tTrain-merror:0.00000\n",
      "[594]\tTrain-merror:0.00000\n",
      "[595]\tTrain-merror:0.00000\n",
      "[596]\tTrain-merror:0.00000\n",
      "[597]\tTrain-merror:0.00000\n",
      "[598]\tTrain-merror:0.00000\n",
      "[599]\tTrain-merror:0.00000\n",
      "[600]\tTrain-merror:0.00000\n",
      "[601]\tTrain-merror:0.00000\n",
      "[602]\tTrain-merror:0.00000\n",
      "[603]\tTrain-merror:0.00000\n",
      "[604]\tTrain-merror:0.00000\n",
      "[605]\tTrain-merror:0.00000\n",
      "[606]\tTrain-merror:0.00000\n",
      "[607]\tTrain-merror:0.00000\n",
      "[608]\tTrain-merror:0.00000\n",
      "[609]\tTrain-merror:0.00000\n",
      "[610]\tTrain-merror:0.00000\n",
      "[611]\tTrain-merror:0.00000\n"
     ]
    },
    {
     "name": "stdout",
     "output_type": "stream",
     "text": [
      "[612]\tTrain-merror:0.00000\n",
      "[613]\tTrain-merror:0.00000\n",
      "[614]\tTrain-merror:0.00000\n",
      "[615]\tTrain-merror:0.00000\n",
      "[616]\tTrain-merror:0.00000\n",
      "[617]\tTrain-merror:0.00000\n",
      "[618]\tTrain-merror:0.00000\n",
      "[619]\tTrain-merror:0.00000\n",
      "[620]\tTrain-merror:0.00000\n",
      "[621]\tTrain-merror:0.00000\n",
      "[622]\tTrain-merror:0.00000\n",
      "[623]\tTrain-merror:0.00000\n",
      "[624]\tTrain-merror:0.00000\n",
      "[625]\tTrain-merror:0.00000\n",
      "[626]\tTrain-merror:0.00000\n",
      "[627]\tTrain-merror:0.00000\n",
      "[628]\tTrain-merror:0.00000\n",
      "[629]\tTrain-merror:0.00000\n",
      "[630]\tTrain-merror:0.00000\n",
      "[631]\tTrain-merror:0.00000\n",
      "[632]\tTrain-merror:0.00000\n",
      "[633]\tTrain-merror:0.00000\n",
      "[634]\tTrain-merror:0.00000\n",
      "[635]\tTrain-merror:0.00000\n",
      "[636]\tTrain-merror:0.00000\n",
      "[637]\tTrain-merror:0.00000\n",
      "[638]\tTrain-merror:0.00000\n",
      "[639]\tTrain-merror:0.00000\n",
      "[640]\tTrain-merror:0.00000\n",
      "[641]\tTrain-merror:0.00000\n",
      "[642]\tTrain-merror:0.00000\n",
      "[643]\tTrain-merror:0.00000\n",
      "[644]\tTrain-merror:0.00000\n",
      "[645]\tTrain-merror:0.00000\n",
      "[646]\tTrain-merror:0.00000\n",
      "[647]\tTrain-merror:0.00000\n",
      "[648]\tTrain-merror:0.00000\n",
      "[649]\tTrain-merror:0.00000\n",
      "[650]\tTrain-merror:0.00000\n",
      "[651]\tTrain-merror:0.00000\n",
      "[652]\tTrain-merror:0.00000\n",
      "[653]\tTrain-merror:0.00000\n",
      "[654]\tTrain-merror:0.00000\n",
      "[655]\tTrain-merror:0.00000\n",
      "[656]\tTrain-merror:0.00000\n",
      "[657]\tTrain-merror:0.00000\n",
      "[658]\tTrain-merror:0.00000\n",
      "[659]\tTrain-merror:0.00000\n",
      "[660]\tTrain-merror:0.00000\n",
      "[661]\tTrain-merror:0.00000\n",
      "[662]\tTrain-merror:0.00000\n",
      "[663]\tTrain-merror:0.00000\n",
      "[664]\tTrain-merror:0.00000\n",
      "[665]\tTrain-merror:0.00000\n",
      "[666]\tTrain-merror:0.00000\n",
      "[667]\tTrain-merror:0.00000\n",
      "[668]\tTrain-merror:0.00000\n",
      "[669]\tTrain-merror:0.00000\n",
      "[670]\tTrain-merror:0.00000\n",
      "[671]\tTrain-merror:0.00000\n",
      "[672]\tTrain-merror:0.00000\n",
      "[673]\tTrain-merror:0.00000\n",
      "[674]\tTrain-merror:0.00000\n",
      "[675]\tTrain-merror:0.00000\n",
      "[676]\tTrain-merror:0.00000\n",
      "[677]\tTrain-merror:0.00000\n",
      "[678]\tTrain-merror:0.00000\n",
      "[679]\tTrain-merror:0.00000\n",
      "[680]\tTrain-merror:0.00000\n",
      "[681]\tTrain-merror:0.00000\n",
      "[682]\tTrain-merror:0.00000\n",
      "[683]\tTrain-merror:0.00000\n",
      "[684]\tTrain-merror:0.00000\n",
      "[685]\tTrain-merror:0.00000\n",
      "[686]\tTrain-merror:0.00000\n",
      "[687]\tTrain-merror:0.00000\n",
      "[688]\tTrain-merror:0.00000\n",
      "[689]\tTrain-merror:0.00000\n",
      "[690]\tTrain-merror:0.00000\n",
      "[691]\tTrain-merror:0.00000\n",
      "[692]\tTrain-merror:0.00000\n",
      "[693]\tTrain-merror:0.00000\n",
      "[694]\tTrain-merror:0.00000\n",
      "[695]\tTrain-merror:0.00000\n",
      "[696]\tTrain-merror:0.00000\n",
      "[697]\tTrain-merror:0.00000\n",
      "[698]\tTrain-merror:0.00000\n",
      "[699]\tTrain-merror:0.00000\n",
      "[700]\tTrain-merror:0.00000\n",
      "[701]\tTrain-merror:0.00000\n",
      "[702]\tTrain-merror:0.00000\n",
      "[703]\tTrain-merror:0.00000\n",
      "[704]\tTrain-merror:0.00000\n",
      "[705]\tTrain-merror:0.00000\n",
      "[706]\tTrain-merror:0.00000\n",
      "[707]\tTrain-merror:0.00000\n",
      "[708]\tTrain-merror:0.00000\n",
      "[709]\tTrain-merror:0.00000\n",
      "[710]\tTrain-merror:0.00000\n",
      "[711]\tTrain-merror:0.00000\n",
      "[712]\tTrain-merror:0.00000\n",
      "[713]\tTrain-merror:0.00000\n",
      "[714]\tTrain-merror:0.00000\n",
      "[715]\tTrain-merror:0.00000\n",
      "[716]\tTrain-merror:0.00000\n",
      "[717]\tTrain-merror:0.00000\n",
      "[718]\tTrain-merror:0.00000\n",
      "[719]\tTrain-merror:0.00000\n",
      "[720]\tTrain-merror:0.00000\n",
      "[721]\tTrain-merror:0.00000\n",
      "[722]\tTrain-merror:0.00000\n",
      "[723]\tTrain-merror:0.00000\n",
      "[724]\tTrain-merror:0.00000\n",
      "[725]\tTrain-merror:0.00000\n",
      "[726]\tTrain-merror:0.00000\n",
      "[727]\tTrain-merror:0.00000\n",
      "[728]\tTrain-merror:0.00000\n",
      "[729]\tTrain-merror:0.00000\n",
      "[730]\tTrain-merror:0.00000\n",
      "[731]\tTrain-merror:0.00000\n",
      "[732]\tTrain-merror:0.00000\n",
      "[733]\tTrain-merror:0.00000\n",
      "[734]\tTrain-merror:0.00000\n",
      "[735]\tTrain-merror:0.00000\n",
      "[736]\tTrain-merror:0.00000\n",
      "[737]\tTrain-merror:0.00000\n",
      "[738]\tTrain-merror:0.00000\n",
      "[739]\tTrain-merror:0.00000\n",
      "[740]\tTrain-merror:0.00000\n",
      "[741]\tTrain-merror:0.00000\n",
      "[742]\tTrain-merror:0.00000\n",
      "[743]\tTrain-merror:0.00000\n",
      "[744]\tTrain-merror:0.00000\n",
      "[745]\tTrain-merror:0.00000\n",
      "[746]\tTrain-merror:0.00000\n",
      "[747]\tTrain-merror:0.00000\n",
      "[748]\tTrain-merror:0.00000\n",
      "[749]\tTrain-merror:0.00000\n",
      "[750]\tTrain-merror:0.00000\n",
      "[751]\tTrain-merror:0.00000\n",
      "[752]\tTrain-merror:0.00000\n",
      "[753]\tTrain-merror:0.00000\n",
      "[754]\tTrain-merror:0.00000\n",
      "[755]\tTrain-merror:0.00000\n",
      "[756]\tTrain-merror:0.00000\n",
      "[757]\tTrain-merror:0.00000\n",
      "[758]\tTrain-merror:0.00000\n",
      "[759]\tTrain-merror:0.00000\n",
      "[760]\tTrain-merror:0.00000\n",
      "[761]\tTrain-merror:0.00000\n",
      "[762]\tTrain-merror:0.00000\n",
      "[763]\tTrain-merror:0.00000\n",
      "[764]\tTrain-merror:0.00000\n",
      "[765]\tTrain-merror:0.00000\n",
      "[766]\tTrain-merror:0.00000\n",
      "[767]\tTrain-merror:0.00000\n",
      "[768]\tTrain-merror:0.00000\n",
      "[769]\tTrain-merror:0.00000\n",
      "[770]\tTrain-merror:0.00000\n",
      "[771]\tTrain-merror:0.00000\n",
      "[772]\tTrain-merror:0.00000\n",
      "[773]\tTrain-merror:0.00000\n",
      "[774]\tTrain-merror:0.00000\n",
      "[775]\tTrain-merror:0.00000\n",
      "[776]\tTrain-merror:0.00000\n",
      "[777]\tTrain-merror:0.00000\n",
      "[778]\tTrain-merror:0.00000\n",
      "[779]\tTrain-merror:0.00000\n",
      "[780]\tTrain-merror:0.00000\n",
      "[781]\tTrain-merror:0.00000\n",
      "[782]\tTrain-merror:0.00000\n",
      "[783]\tTrain-merror:0.00000\n",
      "[784]\tTrain-merror:0.00000\n",
      "[785]\tTrain-merror:0.00000\n",
      "[786]\tTrain-merror:0.00000\n",
      "[787]\tTrain-merror:0.00000\n",
      "[788]\tTrain-merror:0.00000\n",
      "[789]\tTrain-merror:0.00000\n",
      "[790]\tTrain-merror:0.00000\n",
      "[791]\tTrain-merror:0.00000\n",
      "[792]\tTrain-merror:0.00000\n",
      "[793]\tTrain-merror:0.00000\n",
      "[794]\tTrain-merror:0.00000\n",
      "[795]\tTrain-merror:0.00000\n",
      "[796]\tTrain-merror:0.00000\n",
      "[797]\tTrain-merror:0.00000\n",
      "[798]\tTrain-merror:0.00000\n",
      "[799]\tTrain-merror:0.00000\n",
      "[800]\tTrain-merror:0.00000\n",
      "[801]\tTrain-merror:0.00000\n",
      "[802]\tTrain-merror:0.00000\n",
      "[803]\tTrain-merror:0.00000\n",
      "[804]\tTrain-merror:0.00000\n",
      "[805]\tTrain-merror:0.00000\n",
      "[806]\tTrain-merror:0.00000\n",
      "[807]\tTrain-merror:0.00000\n",
      "[808]\tTrain-merror:0.00000\n",
      "[809]\tTrain-merror:0.00000\n",
      "[810]\tTrain-merror:0.00000\n",
      "[811]\tTrain-merror:0.00000\n",
      "[812]\tTrain-merror:0.00000\n",
      "[813]\tTrain-merror:0.00000\n",
      "[814]\tTrain-merror:0.00000\n",
      "[815]\tTrain-merror:0.00000\n",
      "[816]\tTrain-merror:0.00000\n",
      "[817]\tTrain-merror:0.00000\n",
      "[818]\tTrain-merror:0.00000\n",
      "[819]\tTrain-merror:0.00000\n",
      "[820]\tTrain-merror:0.00000\n",
      "[821]\tTrain-merror:0.00000\n",
      "[822]\tTrain-merror:0.00000\n",
      "[823]\tTrain-merror:0.00000\n",
      "[824]\tTrain-merror:0.00000\n",
      "[825]\tTrain-merror:0.00000\n",
      "[826]\tTrain-merror:0.00000\n",
      "[827]\tTrain-merror:0.00000\n",
      "[828]\tTrain-merror:0.00000\n",
      "[829]\tTrain-merror:0.00000\n",
      "[830]\tTrain-merror:0.00000\n",
      "[831]\tTrain-merror:0.00000\n",
      "[832]\tTrain-merror:0.00000\n",
      "[833]\tTrain-merror:0.00000\n",
      "[834]\tTrain-merror:0.00000\n",
      "[835]\tTrain-merror:0.00000\n",
      "[836]\tTrain-merror:0.00000\n",
      "[837]\tTrain-merror:0.00000\n",
      "[838]\tTrain-merror:0.00000\n",
      "[839]\tTrain-merror:0.00000\n",
      "[840]\tTrain-merror:0.00000\n",
      "[841]\tTrain-merror:0.00000\n",
      "[842]\tTrain-merror:0.00000\n",
      "[843]\tTrain-merror:0.00000\n",
      "[844]\tTrain-merror:0.00000\n",
      "[845]\tTrain-merror:0.00000\n",
      "[846]\tTrain-merror:0.00000\n",
      "[847]\tTrain-merror:0.00000\n",
      "[848]\tTrain-merror:0.00000\n",
      "[849]\tTrain-merror:0.00000\n",
      "[850]\tTrain-merror:0.00000\n",
      "[851]\tTrain-merror:0.00000\n",
      "[852]\tTrain-merror:0.00000\n",
      "[853]\tTrain-merror:0.00000\n",
      "[854]\tTrain-merror:0.00000\n",
      "[855]\tTrain-merror:0.00000\n",
      "[856]\tTrain-merror:0.00000\n",
      "[857]\tTrain-merror:0.00000\n",
      "[858]\tTrain-merror:0.00000\n",
      "[859]\tTrain-merror:0.00000\n",
      "[860]\tTrain-merror:0.00000\n",
      "[861]\tTrain-merror:0.00000\n",
      "[862]\tTrain-merror:0.00000\n",
      "[863]\tTrain-merror:0.00000\n",
      "[864]\tTrain-merror:0.00000\n",
      "[865]\tTrain-merror:0.00000\n",
      "[866]\tTrain-merror:0.00000\n",
      "[867]\tTrain-merror:0.00000\n",
      "[868]\tTrain-merror:0.00000\n",
      "[869]\tTrain-merror:0.00000\n",
      "[870]\tTrain-merror:0.00000\n",
      "[871]\tTrain-merror:0.00000\n",
      "[872]\tTrain-merror:0.00000\n",
      "[873]\tTrain-merror:0.00000\n",
      "[874]\tTrain-merror:0.00000\n",
      "[875]\tTrain-merror:0.00000\n",
      "[876]\tTrain-merror:0.00000\n",
      "[877]\tTrain-merror:0.00000\n",
      "[878]\tTrain-merror:0.00000\n",
      "[879]\tTrain-merror:0.00000\n",
      "[880]\tTrain-merror:0.00000\n",
      "[881]\tTrain-merror:0.00000\n",
      "[882]\tTrain-merror:0.00000\n",
      "[883]\tTrain-merror:0.00000\n",
      "[884]\tTrain-merror:0.00000\n",
      "[885]\tTrain-merror:0.00000\n",
      "[886]\tTrain-merror:0.00000\n",
      "[887]\tTrain-merror:0.00000\n",
      "[888]\tTrain-merror:0.00000\n",
      "[889]\tTrain-merror:0.00000\n",
      "[890]\tTrain-merror:0.00000\n",
      "[891]\tTrain-merror:0.00000\n",
      "[892]\tTrain-merror:0.00000\n",
      "[893]\tTrain-merror:0.00000\n",
      "[894]\tTrain-merror:0.00000\n",
      "[895]\tTrain-merror:0.00000\n",
      "[896]\tTrain-merror:0.00000\n",
      "[897]\tTrain-merror:0.00000\n",
      "[898]\tTrain-merror:0.00000\n",
      "[899]\tTrain-merror:0.00000\n",
      "[900]\tTrain-merror:0.00000\n",
      "[901]\tTrain-merror:0.00000\n",
      "[902]\tTrain-merror:0.00000\n",
      "[903]\tTrain-merror:0.00000\n",
      "[904]\tTrain-merror:0.00000\n",
      "[905]\tTrain-merror:0.00000\n",
      "[906]\tTrain-merror:0.00000\n",
      "[907]\tTrain-merror:0.00000\n",
      "[908]\tTrain-merror:0.00000\n",
      "[909]\tTrain-merror:0.00000\n",
      "[910]\tTrain-merror:0.00000\n",
      "[911]\tTrain-merror:0.00000\n",
      "[912]\tTrain-merror:0.00000\n",
      "[913]\tTrain-merror:0.00000\n",
      "[914]\tTrain-merror:0.00000\n",
      "[915]\tTrain-merror:0.00000\n"
     ]
    },
    {
     "name": "stdout",
     "output_type": "stream",
     "text": [
      "[916]\tTrain-merror:0.00000\n",
      "[917]\tTrain-merror:0.00000\n",
      "[918]\tTrain-merror:0.00000\n",
      "[919]\tTrain-merror:0.00000\n",
      "[920]\tTrain-merror:0.00000\n",
      "[921]\tTrain-merror:0.00000\n",
      "[922]\tTrain-merror:0.00000\n",
      "[923]\tTrain-merror:0.00000\n",
      "[924]\tTrain-merror:0.00000\n",
      "[925]\tTrain-merror:0.00000\n",
      "[926]\tTrain-merror:0.00000\n",
      "[927]\tTrain-merror:0.00000\n",
      "[928]\tTrain-merror:0.00000\n",
      "[929]\tTrain-merror:0.00000\n",
      "[930]\tTrain-merror:0.00000\n",
      "[931]\tTrain-merror:0.00000\n",
      "[932]\tTrain-merror:0.00000\n",
      "[933]\tTrain-merror:0.00000\n",
      "[934]\tTrain-merror:0.00000\n",
      "[935]\tTrain-merror:0.00000\n",
      "[936]\tTrain-merror:0.00000\n",
      "[937]\tTrain-merror:0.00000\n",
      "[938]\tTrain-merror:0.00000\n",
      "[939]\tTrain-merror:0.00000\n",
      "[940]\tTrain-merror:0.00000\n",
      "[941]\tTrain-merror:0.00000\n",
      "[942]\tTrain-merror:0.00000\n",
      "[943]\tTrain-merror:0.00000\n",
      "[944]\tTrain-merror:0.00000\n",
      "[945]\tTrain-merror:0.00000\n",
      "[946]\tTrain-merror:0.00000\n",
      "[947]\tTrain-merror:0.00000\n",
      "[948]\tTrain-merror:0.00000\n",
      "[949]\tTrain-merror:0.00000\n",
      "[950]\tTrain-merror:0.00000\n",
      "[951]\tTrain-merror:0.00000\n",
      "[952]\tTrain-merror:0.00000\n",
      "[953]\tTrain-merror:0.00000\n",
      "[954]\tTrain-merror:0.00000\n",
      "[955]\tTrain-merror:0.00000\n",
      "[956]\tTrain-merror:0.00000\n",
      "[957]\tTrain-merror:0.00000\n",
      "[958]\tTrain-merror:0.00000\n",
      "[959]\tTrain-merror:0.00000\n",
      "[960]\tTrain-merror:0.00000\n",
      "[961]\tTrain-merror:0.00000\n",
      "[962]\tTrain-merror:0.00000\n",
      "[963]\tTrain-merror:0.00000\n",
      "[964]\tTrain-merror:0.00000\n",
      "[965]\tTrain-merror:0.00000\n",
      "[966]\tTrain-merror:0.00000\n",
      "[967]\tTrain-merror:0.00000\n",
      "[968]\tTrain-merror:0.00000\n",
      "[969]\tTrain-merror:0.00000\n",
      "[970]\tTrain-merror:0.00000\n",
      "[971]\tTrain-merror:0.00000\n",
      "[972]\tTrain-merror:0.00000\n",
      "[973]\tTrain-merror:0.00000\n",
      "[974]\tTrain-merror:0.00000\n",
      "[975]\tTrain-merror:0.00000\n",
      "[976]\tTrain-merror:0.00000\n",
      "[977]\tTrain-merror:0.00000\n",
      "[978]\tTrain-merror:0.00000\n",
      "[979]\tTrain-merror:0.00000\n",
      "[980]\tTrain-merror:0.00000\n",
      "[981]\tTrain-merror:0.00000\n",
      "[982]\tTrain-merror:0.00000\n",
      "[983]\tTrain-merror:0.00000\n",
      "[984]\tTrain-merror:0.00000\n",
      "[985]\tTrain-merror:0.00000\n",
      "[986]\tTrain-merror:0.00000\n",
      "[987]\tTrain-merror:0.00000\n",
      "[988]\tTrain-merror:0.00000\n",
      "[989]\tTrain-merror:0.00000\n",
      "[990]\tTrain-merror:0.00000\n",
      "[991]\tTrain-merror:0.00000\n",
      "[992]\tTrain-merror:0.00000\n",
      "[993]\tTrain-merror:0.00000\n",
      "[994]\tTrain-merror:0.00000\n",
      "[995]\tTrain-merror:0.00000\n",
      "[996]\tTrain-merror:0.00000\n",
      "[997]\tTrain-merror:0.00000\n",
      "[998]\tTrain-merror:0.00000\n"
     ]
    }
   ],
   "source": [
    "model = xgb.train(\n",
    "    params,\n",
    "    dtrain,\n",
    "    #evals=[(dtest, \"Test\")], ovde treba koristiti validacioni skup\n",
    "    evals=[(dtrain, \"Train\")],\n",
    "    #early_stopping_rounds=35,\n",
    "    num_boost_round=999\n",
    ")"
   ]
  },
  {
   "cell_type": "code",
   "execution_count": 122,
   "metadata": {},
   "outputs": [
    {
     "name": "stdout",
     "output_type": "stream",
     "text": [
      "              precision    recall  f1-score   support\n",
      "\n",
      "           0       0.18      0.18      0.18        22\n",
      "           1       0.33      0.42      0.37        12\n",
      "           2       0.91      0.89      0.90       206\n",
      "           3       1.00      1.00      1.00       406\n",
      "\n",
      "    accuracy                           0.93       646\n",
      "   macro avg       0.61      0.62      0.61       646\n",
      "weighted avg       0.93      0.93      0.93       646\n",
      "\n"
     ]
    }
   ],
   "source": [
    "print(classification_report(test['Survive'], model.predict(dtest).astype(int)))"
   ]
  },
  {
   "cell_type": "code",
   "execution_count": 123,
   "metadata": {
    "collapsed": true
   },
   "outputs": [
    {
     "data": {
      "text/plain": [
       "<AxesSubplot:title={'center':'Feature importance'}, xlabel='F score', ylabel='Features'>"
      ]
     },
     "execution_count": 123,
     "metadata": {},
     "output_type": "execute_result"
    },
    {
     "data": {
      "image/png": "[encoded data removed]",
      "text/plain": [
       "<Figure size 432x288 with 1 Axes>"
      ]
     },
     "metadata": {
      "needs_background": "light"
     },
     "output_type": "display_data"
    }
   ],
   "source": [
    "from xgboost import plot_importance\n",
    "\n",
    "plot_importance(model)"
   ]
  },
  {
   "cell_type": "markdown",
   "metadata": {},
   "source": [
    "## Select the best parameters for prediction\n",
    "\n",
    "#### k=10,20,30,40?"
   ]
  },
  {
   "cell_type": "code",
   "execution_count": 124,
   "metadata": {
    "collapsed": true
   },
   "outputs": [
    {
     "name": "stderr",
     "output_type": "stream",
     "text": [
      "C:\\anaconda3\\lib\\site-packages\\sklearn\\feature_selection\\_univariate_selection.py:114: UserWarning: Features [33] are constant.\n",
      "  warnings.warn(\"Features %s are constant.\" % constant_features_idx,\n",
      "C:\\anaconda3\\lib\\site-packages\\sklearn\\feature_selection\\_univariate_selection.py:116: RuntimeWarning: invalid value encountered in true_divide\n",
      "  f = msb / msw\n"
     ]
    },
    {
     "data": {
      "text/plain": [
       "array([ 0,  1,  2,  3,  5,  6,  7,  8,  9, 10, 11, 12, 13, 14, 15, 16, 17,\n",
       "       18, 21, 22, 23, 24, 25, 26, 27, 28, 29, 30, 34, 35, 37, 38, 39, 40,\n",
       "       41, 42, 43, 44, 45, 46], dtype=int64)"
      ]
     },
     "execution_count": 124,
     "metadata": {},
     "output_type": "execute_result"
    }
   ],
   "source": [
    "from sklearn.feature_selection import SelectKBest, f_classif\n",
    "#f_classif, Compute the ANOVA F-value for the provided sample. - savetuje se kada su numericki atributi, a kategorijalna klasa\n",
    "\n",
    "sb = SelectKBest(score_func=f_classif, k=40).fit(training[features1], training['Survive'])\n",
    "train_x_vectors_new = sb.transform(training[features1])\n",
    "sb.get_support(indices=True)"
   ]
  },
  {
   "cell_type": "code",
   "execution_count": 125,
   "metadata": {
    "collapsed": true
   },
   "outputs": [
    {
     "data": {
      "text/plain": [
       "['Diagnosed',\n",
       " 'Survive',\n",
       " 'Age_00',\n",
       " 'Age_01-04',\n",
       " 'Age_10-14',\n",
       " 'Age_15-19',\n",
       " 'Race_Black',\n",
       " 'Race_Other',\n",
       " 'Race_White',\n",
       " 'Sex_Female',\n",
       " 'Sex_Male',\n",
       " 'Stage_Distant',\n",
       " 'Stage_Localized',\n",
       " 'Stage_Regional',\n",
       " 'Site_Bones and Joints',\n",
       " 'Site_Kidney and Renal Pelvis',\n",
       " 'Site_Other',\n",
       " 'Site_Soft Tissue including Heart',\n",
       " 'Sequence number_3rd of 3 or more primaries',\n",
       " 'Sequence number_One primary only',\n",
       " 'COD_Alive',\n",
       " 'COD_Bones and Joints',\n",
       " 'COD_Brain and Other Nervous System',\n",
       " 'COD_Dead Other Site',\n",
       " 'COD_Other Cause of Death',\n",
       " 'COD_Soft Tissue including Heart',\n",
       " 'Report_Death certificate only',\n",
       " 'Report_Hospital inpatient/outpatient or clinic',\n",
       " 'Report_Radiation treatment or medical oncology center (2006+)',\n",
       " 'Property_$60,000 - $74,999',\n",
       " 'Property_< $60,999',\n",
       " 'Tumor size group_85-115',\n",
       " 'Tumor size group_< 85',\n",
       " 'Tumor size group_> 115',\n",
       " 'Surgery_No',\n",
       " 'Surgery_Unknown',\n",
       " 'Surgery_Yes',\n",
       " 'Chemotherapy_No',\n",
       " 'Chemotherapy_Yes',\n",
       " 'Radiotherapy_No']"
      ]
     },
     "execution_count": 125,
     "metadata": {},
     "output_type": "execute_result"
    }
   ],
   "source": [
    "df_ohe.columns[sb.get_support(indices=True)].tolist()"
   ]
  },
  {
   "cell_type": "code",
   "execution_count": 100,
   "metadata": {},
   "outputs": [
    {
     "data": {
      "text/plain": [
       "48"
      ]
     },
     "execution_count": 100,
     "metadata": {},
     "output_type": "execute_result"
    }
   ],
   "source": [
    "df_ohe.columns.size"
   ]
  },
  {
   "cell_type": "markdown",
   "metadata": {},
   "source": [
    "## Using Random forest to select best parameters"
   ]
  },
  {
   "cell_type": "code",
   "execution_count": 126,
   "metadata": {
    "collapsed": true
   },
   "outputs": [
    {
     "name": "stdout",
     "output_type": "stream",
     "text": [
      "Optimalan broj atributa : 4\n"
     ]
    },
    {
     "data": {
      "image/png": "[encoded data removed]",
      "text/plain": [
       "<Figure size 432x288 with 1 Axes>"
      ]
     },
     "metadata": {
      "needs_background": "light"
     },
     "output_type": "display_data"
    }
   ],
   "source": [
    "dtree_clf = tree.DecisionTreeClassifier(max_leaf_nodes = 10, min_samples_leaf = 5, max_depth= 5)\n",
    "rfecv = RFECV(estimator=dtree_clf, cv=StratifiedKFold(5), scoring='f1_micro')\n",
    "\n",
    "rfecv.fit(training[features1], training['Survive'])\n",
    "\n",
    "print(\"Optimalan broj atributa : %d\" % rfecv.n_features_)\n",
    "\n",
    "#Prikazujemo broj atributa i rezultate unakrsne validacije \n",
    "plt.figure()\n",
    "plt.xlabel(\"Broj odabranih atributa\")\n",
    "plt.ylabel(\"Mera dobijena pomoću unakrsne validacije.\")\n",
    "plt.plot(range(1, len(rfecv.grid_scores_) + 1), rfecv.grid_scores_)\n",
    "plt.show()"
   ]
  },
  {
   "cell_type": "code",
   "execution_count": 127,
   "metadata": {
    "collapsed": true
   },
   "outputs": [
    {
     "data": {
      "text/plain": [
       "Index(['Diagnosed', 'Sequence number_1st of 2 or more primaries', 'COD_Alive',\n",
       "       'COD_Other Cause of Death'],\n",
       "      dtype='object')"
      ]
     },
     "execution_count": 127,
     "metadata": {},
     "output_type": "execute_result"
    }
   ],
   "source": [
    "features1[rfecv.support_]"
   ]
  },
  {
   "cell_type": "code",
   "execution_count": null,
   "metadata": {},
   "outputs": [],
   "source": [
    "#### optimizacija hiperparametara"
   ]
  },
  {
   "cell_type": "code",
   "execution_count": 128,
   "metadata": {},
   "outputs": [
    {
     "data": {
      "text/plain": [
       "SVC()"
      ]
     },
     "execution_count": 128,
     "metadata": {},
     "output_type": "execute_result"
    }
   ],
   "source": [
    "from sklearn.model_selection import GridSearchCV\n",
    "\n",
    "#tuned_svm = svm.SVC()\n",
    "svm.SVC()"
   ]
  },
  {
   "cell_type": "code",
   "execution_count": null,
   "metadata": {
    "scrolled": false
   },
   "outputs": [],
   "source": []
  },
  {
   "cell_type": "code",
   "execution_count": null,
   "metadata": {},
   "outputs": [],
   "source": []
  },
  {
   "cell_type": "code",
   "execution_count": null,
   "metadata": {},
   "outputs": [],
   "source": []
  },
  {
   "cell_type": "code",
   "execution_count": 27,
   "metadata": {},
   "outputs": [],
   "source": [
    "df.to_csv('ml-final.csv', index= False)"
   ]
  }
 ],
 "metadata": {
  "kernelspec": {
   "display_name": "Python 3",
   "language": "python",
   "name": "python3"
  },
  "language_info": {
   "codemirror_mode": {
    "name": "ipython",
    "version": 3
   },
   "file_extension": ".py",
   "mimetype": "text/x-python",
   "name": "python",
   "nbconvert_exporter": "python",
   "pygments_lexer": "ipython3",
   "version": "3.8.5"
  }
 },
 "nbformat": 4,
 "nbformat_minor": 4
}
