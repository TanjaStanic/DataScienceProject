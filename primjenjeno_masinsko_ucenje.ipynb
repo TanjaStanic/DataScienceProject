{
 "cells": [
  {
   "cell_type": "code",
   "execution_count": 1,
   "metadata": {},
   "outputs": [],
   "source": [
    "import pandas as pd\n",
    "from matplotlib import pyplot as plt\n",
    "from sklearn import preprocessing"
   ]
  },
  {
   "cell_type": "code",
   "execution_count": 2,
   "metadata": {},
   "outputs": [],
   "source": [
    "plt.rcParams['figure.figsize'] = [12, 8]\n",
    "plt.rcParams['figure.dpi'] = 100"
   ]
  },
  {
   "cell_type": "code",
   "execution_count": 3,
   "metadata": {},
   "outputs": [],
   "source": [
    "df = pd.read_csv('in_case2.csv')"
   ]
  },
  {
   "cell_type": "code",
   "execution_count": 8,
   "metadata": {},
   "outputs": [
    {
     "data": {
      "text/html": [
       "<div>\n",
       "<style scoped>\n",
       "    .dataframe tbody tr th:only-of-type {\n",
       "        vertical-align: middle;\n",
       "    }\n",
       "\n",
       "    .dataframe tbody tr th {\n",
       "        vertical-align: top;\n",
       "    }\n",
       "\n",
       "    .dataframe thead th {\n",
       "        text-align: right;\n",
       "    }\n",
       "</style>\n",
       "<table border=\"1\" class=\"dataframe\">\n",
       "  <thead>\n",
       "    <tr style=\"text-align: right;\">\n",
       "      <th></th>\n",
       "      <th>id</th>\n",
       "      <th>age</th>\n",
       "      <th>race</th>\n",
       "      <th>sex</th>\n",
       "      <th>diagnosed</th>\n",
       "      <th>site</th>\n",
       "      <th>stage</th>\n",
       "      <th>surgery</th>\n",
       "      <th>sequence_num</th>\n",
       "      <th>malignant_num</th>\n",
       "      <th>benign_num</th>\n",
       "      <th>property</th>\n",
       "      <th>survive</th>\n",
       "    </tr>\n",
       "  </thead>\n",
       "  <tbody>\n",
       "    <tr>\n",
       "      <th>0</th>\n",
       "      <td>18477</td>\n",
       "      <td>15</td>\n",
       "      <td>White</td>\n",
       "      <td>Male</td>\n",
       "      <td>1980</td>\n",
       "      <td>Bones and Joints</td>\n",
       "      <td>Regional</td>\n",
       "      <td>No</td>\n",
       "      <td>One primary only</td>\n",
       "      <td>1.0</td>\n",
       "      <td>0.0</td>\n",
       "      <td>Uknown</td>\n",
       "      <td>dead in 5</td>\n",
       "    </tr>\n",
       "    <tr>\n",
       "      <th>1</th>\n",
       "      <td>70400</td>\n",
       "      <td>14</td>\n",
       "      <td>White</td>\n",
       "      <td>Female</td>\n",
       "      <td>1977</td>\n",
       "      <td>Bones and Joints</td>\n",
       "      <td>Distant</td>\n",
       "      <td>No</td>\n",
       "      <td>One primary only</td>\n",
       "      <td>1.0</td>\n",
       "      <td>0.0</td>\n",
       "      <td>Uknown</td>\n",
       "      <td>dead in 5</td>\n",
       "    </tr>\n",
       "    <tr>\n",
       "      <th>2</th>\n",
       "      <td>81204</td>\n",
       "      <td>18</td>\n",
       "      <td>White</td>\n",
       "      <td>Male</td>\n",
       "      <td>1980</td>\n",
       "      <td>Bones and Joints</td>\n",
       "      <td>Localized</td>\n",
       "      <td>No</td>\n",
       "      <td>One primary only</td>\n",
       "      <td>1.0</td>\n",
       "      <td>0.0</td>\n",
       "      <td>Uknown</td>\n",
       "      <td>survive</td>\n",
       "    </tr>\n",
       "    <tr>\n",
       "      <th>3</th>\n",
       "      <td>82818</td>\n",
       "      <td>19</td>\n",
       "      <td>White</td>\n",
       "      <td>Male</td>\n",
       "      <td>1979</td>\n",
       "      <td>Bones and Joints</td>\n",
       "      <td>Localized</td>\n",
       "      <td>No</td>\n",
       "      <td>One primary only</td>\n",
       "      <td>1.0</td>\n",
       "      <td>0.0</td>\n",
       "      <td>Uknown</td>\n",
       "      <td>survive</td>\n",
       "    </tr>\n",
       "    <tr>\n",
       "      <th>4</th>\n",
       "      <td>106645</td>\n",
       "      <td>14</td>\n",
       "      <td>White</td>\n",
       "      <td>Female</td>\n",
       "      <td>1979</td>\n",
       "      <td>Bones and Joints</td>\n",
       "      <td>Localized</td>\n",
       "      <td>Yes</td>\n",
       "      <td>1st of 2 or more primaries</td>\n",
       "      <td>2.0</td>\n",
       "      <td>0.0</td>\n",
       "      <td>Uknown</td>\n",
       "      <td>survive</td>\n",
       "    </tr>\n",
       "  </tbody>\n",
       "</table>\n",
       "</div>"
      ],
      "text/plain": [
       "       id  age   race     sex  diagnosed              site      stage surgery  \\\n",
       "0   18477   15  White    Male       1980  Bones and Joints   Regional      No   \n",
       "1   70400   14  White  Female       1977  Bones and Joints    Distant      No   \n",
       "2   81204   18  White    Male       1980  Bones and Joints  Localized      No   \n",
       "3   82818   19  White    Male       1979  Bones and Joints  Localized      No   \n",
       "4  106645   14  White  Female       1979  Bones and Joints  Localized     Yes   \n",
       "\n",
       "                 sequence_num  malignant_num  benign_num property    survive  \n",
       "0            One primary only            1.0         0.0   Uknown  dead in 5  \n",
       "1            One primary only            1.0         0.0   Uknown  dead in 5  \n",
       "2            One primary only            1.0         0.0   Uknown    survive  \n",
       "3            One primary only            1.0         0.0   Uknown    survive  \n",
       "4  1st of 2 or more primaries            2.0         0.0   Uknown    survive  "
      ]
     },
     "execution_count": 8,
     "metadata": {},
     "output_type": "execute_result"
    }
   ],
   "source": [
    "df.head()"
   ]
  },
  {
   "cell_type": "code",
   "execution_count": 6,
   "metadata": {},
   "outputs": [],
   "source": [
    "df.drop(\"status\", axis=1, inplace=True)\n",
    "df.drop(\"months\", axis=1, inplace=True)\n",
    "\n",
    "df.drop(\"Unnamed: 0\", axis=1, inplace=True)"
   ]
  },
  {
   "cell_type": "code",
   "execution_count": 7,
   "metadata": {},
   "outputs": [],
   "source": [
    "df.drop(\"years\", axis=1, inplace=True)"
   ]
  },
  {
   "cell_type": "code",
   "execution_count": 9,
   "metadata": {},
   "outputs": [],
   "source": [
    "df['race'] = df['race'].astype('category').cat.codes\n",
    "df['sex'] = df['sex'].astype('category').cat.codes\n",
    "df['site'] = df['site'].astype('category').cat.codes\n",
    "df['stage'] = df['stage'].astype('category').cat.codes\n",
    "df['surgery'] = df['surgery'].astype('category').cat.codes\n",
    "df['sequence_num'] = df['sequence_num'].astype('category').cat.codes\n",
    "df['property'] = df['property'].astype('category').cat.codes\n",
    "df['survive'] = df['survive'].astype('category').cat.codes\n"
   ]
  },
  {
   "cell_type": "code",
   "execution_count": 10,
   "metadata": {},
   "outputs": [
    {
     "name": "stdout",
     "output_type": "stream",
     "text": [
      "<class 'pandas.core.frame.DataFrame'>\n",
      "RangeIndex: 2326 entries, 0 to 2325\n",
      "Data columns (total 13 columns):\n",
      " #   Column         Non-Null Count  Dtype  \n",
      "---  ------         --------------  -----  \n",
      " 0   id             2326 non-null   int64  \n",
      " 1   age            2326 non-null   int64  \n",
      " 2   race           2326 non-null   int8   \n",
      " 3   sex            2326 non-null   int8   \n",
      " 4   diagnosed      2326 non-null   int64  \n",
      " 5   site           2326 non-null   int8   \n",
      " 6   stage          2326 non-null   int8   \n",
      " 7   surgery        2326 non-null   int8   \n",
      " 8   sequence_num   2326 non-null   int8   \n",
      " 9   malignant_num  2326 non-null   float64\n",
      " 10  benign_num     2326 non-null   float64\n",
      " 11  property       2326 non-null   int8   \n",
      " 12  survive        2326 non-null   int8   \n",
      "dtypes: float64(2), int64(3), int8(8)\n",
      "memory usage: 109.2 KB\n"
     ]
    }
   ],
   "source": [
    "df.info()"
   ]
  },
  {
   "cell_type": "markdown",
   "metadata": {},
   "source": [
    "### Podjela na trening i test podatke"
   ]
  },
  {
   "cell_type": "code",
   "execution_count": 11,
   "metadata": {},
   "outputs": [],
   "source": [
    "from sklearn.model_selection import train_test_split\n",
    "\n",
    "training, test = train_test_split(df, test_size=0.20, random_state=35)"
   ]
  },
  {
   "cell_type": "code",
   "execution_count": 12,
   "metadata": {},
   "outputs": [
    {
     "data": {
      "text/html": [
       "<div>\n",
       "<style scoped>\n",
       "    .dataframe tbody tr th:only-of-type {\n",
       "        vertical-align: middle;\n",
       "    }\n",
       "\n",
       "    .dataframe tbody tr th {\n",
       "        vertical-align: top;\n",
       "    }\n",
       "\n",
       "    .dataframe thead th {\n",
       "        text-align: right;\n",
       "    }\n",
       "</style>\n",
       "<table border=\"1\" class=\"dataframe\">\n",
       "  <thead>\n",
       "    <tr style=\"text-align: right;\">\n",
       "      <th></th>\n",
       "      <th>id</th>\n",
       "      <th>age</th>\n",
       "      <th>race</th>\n",
       "      <th>sex</th>\n",
       "      <th>diagnosed</th>\n",
       "      <th>site</th>\n",
       "      <th>stage</th>\n",
       "      <th>surgery</th>\n",
       "      <th>sequence_num</th>\n",
       "      <th>malignant_num</th>\n",
       "      <th>benign_num</th>\n",
       "      <th>property</th>\n",
       "      <th>survive</th>\n",
       "    </tr>\n",
       "  </thead>\n",
       "  <tbody>\n",
       "    <tr>\n",
       "      <th>1586</th>\n",
       "      <td>43990663</td>\n",
       "      <td>8</td>\n",
       "      <td>21</td>\n",
       "      <td>0</td>\n",
       "      <td>2005</td>\n",
       "      <td>24</td>\n",
       "      <td>1</td>\n",
       "      <td>2</td>\n",
       "      <td>3</td>\n",
       "      <td>1.0</td>\n",
       "      <td>0.0</td>\n",
       "      <td>5</td>\n",
       "      <td>5</td>\n",
       "    </tr>\n",
       "    <tr>\n",
       "      <th>2309</th>\n",
       "      <td>75594518</td>\n",
       "      <td>19</td>\n",
       "      <td>21</td>\n",
       "      <td>0</td>\n",
       "      <td>2014</td>\n",
       "      <td>1</td>\n",
       "      <td>0</td>\n",
       "      <td>0</td>\n",
       "      <td>3</td>\n",
       "      <td>1.0</td>\n",
       "      <td>0.0</td>\n",
       "      <td>1</td>\n",
       "      <td>5</td>\n",
       "    </tr>\n",
       "    <tr>\n",
       "      <th>333</th>\n",
       "      <td>10441682</td>\n",
       "      <td>17</td>\n",
       "      <td>21</td>\n",
       "      <td>1</td>\n",
       "      <td>1988</td>\n",
       "      <td>1</td>\n",
       "      <td>1</td>\n",
       "      <td>1</td>\n",
       "      <td>3</td>\n",
       "      <td>1.0</td>\n",
       "      <td>0.0</td>\n",
       "      <td>10</td>\n",
       "      <td>4</td>\n",
       "    </tr>\n",
       "    <tr>\n",
       "      <th>74</th>\n",
       "      <td>848211</td>\n",
       "      <td>16</td>\n",
       "      <td>13</td>\n",
       "      <td>0</td>\n",
       "      <td>2001</td>\n",
       "      <td>1</td>\n",
       "      <td>2</td>\n",
       "      <td>0</td>\n",
       "      <td>3</td>\n",
       "      <td>1.0</td>\n",
       "      <td>0.0</td>\n",
       "      <td>8</td>\n",
       "      <td>5</td>\n",
       "    </tr>\n",
       "    <tr>\n",
       "      <th>1498</th>\n",
       "      <td>43420808</td>\n",
       "      <td>19</td>\n",
       "      <td>21</td>\n",
       "      <td>1</td>\n",
       "      <td>2002</td>\n",
       "      <td>24</td>\n",
       "      <td>1</td>\n",
       "      <td>0</td>\n",
       "      <td>3</td>\n",
       "      <td>1.0</td>\n",
       "      <td>0.0</td>\n",
       "      <td>7</td>\n",
       "      <td>1</td>\n",
       "    </tr>\n",
       "    <tr>\n",
       "      <th>...</th>\n",
       "      <td>...</td>\n",
       "      <td>...</td>\n",
       "      <td>...</td>\n",
       "      <td>...</td>\n",
       "      <td>...</td>\n",
       "      <td>...</td>\n",
       "      <td>...</td>\n",
       "      <td>...</td>\n",
       "      <td>...</td>\n",
       "      <td>...</td>\n",
       "      <td>...</td>\n",
       "      <td>...</td>\n",
       "      <td>...</td>\n",
       "    </tr>\n",
       "    <tr>\n",
       "      <th>1030</th>\n",
       "      <td>28432881</td>\n",
       "      <td>16</td>\n",
       "      <td>21</td>\n",
       "      <td>1</td>\n",
       "      <td>2013</td>\n",
       "      <td>1</td>\n",
       "      <td>2</td>\n",
       "      <td>0</td>\n",
       "      <td>3</td>\n",
       "      <td>1.0</td>\n",
       "      <td>0.0</td>\n",
       "      <td>4</td>\n",
       "      <td>5</td>\n",
       "    </tr>\n",
       "    <tr>\n",
       "      <th>2160</th>\n",
       "      <td>66707482</td>\n",
       "      <td>15</td>\n",
       "      <td>21</td>\n",
       "      <td>0</td>\n",
       "      <td>2014</td>\n",
       "      <td>1</td>\n",
       "      <td>1</td>\n",
       "      <td>2</td>\n",
       "      <td>3</td>\n",
       "      <td>1.0</td>\n",
       "      <td>0.0</td>\n",
       "      <td>8</td>\n",
       "      <td>5</td>\n",
       "    </tr>\n",
       "    <tr>\n",
       "      <th>1680</th>\n",
       "      <td>44555178</td>\n",
       "      <td>18</td>\n",
       "      <td>21</td>\n",
       "      <td>0</td>\n",
       "      <td>2009</td>\n",
       "      <td>1</td>\n",
       "      <td>0</td>\n",
       "      <td>0</td>\n",
       "      <td>3</td>\n",
       "      <td>1.0</td>\n",
       "      <td>0.0</td>\n",
       "      <td>7</td>\n",
       "      <td>4</td>\n",
       "    </tr>\n",
       "    <tr>\n",
       "      <th>489</th>\n",
       "      <td>17111195</td>\n",
       "      <td>15</td>\n",
       "      <td>21</td>\n",
       "      <td>1</td>\n",
       "      <td>1982</td>\n",
       "      <td>1</td>\n",
       "      <td>0</td>\n",
       "      <td>2</td>\n",
       "      <td>3</td>\n",
       "      <td>1.0</td>\n",
       "      <td>0.0</td>\n",
       "      <td>10</td>\n",
       "      <td>4</td>\n",
       "    </tr>\n",
       "    <tr>\n",
       "      <th>631</th>\n",
       "      <td>18061950</td>\n",
       "      <td>15</td>\n",
       "      <td>21</td>\n",
       "      <td>1</td>\n",
       "      <td>2017</td>\n",
       "      <td>1</td>\n",
       "      <td>1</td>\n",
       "      <td>2</td>\n",
       "      <td>3</td>\n",
       "      <td>1.0</td>\n",
       "      <td>0.0</td>\n",
       "      <td>3</td>\n",
       "      <td>5</td>\n",
       "    </tr>\n",
       "  </tbody>\n",
       "</table>\n",
       "<p>466 rows × 13 columns</p>\n",
       "</div>"
      ],
      "text/plain": [
       "            id  age  race  sex  diagnosed  site  stage  surgery  sequence_num  \\\n",
       "1586  43990663    8    21    0       2005    24      1        2             3   \n",
       "2309  75594518   19    21    0       2014     1      0        0             3   \n",
       "333   10441682   17    21    1       1988     1      1        1             3   \n",
       "74      848211   16    13    0       2001     1      2        0             3   \n",
       "1498  43420808   19    21    1       2002    24      1        0             3   \n",
       "...        ...  ...   ...  ...        ...   ...    ...      ...           ...   \n",
       "1030  28432881   16    21    1       2013     1      2        0             3   \n",
       "2160  66707482   15    21    0       2014     1      1        2             3   \n",
       "1680  44555178   18    21    0       2009     1      0        0             3   \n",
       "489   17111195   15    21    1       1982     1      0        2             3   \n",
       "631   18061950   15    21    1       2017     1      1        2             3   \n",
       "\n",
       "      malignant_num  benign_num  property  survive  \n",
       "1586            1.0         0.0         5        5  \n",
       "2309            1.0         0.0         1        5  \n",
       "333             1.0         0.0        10        4  \n",
       "74              1.0         0.0         8        5  \n",
       "1498            1.0         0.0         7        1  \n",
       "...             ...         ...       ...      ...  \n",
       "1030            1.0         0.0         4        5  \n",
       "2160            1.0         0.0         8        5  \n",
       "1680            1.0         0.0         7        4  \n",
       "489             1.0         0.0        10        4  \n",
       "631             1.0         0.0         3        5  \n",
       "\n",
       "[466 rows x 13 columns]"
      ]
     },
     "execution_count": 12,
     "metadata": {},
     "output_type": "execute_result"
    }
   ],
   "source": [
    "test"
   ]
  },
  {
   "cell_type": "code",
   "execution_count": 13,
   "metadata": {},
   "outputs": [
    {
     "data": {
      "text/plain": [
       "[21, 3, 0, 13, 7, 5, 2, 4, 19, 1, 10, 20, 12, 17, 16, 15, 18, 14, 8, 6, 9, 11]"
      ]
     },
     "execution_count": 13,
     "metadata": {},
     "output_type": "execute_result"
    }
   ],
   "source": [
    "List_Of_Categories_In_Column=list(df['race'].value_counts().index)\n",
    "List_Of_Categories_In_Column"
   ]
  },
  {
   "cell_type": "markdown",
   "metadata": {},
   "source": [
    "## SVM sa rbf karnelom"
   ]
  },
  {
   "cell_type": "code",
   "execution_count": 14,
   "metadata": {},
   "outputs": [],
   "source": [
    "from sklearn import svm\n",
    "\n",
    "clf_svm = svm.SVC(kernel='rbf')"
   ]
  },
  {
   "cell_type": "code",
   "execution_count": 15,
   "metadata": {},
   "outputs": [
    {
     "name": "stdout",
     "output_type": "stream",
     "text": [
      "Index(['id', 'age', 'race', 'sex', 'diagnosed', 'site', 'stage', 'surgery',\n",
      "       'sequence_num', 'malignant_num', 'benign_num', 'property'],\n",
      "      dtype='object')\n"
     ]
    }
   ],
   "source": [
    "features = training.drop([\"survive\"], axis=1).columns\n",
    "print(features)"
   ]
  },
  {
   "cell_type": "code",
   "execution_count": 16,
   "metadata": {},
   "outputs": [],
   "source": [
    "scaler = preprocessing.StandardScaler().fit(training[features])"
   ]
  },
  {
   "cell_type": "code",
   "execution_count": 17,
   "metadata": {},
   "outputs": [
    {
     "name": "stdout",
     "output_type": "stream",
     "text": [
      "[[-1.62965829 -0.04656642  0.32413774 ... -0.22413534 -0.03280894\n",
      "   1.47242378]\n",
      " [-1.15438173  0.57655263  0.32413774 ... -0.22413534 -0.03280894\n",
      "   1.47242378]\n",
      " [ 2.02750885  0.78425898  0.32413774 ... -0.22413534 -0.03280894\n",
      "  -0.86435799]\n",
      " ...\n",
      " [-0.27737145 -0.66968547  0.32413774 ... -0.22413534 -0.03280894\n",
      "  -0.08543073]\n",
      " [ 0.07787372 -2.53904263  0.32413774 ... -0.22413534 -0.03280894\n",
      "  -0.47489436]\n",
      " [ 0.54380198  0.16113993  0.32413774 ... -0.22413534 -0.03280894\n",
      "  -0.47489436]]\n"
     ]
    }
   ],
   "source": [
    "features_nomalizovane = scaler.transform(training[features])\n",
    "print(features_nomalizovane)"
   ]
  },
  {
   "cell_type": "code",
   "execution_count": 18,
   "metadata": {},
   "outputs": [
    {
     "data": {
      "text/plain": [
       "SVC()"
      ]
     },
     "execution_count": 18,
     "metadata": {},
     "output_type": "execute_result"
    }
   ],
   "source": [
    "clf_svm.fit(features_nomalizovane, training['survive'])"
   ]
  },
  {
   "cell_type": "code",
   "execution_count": 19,
   "metadata": {},
   "outputs": [
    {
     "data": {
      "text/plain": [
       "array([5], dtype=int8)"
      ]
     },
     "execution_count": 19,
     "metadata": {},
     "output_type": "execute_result"
    }
   ],
   "source": [
    "clf_svm.predict(scaler.transform([test[features].iloc[0]]))"
   ]
  },
  {
   "cell_type": "markdown",
   "metadata": {},
   "source": [
    "## Tacnost modela"
   ]
  },
  {
   "cell_type": "code",
   "execution_count": 20,
   "metadata": {},
   "outputs": [
    {
     "data": {
      "text/plain": [
       "0.7124463519313304"
      ]
     },
     "execution_count": 20,
     "metadata": {},
     "output_type": "execute_result"
    }
   ],
   "source": [
    "clf_svm.score(scaler.transform(test[features]), test['survive'])"
   ]
  },
  {
   "cell_type": "markdown",
   "metadata": {},
   "source": [
    "## f mera za tacnost"
   ]
  },
  {
   "cell_type": "code",
   "execution_count": 21,
   "metadata": {},
   "outputs": [
    {
     "data": {
      "text/plain": [
       "array([0.        , 0.        , 0.        , 0.55970149, 0.803125  ])"
      ]
     },
     "execution_count": 21,
     "metadata": {},
     "output_type": "execute_result"
    }
   ],
   "source": [
    "svm_predictions = clf_svm.predict(scaler.transform(test[features]))\n",
    "\n",
    "from sklearn.metrics import f1_score\n",
    "\n",
    "f1_score(test['survive'], svm_predictions, average=None)"
   ]
  },
  {
   "cell_type": "code",
   "execution_count": 22,
   "metadata": {},
   "outputs": [
    {
     "name": "stdout",
     "output_type": "stream",
     "text": [
      "              precision    recall  f1-score   support\n",
      "\n",
      "           0       0.00      0.00      0.00         1\n",
      "           1       0.00      0.00      0.00        19\n",
      "           2       0.00      0.00      0.00         4\n",
      "           4       0.63      0.50      0.56       149\n",
      "           5       0.74      0.88      0.80       293\n",
      "\n",
      "    accuracy                           0.71       466\n",
      "   macro avg       0.27      0.28      0.27       466\n",
      "weighted avg       0.67      0.71      0.68       466\n",
      "\n"
     ]
    },
    {
     "name": "stderr",
     "output_type": "stream",
     "text": [
      "C:\\anaconda3\\lib\\site-packages\\sklearn\\metrics\\_classification.py:1221: UndefinedMetricWarning: Precision and F-score are ill-defined and being set to 0.0 in labels with no predicted samples. Use `zero_division` parameter to control this behavior.\n",
      "  _warn_prf(average, modifier, msg_start, len(result))\n"
     ]
    }
   ],
   "source": [
    "from sklearn.metrics import classification_report\n",
    "\n",
    "print(classification_report(test['survive'],svm_predictions))"
   ]
  },
  {
   "cell_type": "markdown",
   "metadata": {},
   "source": [
    "## KNN"
   ]
  },
  {
   "cell_type": "code",
   "execution_count": 23,
   "metadata": {},
   "outputs": [
    {
     "data": {
      "text/plain": [
       "KNeighborsClassifier(weights='distance')"
      ]
     },
     "execution_count": 23,
     "metadata": {},
     "output_type": "execute_result"
    }
   ],
   "source": [
    "from sklearn.neighbors import KNeighborsClassifier\n",
    "\n",
    "knn = KNeighborsClassifier(n_neighbors=5,weights='distance')\n",
    "\n",
    "knn.fit(features_nomalizovane, training['survive'])"
   ]
  },
  {
   "cell_type": "code",
   "execution_count": 24,
   "metadata": {},
   "outputs": [],
   "source": [
    "test_features_nomalizovane = scaler.transform(test[features])"
   ]
  },
  {
   "cell_type": "code",
   "execution_count": 25,
   "metadata": {},
   "outputs": [
    {
     "name": "stdout",
     "output_type": "stream",
     "text": [
      "              precision    recall  f1-score   support\n",
      "\n",
      "           0       0.00      0.00      0.00         1\n",
      "           1       0.00      0.00      0.00        19\n",
      "           2       0.00      0.00      0.00         4\n",
      "           3       0.00      0.00      0.00         0\n",
      "           4       0.53      0.50      0.51       149\n",
      "           5       0.73      0.77      0.75       293\n",
      "\n",
      "    accuracy                           0.65       466\n",
      "   macro avg       0.21      0.21      0.21       466\n",
      "weighted avg       0.63      0.65      0.64       466\n",
      "\n"
     ]
    },
    {
     "name": "stderr",
     "output_type": "stream",
     "text": [
      "C:\\anaconda3\\lib\\site-packages\\sklearn\\metrics\\_classification.py:1221: UndefinedMetricWarning: Precision and F-score are ill-defined and being set to 0.0 in labels with no predicted samples. Use `zero_division` parameter to control this behavior.\n",
      "  _warn_prf(average, modifier, msg_start, len(result))\n",
      "C:\\anaconda3\\lib\\site-packages\\sklearn\\metrics\\_classification.py:1221: UndefinedMetricWarning: Recall and F-score are ill-defined and being set to 0.0 in labels with no true samples. Use `zero_division` parameter to control this behavior.\n",
      "  _warn_prf(average, modifier, msg_start, len(result))\n"
     ]
    }
   ],
   "source": [
    "print(classification_report(test['survive'], knn.predict(test_features_nomalizovane)))"
   ]
  },
  {
   "cell_type": "markdown",
   "metadata": {},
   "source": [
    "## stablo odlucivanja ne zahteva normalizaciju\n"
   ]
  },
  {
   "cell_type": "code",
   "execution_count": 26,
   "metadata": {},
   "outputs": [],
   "source": [
    "from sklearn import tree\n",
    "\n",
    "dtree_clf = tree.DecisionTreeClassifier(max_leaf_nodes = 10, min_samples_leaf = 5, max_depth= 5)\n",
    "dtree_clf = dtree_clf.fit(training[features], training['survive'])"
   ]
  },
  {
   "cell_type": "code",
   "execution_count": 27,
   "metadata": {},
   "outputs": [
    {
     "name": "stdout",
     "output_type": "stream",
     "text": [
      "              precision    recall  f1-score   support\n",
      "\n",
      "           0       0.00      0.00      0.00         1\n",
      "           1       0.00      0.00      0.00        19\n",
      "           2       0.00      0.00      0.00         4\n",
      "           4       0.59      0.40      0.48       149\n",
      "           5       0.71      0.88      0.79       293\n",
      "\n",
      "    accuracy                           0.68       466\n",
      "   macro avg       0.26      0.26      0.25       466\n",
      "weighted avg       0.63      0.68      0.65       466\n",
      "\n"
     ]
    },
    {
     "name": "stderr",
     "output_type": "stream",
     "text": [
      "C:\\anaconda3\\lib\\site-packages\\sklearn\\metrics\\_classification.py:1221: UndefinedMetricWarning: Precision and F-score are ill-defined and being set to 0.0 in labels with no predicted samples. Use `zero_division` parameter to control this behavior.\n",
      "  _warn_prf(average, modifier, msg_start, len(result))\n"
     ]
    }
   ],
   "source": [
    "print(classification_report(test['survive'], dtree_clf.predict(test[features])))"
   ]
  },
  {
   "cell_type": "code",
   "execution_count": 28,
   "metadata": {},
   "outputs": [
    {
     "name": "stdout",
     "output_type": "stream",
     "text": [
      "Feature: 0, Score: 0.00000\n",
      "Feature: 1, Score: 0.13271\n",
      "Feature: 2, Score: 0.00000\n",
      "Feature: 3, Score: 0.00000\n",
      "Feature: 4, Score: 0.42203\n",
      "Feature: 5, Score: 0.00000\n",
      "Feature: 6, Score: 0.41864\n",
      "Feature: 7, Score: 0.00000\n",
      "Feature: 8, Score: 0.02661\n",
      "Feature: 9, Score: 0.00000\n",
      "Feature: 10, Score: 0.00000\n",
      "Feature: 11, Score: 0.00000\n"
     ]
    },
    {
     "data": {
      "text/plain": [
       "(array([ 0,  1,  2,  3,  4,  5,  6,  7,  8,  9, 10, 11]),\n",
       " [Text(0, 0, 'id'),\n",
       "  Text(1, 0, 'age'),\n",
       "  Text(2, 0, 'race'),\n",
       "  Text(3, 0, 'sex'),\n",
       "  Text(4, 0, 'diagnosed'),\n",
       "  Text(5, 0, 'site'),\n",
       "  Text(6, 0, 'stage'),\n",
       "  Text(7, 0, 'surgery'),\n",
       "  Text(8, 0, 'sequence_num'),\n",
       "  Text(9, 0, 'malignant_num'),\n",
       "  Text(10, 0, 'benign_num'),\n",
       "  Text(11, 0, 'property')])"
      ]
     },
     "execution_count": 28,
     "metadata": {},
     "output_type": "execute_result"
    },
    {
     "data": {
      "image/png": "[encoded data removed]",
      "text/plain": [
       "<Figure size 1200x800 with 1 Axes>"
      ]
     },
     "metadata": {
      "needs_background": "light"
     },
     "output_type": "display_data"
    }
   ],
   "source": [
    "importance = dtree_clf.feature_importances_\n",
    "# summarize feature importance\n",
    "for i,v in enumerate(importance):\n",
    "    print('Feature: %0d, Score: %.5f' % (i,v))\n",
    "# plot feature importance\n",
    "plt.bar([x for x in range(len(importance))], importance, tick_label=['id','age', 'race', 'sex', 'diagnosed',\n",
    "       'site', 'stage', 'surgery', 'sequence_num', 'malignant_num',\n",
    "       'benign_num', 'property'])\n",
    "plt.xticks(rotation='vertical')"
   ]
  },
  {
   "cell_type": "markdown",
   "metadata": {},
   "source": [
    "## Logisticka regresija"
   ]
  },
  {
   "cell_type": "code",
   "execution_count": 29,
   "metadata": {},
   "outputs": [
    {
     "name": "stdout",
     "output_type": "stream",
     "text": [
      "              precision    recall  f1-score   support\n",
      "\n",
      "           0       0.00      0.00      0.00         1\n",
      "           1       0.00      0.00      0.00        19\n",
      "           2       0.00      0.00      0.00         4\n",
      "           3       0.00      0.00      0.00         0\n",
      "           4       0.59      0.50      0.54       149\n",
      "           5       0.73      0.84      0.78       293\n",
      "\n",
      "    accuracy                           0.69       466\n",
      "   macro avg       0.22      0.22      0.22       466\n",
      "weighted avg       0.65      0.69      0.66       466\n",
      "\n"
     ]
    },
    {
     "name": "stderr",
     "output_type": "stream",
     "text": [
      "C:\\anaconda3\\lib\\site-packages\\sklearn\\metrics\\_classification.py:1221: UndefinedMetricWarning: Precision and F-score are ill-defined and being set to 0.0 in labels with no predicted samples. Use `zero_division` parameter to control this behavior.\n",
      "  _warn_prf(average, modifier, msg_start, len(result))\n",
      "C:\\anaconda3\\lib\\site-packages\\sklearn\\metrics\\_classification.py:1221: UndefinedMetricWarning: Recall and F-score are ill-defined and being set to 0.0 in labels with no true samples. Use `zero_division` parameter to control this behavior.\n",
      "  _warn_prf(average, modifier, msg_start, len(result))\n"
     ]
    }
   ],
   "source": [
    "from sklearn.linear_model import LogisticRegression\n",
    "\n",
    "log_reg_clf = LogisticRegression(solver = 'lbfgs', max_iter=10000)\n",
    "log_reg_clf = log_reg_clf.fit(features_nomalizovane, training['survive'])\n",
    "\n",
    "print(classification_report(test['survive'], log_reg_clf.predict(test_features_nomalizovane)))"
   ]
  },
  {
   "cell_type": "code",
   "execution_count": 30,
   "metadata": {},
   "outputs": [
    {
     "name": "stdout",
     "output_type": "stream",
     "text": [
      "Feature: 0, Score: -0.39148\n",
      "Feature: 1, Score: 0.42234\n",
      "Feature: 2, Score: 0.16909\n",
      "Feature: 3, Score: -0.82494\n",
      "Feature: 4, Score: -0.19157\n",
      "Feature: 5, Score: -0.17881\n",
      "Feature: 6, Score: -0.16459\n",
      "Feature: 7, Score: 0.03863\n",
      "Feature: 8, Score: 0.26572\n",
      "Feature: 9, Score: -0.15272\n",
      "Feature: 10, Score: -0.00070\n",
      "Feature: 11, Score: 0.56817\n"
     ]
    },
    {
     "data": {
      "text/plain": [
       "(array([ 0,  1,  2,  3,  4,  5,  6,  7,  8,  9, 10, 11]),\n",
       " [Text(0, 0, 'id'),\n",
       "  Text(1, 0, 'age'),\n",
       "  Text(2, 0, 'race'),\n",
       "  Text(3, 0, 'sex'),\n",
       "  Text(4, 0, 'diagnosed'),\n",
       "  Text(5, 0, 'site'),\n",
       "  Text(6, 0, 'stage'),\n",
       "  Text(7, 0, 'surgery'),\n",
       "  Text(8, 0, 'sequence_num'),\n",
       "  Text(9, 0, 'malignant_num'),\n",
       "  Text(10, 0, 'benign_num'),\n",
       "  Text(11, 0, 'property')])"
      ]
     },
     "execution_count": 30,
     "metadata": {},
     "output_type": "execute_result"
    },
    {
     "data": {
      "image/png": "[encoded data removed]",
      "text/plain": [
       "<Figure size 1200x800 with 1 Axes>"
      ]
     },
     "metadata": {
      "needs_background": "light"
     },
     "output_type": "display_data"
    }
   ],
   "source": [
    "importance = log_reg_clf.coef_[0]\n",
    "# summarize feature importance\n",
    "for i,v in enumerate(importance):\n",
    "    print('Feature: %0d, Score: %.5f' % (i,v))\n",
    "# plot feature importance\n",
    "plt.bar([x for x in range(len(importance))], importance, tick_label=['id','age', 'race', 'sex', 'diagnosed',\n",
    "       'site', 'stage', 'surgery', 'sequence_num', 'malignant_num',\n",
    "       'benign_num', 'property'])\n",
    "plt.xticks(rotation='vertical')"
   ]
  },
  {
   "cell_type": "markdown",
   "metadata": {},
   "source": [
    "## XGBoost"
   ]
  },
  {
   "cell_type": "code",
   "execution_count": 31,
   "metadata": {},
   "outputs": [],
   "source": [
    "import xgboost as xgb\n",
    "\n",
    "dtrain = xgb.DMatrix(training[features], training['survive'].astype('category').cat.codes)\n",
    "dtest = xgb.DMatrix(test[features], test['survive'].astype('category').cat.codes)"
   ]
  },
  {
   "cell_type": "code",
   "execution_count": 32,
   "metadata": {},
   "outputs": [],
   "source": [
    "params = {\n",
    "    'max_depth':10,\n",
    "    'min_child_weight': 1,\n",
    "    'eta':.3,\n",
    "    'subsample': 0.6,\n",
    "    'colsample_bytree': 0.6,\n",
    "    'objective':'multi:softmax',\n",
    "    'num_class': 2,\n",
    "    'eval_metric' : 'merror'\n",
    "}"
   ]
  }
 ],
 "metadata": {
  "kernelspec": {
   "display_name": "Python 3",
   "language": "python",
   "name": "python3"
  },
  "language_info": {
   "codemirror_mode": {
    "name": "ipython",
    "version": 3
   },
   "file_extension": ".py",
   "mimetype": "text/x-python",
   "name": "python",
   "nbconvert_exporter": "python",
   "pygments_lexer": "ipython3",
   "version": "3.8.5"
  }
 },
 "nbformat": 4,
 "nbformat_minor": 4
}
