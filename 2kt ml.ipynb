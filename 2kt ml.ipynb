{
 "cells": [
  {
   "cell_type": "markdown",
   "metadata": {},
   "source": [
    "## ML"
   ]
  },
  {
   "cell_type": "code",
   "execution_count": 2,
   "metadata": {},
   "outputs": [],
   "source": [
    "import pandas as pd\n",
    "from matplotlib import pyplot as plt\n",
    "from sklearn import preprocessing"
   ]
  },
  {
   "cell_type": "code",
   "execution_count": 3,
   "metadata": {},
   "outputs": [],
   "source": [
    "df = pd.read_csv('ml-data.csv', delimiter=',', encoding= 'unicode_escape')"
   ]
  },
  {
   "cell_type": "code",
   "execution_count": 129,
   "metadata": {},
   "outputs": [],
   "source": [
    "df_temp = pd.read_csv('fixed2-data.csv', delimiter=',', encoding= 'unicode_escape')"
   ]
  },
  {
   "cell_type": "code",
   "execution_count": 4,
   "metadata": {
    "collapsed": true
   },
   "outputs": [
    {
     "data": {
      "text/html": [
       "<div>\n",
       "<style scoped>\n",
       "    .dataframe tbody tr th:only-of-type {\n",
       "        vertical-align: middle;\n",
       "    }\n",
       "\n",
       "    .dataframe tbody tr th {\n",
       "        vertical-align: top;\n",
       "    }\n",
       "\n",
       "    .dataframe thead th {\n",
       "        text-align: right;\n",
       "    }\n",
       "</style>\n",
       "<table border=\"1\" class=\"dataframe\">\n",
       "  <thead>\n",
       "    <tr style=\"text-align: right;\">\n",
       "      <th></th>\n",
       "      <th>Id</th>\n",
       "      <th>Age</th>\n",
       "      <th>Race</th>\n",
       "      <th>Sex</th>\n",
       "      <th>Diagnosed</th>\n",
       "      <th>Diagnosed group</th>\n",
       "      <th>Stage</th>\n",
       "      <th>Months</th>\n",
       "      <th>Site</th>\n",
       "      <th>Sequence number</th>\n",
       "      <th>...</th>\n",
       "      <th>COD</th>\n",
       "      <th>COD2</th>\n",
       "      <th>Report</th>\n",
       "      <th>Property</th>\n",
       "      <th>Tumor size</th>\n",
       "      <th>Tumor size group</th>\n",
       "      <th>Surgery</th>\n",
       "      <th>Chemotherapy</th>\n",
       "      <th>Radiotherapy</th>\n",
       "      <th>Survive</th>\n",
       "    </tr>\n",
       "  </thead>\n",
       "  <tbody>\n",
       "    <tr>\n",
       "      <th>0</th>\n",
       "      <td>22929427</td>\n",
       "      <td>15-19</td>\n",
       "      <td>White</td>\n",
       "      <td>Male</td>\n",
       "      <td>1975</td>\n",
       "      <td>1975-1999</td>\n",
       "      <td>Regional</td>\n",
       "      <td>31.0</td>\n",
       "      <td>Bones and Joints</td>\n",
       "      <td>One primary only</td>\n",
       "      <td>...</td>\n",
       "      <td>Bones and Joints</td>\n",
       "      <td>Dead (attributable to this cancer dx)</td>\n",
       "      <td>Hospital inpatient/outpatient or clinic</td>\n",
       "      <td>NaN</td>\n",
       "      <td>94.0</td>\n",
       "      <td>85-115</td>\n",
       "      <td>No</td>\n",
       "      <td>No</td>\n",
       "      <td>No</td>\n",
       "      <td>Dead in 5</td>\n",
       "    </tr>\n",
       "    <tr>\n",
       "      <th>1</th>\n",
       "      <td>10123011</td>\n",
       "      <td>05-09</td>\n",
       "      <td>White</td>\n",
       "      <td>Male</td>\n",
       "      <td>1975</td>\n",
       "      <td>1975-1999</td>\n",
       "      <td>Regional</td>\n",
       "      <td>23.0</td>\n",
       "      <td>Bones and Joints</td>\n",
       "      <td>One primary only</td>\n",
       "      <td>...</td>\n",
       "      <td>Bones and Joints</td>\n",
       "      <td>Dead (attributable to this cancer dx)</td>\n",
       "      <td>Hospital inpatient/outpatient or clinic</td>\n",
       "      <td>NaN</td>\n",
       "      <td>94.0</td>\n",
       "      <td>85-115</td>\n",
       "      <td>No</td>\n",
       "      <td>No</td>\n",
       "      <td>No</td>\n",
       "      <td>Dead in 5</td>\n",
       "    </tr>\n",
       "  </tbody>\n",
       "</table>\n",
       "<p>2 rows × 21 columns</p>\n",
       "</div>"
      ],
      "text/plain": [
       "         Id    Age   Race   Sex  Diagnosed Diagnosed group     Stage  Months  \\\n",
       "0  22929427  15-19  White  Male       1975       1975-1999  Regional    31.0   \n",
       "1  10123011  05-09  White  Male       1975       1975-1999  Regional    23.0   \n",
       "\n",
       "               Site   Sequence number  ...               COD  \\\n",
       "0  Bones and Joints  One primary only  ...  Bones and Joints   \n",
       "1  Bones and Joints  One primary only  ...  Bones and Joints   \n",
       "\n",
       "                                    COD2  \\\n",
       "0  Dead (attributable to this cancer dx)   \n",
       "1  Dead (attributable to this cancer dx)   \n",
       "\n",
       "                                    Report Property Tumor size  \\\n",
       "0  Hospital inpatient/outpatient or clinic      NaN       94.0   \n",
       "1  Hospital inpatient/outpatient or clinic      NaN       94.0   \n",
       "\n",
       "   Tumor size group Surgery Chemotherapy Radiotherapy    Survive  \n",
       "0            85-115      No           No           No  Dead in 5  \n",
       "1            85-115      No           No           No  Dead in 5  \n",
       "\n",
       "[2 rows x 21 columns]"
      ]
     },
     "execution_count": 4,
     "metadata": {},
     "output_type": "execute_result"
    }
   ],
   "source": [
    "df.head(2)"
   ]
  },
  {
   "cell_type": "markdown",
   "metadata": {},
   "source": [
    "## Fill nan values"
   ]
  },
  {
   "cell_type": "code",
   "execution_count": 30,
   "metadata": {
    "collapsed": true
   },
   "outputs": [
    {
     "data": {
      "text/plain": [
       "Id                    0\n",
       "Age                   0\n",
       "Race                  0\n",
       "Sex                   0\n",
       "Diagnosed             0\n",
       "Diagnosed group       0\n",
       "Stage                 0\n",
       "Months                0\n",
       "Site                  0\n",
       "Sequence number       0\n",
       "Malignat number       0\n",
       "COD                   0\n",
       "COD2                  0\n",
       "Report                0\n",
       "Property            338\n",
       "Tumor size            0\n",
       "Tumor size group      0\n",
       "Surgery               0\n",
       "Chemotherapy          0\n",
       "Radiotherapy          0\n",
       "Survive               0\n",
       "dtype: int64"
      ]
     },
     "execution_count": 30,
     "metadata": {},
     "output_type": "execute_result"
    }
   ],
   "source": [
    "df.isna().sum()"
   ]
  },
  {
   "cell_type": "code",
   "execution_count": 28,
   "metadata": {},
   "outputs": [],
   "source": [
    "df.loc[df['Id']==21133065, 'Survive'] = 'Dead in 10+'"
   ]
  },
  {
   "cell_type": "code",
   "execution_count": 17,
   "metadata": {},
   "outputs": [
    {
     "data": {
      "text/plain": [
       "81.0"
      ]
     },
     "execution_count": 17,
     "metadata": {},
     "output_type": "execute_result"
    }
   ],
   "source": [
    "df.loc[(df['Stage']=='Localized')\n",
    "      & (df['Site'] == 'Soft Tissue including Heart')\n",
    "       & (df['COD'] == 'Dead Other Site')\n",
    "      & (df['Chemotherapy'] == 'Yes')\n",
    "        & (df['Radiotherapy'] == 'No')\n",
    "       & (df['Tumor size group'] == '> 115'),\n",
    "       'Months'\n",
    "      ].mean()"
   ]
  },
  {
   "cell_type": "code",
   "execution_count": 34,
   "metadata": {
    "scrolled": true
   },
   "outputs": [],
   "source": [
    "df[\"Property\"].fillna(lambda x: random.choice(df[df[column] != np.nan][\"Property\"]), inplace =True)"
   ]
  },
  {
   "cell_type": "markdown",
   "metadata": {},
   "source": [
    "### Reorder columns"
   ]
  },
  {
   "cell_type": "code",
   "execution_count": 14,
   "metadata": {
    "collapsed": true
   },
   "outputs": [
    {
     "data": {
      "text/plain": [
       "Index(['Id', 'Age', 'Race', 'Sex', 'Diagnosed', 'Diagnosed group', 'Stage',\n",
       "       'Months', 'Site', 'Sequence number', 'Malignat number', 'COD', 'COD2',\n",
       "       'Report', 'Property', 'Tumor size', 'Tumor size group', 'Surgery',\n",
       "       'Chemotherapy', 'Radiotherapy', 'Survive'],\n",
       "      dtype='object')"
      ]
     },
     "execution_count": 14,
     "metadata": {},
     "output_type": "execute_result"
    }
   ],
   "source": [
    "df.columns"
   ]
  },
  {
   "cell_type": "code",
   "execution_count": 13,
   "metadata": {},
   "outputs": [],
   "source": [
    "df = df[['Id', 'Age', 'Race', 'Sex', 'Diagnosed', 'Diagnosed group',  'Stage', \n",
    "       'Months','Site','Sequence number', 'Malignat number', 'COD', 'COD2',  'Report',\n",
    "       'Property', 'Tumor size','Tumor size group', 'Surgery', 'Chemotherapy', 'Radiotherapy',\n",
    "        'Survive', ]]"
   ]
  },
  {
   "cell_type": "markdown",
   "metadata": {},
   "source": [
    "## Making categories"
   ]
  },
  {
   "cell_type": "code",
   "execution_count": 18,
   "metadata": {},
   "outputs": [],
   "source": [
    "df[\"Age\"] = df[\"Age\"].astype('category')"
   ]
  },
  {
   "cell_type": "code",
   "execution_count": 45,
   "metadata": {},
   "outputs": [],
   "source": [
    "df = df.drop(['Id','Diagnosed','Months','Tumor size'], axis = 1)"
   ]
  },
  {
   "cell_type": "markdown",
   "metadata": {},
   "source": [
    "df"
   ]
  },
  {
   "cell_type": "code",
   "execution_count": 46,
   "metadata": {
    "collapsed": true
   },
   "outputs": [
    {
     "name": "stdout",
     "output_type": "stream",
     "text": [
      "Age : 5  labels\n",
      "Race : 3  labels\n",
      "Sex : 2  labels\n",
      "Diagnosed group : 3  labels\n",
      "Stage : 3  labels\n",
      "Site : 4  labels\n",
      "Sequence number : 4  labels\n",
      "Malignat number : 4  labels\n",
      "COD : 6  labels\n",
      "COD2 : 3  labels\n",
      "Report : 6  labels\n",
      "Property : 4  labels\n",
      "Tumor size group : 3  labels\n",
      "Surgery : 3  labels\n",
      "Chemotherapy : 2  labels\n",
      "Radiotherapy : 2  labels\n",
      "Survive : 4  labels\n"
     ]
    }
   ],
   "source": [
    "for col in df.columns:\n",
    "    print(col, ':', len(df[col].unique()),' labels')"
   ]
  },
  {
   "cell_type": "markdown",
   "metadata": {},
   "source": [
    "### One hot Encoding"
   ]
  },
  {
   "cell_type": "code",
   "execution_count": 39,
   "metadata": {},
   "outputs": [],
   "source": [
    "from sklearn.preprocessing import OneHotEncoder"
   ]
  },
  {
   "cell_type": "code",
   "execution_count": 41,
   "metadata": {
    "collapsed": true
   },
   "outputs": [
    {
     "data": {
      "text/html": [
       "<div>\n",
       "<style scoped>\n",
       "    .dataframe tbody tr th:only-of-type {\n",
       "        vertical-align: middle;\n",
       "    }\n",
       "\n",
       "    .dataframe tbody tr th {\n",
       "        vertical-align: top;\n",
       "    }\n",
       "\n",
       "    .dataframe thead th {\n",
       "        text-align: right;\n",
       "    }\n",
       "</style>\n",
       "<table border=\"1\" class=\"dataframe\">\n",
       "  <thead>\n",
       "    <tr style=\"text-align: right;\">\n",
       "      <th></th>\n",
       "      <th>Id</th>\n",
       "      <th>Age</th>\n",
       "      <th>Race</th>\n",
       "      <th>Sex</th>\n",
       "      <th>Diagnosed</th>\n",
       "      <th>Diagnosed group</th>\n",
       "      <th>Stage</th>\n",
       "      <th>Months</th>\n",
       "      <th>Site</th>\n",
       "      <th>Sequence number</th>\n",
       "      <th>...</th>\n",
       "      <th>Property</th>\n",
       "      <th>Tumor size</th>\n",
       "      <th>Tumor size group</th>\n",
       "      <th>Surgery</th>\n",
       "      <th>Chemotherapy</th>\n",
       "      <th>Radiotherapy</th>\n",
       "      <th>Survive</th>\n",
       "      <th>0</th>\n",
       "      <th>1</th>\n",
       "      <th>2</th>\n",
       "    </tr>\n",
       "  </thead>\n",
       "  <tbody>\n",
       "    <tr>\n",
       "      <th>0</th>\n",
       "      <td>22929427</td>\n",
       "      <td>15-19</td>\n",
       "      <td>White</td>\n",
       "      <td>Male</td>\n",
       "      <td>1975</td>\n",
       "      <td>1975-1999</td>\n",
       "      <td>Regional</td>\n",
       "      <td>31.0</td>\n",
       "      <td>Bones and Joints</td>\n",
       "      <td>One primary only</td>\n",
       "      <td>...</td>\n",
       "      <td>&lt;function &lt;lambda&gt; at 0x00000218727CA3A0&gt;</td>\n",
       "      <td>94.0</td>\n",
       "      <td>85-115</td>\n",
       "      <td>No</td>\n",
       "      <td>No</td>\n",
       "      <td>No</td>\n",
       "      <td>Dead in 5</td>\n",
       "      <td>0.0</td>\n",
       "      <td>0.0</td>\n",
       "      <td>1.0</td>\n",
       "    </tr>\n",
       "    <tr>\n",
       "      <th>1</th>\n",
       "      <td>10123011</td>\n",
       "      <td>05-09</td>\n",
       "      <td>White</td>\n",
       "      <td>Male</td>\n",
       "      <td>1975</td>\n",
       "      <td>1975-1999</td>\n",
       "      <td>Regional</td>\n",
       "      <td>23.0</td>\n",
       "      <td>Bones and Joints</td>\n",
       "      <td>One primary only</td>\n",
       "      <td>...</td>\n",
       "      <td>&lt;function &lt;lambda&gt; at 0x00000218727CA3A0&gt;</td>\n",
       "      <td>94.0</td>\n",
       "      <td>85-115</td>\n",
       "      <td>No</td>\n",
       "      <td>No</td>\n",
       "      <td>No</td>\n",
       "      <td>Dead in 5</td>\n",
       "      <td>0.0</td>\n",
       "      <td>0.0</td>\n",
       "      <td>1.0</td>\n",
       "    </tr>\n",
       "    <tr>\n",
       "      <th>2</th>\n",
       "      <td>28016877</td>\n",
       "      <td>15-19</td>\n",
       "      <td>White</td>\n",
       "      <td>Male</td>\n",
       "      <td>1975</td>\n",
       "      <td>1975-1999</td>\n",
       "      <td>Distant</td>\n",
       "      <td>28.0</td>\n",
       "      <td>Bones and Joints</td>\n",
       "      <td>One primary only</td>\n",
       "      <td>...</td>\n",
       "      <td>&lt;function &lt;lambda&gt; at 0x00000218727CA3A0&gt;</td>\n",
       "      <td>104.0</td>\n",
       "      <td>85-115</td>\n",
       "      <td>No</td>\n",
       "      <td>Yes</td>\n",
       "      <td>No</td>\n",
       "      <td>Dead in 5</td>\n",
       "      <td>0.0</td>\n",
       "      <td>0.0</td>\n",
       "      <td>1.0</td>\n",
       "    </tr>\n",
       "    <tr>\n",
       "      <th>3</th>\n",
       "      <td>10055225</td>\n",
       "      <td>15-19</td>\n",
       "      <td>White</td>\n",
       "      <td>Male</td>\n",
       "      <td>1975</td>\n",
       "      <td>1975-1999</td>\n",
       "      <td>Regional</td>\n",
       "      <td>11.0</td>\n",
       "      <td>Bones and Joints</td>\n",
       "      <td>One primary only</td>\n",
       "      <td>...</td>\n",
       "      <td>&lt;function &lt;lambda&gt; at 0x00000218727CA3A0&gt;</td>\n",
       "      <td>94.0</td>\n",
       "      <td>85-115</td>\n",
       "      <td>No</td>\n",
       "      <td>Yes</td>\n",
       "      <td>No</td>\n",
       "      <td>Dead in 5</td>\n",
       "      <td>0.0</td>\n",
       "      <td>0.0</td>\n",
       "      <td>1.0</td>\n",
       "    </tr>\n",
       "    <tr>\n",
       "      <th>4</th>\n",
       "      <td>5166438</td>\n",
       "      <td>15-19</td>\n",
       "      <td>White</td>\n",
       "      <td>Male</td>\n",
       "      <td>1975</td>\n",
       "      <td>1975-1999</td>\n",
       "      <td>Localized</td>\n",
       "      <td>31.0</td>\n",
       "      <td>Bones and Joints</td>\n",
       "      <td>One primary only</td>\n",
       "      <td>...</td>\n",
       "      <td>&lt;function &lt;lambda&gt; at 0x00000218727CA3A0&gt;</td>\n",
       "      <td>142.0</td>\n",
       "      <td>&gt; 115</td>\n",
       "      <td>Yes</td>\n",
       "      <td>No</td>\n",
       "      <td>No</td>\n",
       "      <td>Dead in 5</td>\n",
       "      <td>0.0</td>\n",
       "      <td>0.0</td>\n",
       "      <td>1.0</td>\n",
       "    </tr>\n",
       "  </tbody>\n",
       "</table>\n",
       "<p>5 rows × 24 columns</p>\n",
       "</div>"
      ],
      "text/plain": [
       "         Id    Age   Race   Sex  Diagnosed Diagnosed group      Stage  Months  \\\n",
       "0  22929427  15-19  White  Male       1975       1975-1999   Regional    31.0   \n",
       "1  10123011  05-09  White  Male       1975       1975-1999   Regional    23.0   \n",
       "2  28016877  15-19  White  Male       1975       1975-1999    Distant    28.0   \n",
       "3  10055225  15-19  White  Male       1975       1975-1999   Regional    11.0   \n",
       "4   5166438  15-19  White  Male       1975       1975-1999  Localized    31.0   \n",
       "\n",
       "               Site   Sequence number  ...  \\\n",
       "0  Bones and Joints  One primary only  ...   \n",
       "1  Bones and Joints  One primary only  ...   \n",
       "2  Bones and Joints  One primary only  ...   \n",
       "3  Bones and Joints  One primary only  ...   \n",
       "4  Bones and Joints  One primary only  ...   \n",
       "\n",
       "                                    Property Tumor size Tumor size group  \\\n",
       "0  <function <lambda> at 0x00000218727CA3A0>       94.0           85-115   \n",
       "1  <function <lambda> at 0x00000218727CA3A0>       94.0           85-115   \n",
       "2  <function <lambda> at 0x00000218727CA3A0>      104.0           85-115   \n",
       "3  <function <lambda> at 0x00000218727CA3A0>       94.0           85-115   \n",
       "4  <function <lambda> at 0x00000218727CA3A0>      142.0            > 115   \n",
       "\n",
       "  Surgery Chemotherapy  Radiotherapy    Survive    0    1    2  \n",
       "0      No           No            No  Dead in 5  0.0  0.0  1.0  \n",
       "1      No           No            No  Dead in 5  0.0  0.0  1.0  \n",
       "2      No          Yes            No  Dead in 5  0.0  0.0  1.0  \n",
       "3      No          Yes            No  Dead in 5  0.0  0.0  1.0  \n",
       "4     Yes           No            No  Dead in 5  0.0  0.0  1.0  \n",
       "\n",
       "[5 rows x 24 columns]"
      ]
     },
     "execution_count": 41,
     "metadata": {},
     "output_type": "execute_result"
    }
   ],
   "source": [
    "#Create hot encoder\n",
    "one_hot = OneHotEncoder(handle_unknown='ignore')\n",
    "\n",
    "#Create one hot as en array based on nuber of entries to eval\n",
    "one_hot_array = pd.DataFrame(one_hot.fit_transform(df[['Race']]).toarray())\n",
    "\n",
    "df.join(one_hot_array).head()"
   ]
  },
  {
   "cell_type": "markdown",
   "metadata": {},
   "source": [
    "### Inverse one hot encoding"
   ]
  },
  {
   "cell_type": "code",
   "execution_count": 42,
   "metadata": {
    "collapsed": true
   },
   "outputs": [
    {
     "name": "stdout",
     "output_type": "stream",
     "text": [
      "  (0, 2)\t1.0\n",
      "  (1, 2)\t1.0\n",
      "  (2, 2)\t1.0\n",
      "  (3, 2)\t1.0\n",
      "  (4, 2)\t1.0\n"
     ]
    },
    {
     "data": {
      "text/plain": [
       "array([['White'],\n",
       "       ['White'],\n",
       "       ['White'],\n",
       "       ['White'],\n",
       "       ['White']], dtype=object)"
      ]
     },
     "execution_count": 42,
     "metadata": {},
     "output_type": "execute_result"
    }
   ],
   "source": [
    "print(one_hot.fit_transform(df[['Race']])[:5])\n",
    "encode = one_hot.fit_transform(df[['Race']])\n",
    "\n",
    "one_hot.inverse_transform(encode)[:5]"
   ]
  },
  {
   "cell_type": "markdown",
   "metadata": {},
   "source": [
    "# Make all columns one hot encoded"
   ]
  },
  {
   "cell_type": "code",
   "execution_count": 149,
   "metadata": {
    "collapsed": true
   },
   "outputs": [
    {
     "name": "stdout",
     "output_type": "stream",
     "text": [
      "<class 'pandas.core.frame.DataFrame'>\n",
      "RangeIndex: 2581 entries, 0 to 2580\n",
      "Data columns (total 17 columns):\n",
      " #   Column            Non-Null Count  Dtype \n",
      "---  ------            --------------  ----- \n",
      " 0   Age               2581 non-null   object\n",
      " 1   Race              2581 non-null   object\n",
      " 2   Sex               2581 non-null   object\n",
      " 3   Diagnosed group   2581 non-null   object\n",
      " 4   Stage             2581 non-null   object\n",
      " 5   Site              2581 non-null   object\n",
      " 6   Sequence number   2581 non-null   object\n",
      " 7   Malignat number   2581 non-null   int64 \n",
      " 8   COD               2581 non-null   object\n",
      " 9   COD2              2581 non-null   object\n",
      " 10  Report            2581 non-null   object\n",
      " 11  Property          2581 non-null   object\n",
      " 12  Tumor size group  2581 non-null   object\n",
      " 13  Surgery           2581 non-null   object\n",
      " 14  Chemotherapy      2581 non-null   object\n",
      " 15  Radiotherapy      2581 non-null   object\n",
      " 16  Survive           2581 non-null   object\n",
      "dtypes: int64(1), object(16)\n",
      "memory usage: 342.9+ KB\n"
     ]
    }
   ],
   "source": [
    "df.info()"
   ]
  },
  {
   "cell_type": "code",
   "execution_count": 176,
   "metadata": {},
   "outputs": [
    {
     "data": {
      "text/plain": [
       "Survive        1610\n",
       "Dead in 5       806\n",
       "Dead in 10      102\n",
       "Dead in 10+      63\n",
       "Name: Survive, dtype: int64"
      ]
     },
     "execution_count": 176,
     "metadata": {},
     "output_type": "execute_result"
    }
   ],
   "source": [
    "df['Survive'].value_counts()"
   ]
  },
  {
   "cell_type": "code",
   "execution_count": 181,
   "metadata": {},
   "outputs": [],
   "source": [
    "df = df2"
   ]
  },
  {
   "cell_type": "code",
   "execution_count": 134,
   "metadata": {},
   "outputs": [
    {
     "data": {
      "text/plain": [
       "Index(['Age', 'Race', 'Sex', 'Diagnosed group', 'Stage', 'Site',\n",
       "       'Sequence number', 'Malignat number', 'COD', 'COD2', 'Report',\n",
       "       'Property', 'Tumor size group', 'Surgery', 'Chemotherapy',\n",
       "       'Radiotherapy', 'Survive'],\n",
       "      dtype='object')"
      ]
     },
     "execution_count": 134,
     "metadata": {},
     "output_type": "execute_result"
    }
   ],
   "source": [
    "df[\"Survive\"] = df[\"Survive\"].astype('category')\n",
    "df.columns"
   ]
  },
  {
   "cell_type": "code",
   "execution_count": 177,
   "metadata": {},
   "outputs": [],
   "source": [
    "df_ohe = df\n",
    "categorical_columns = ['Age', 'Race', 'Sex', 'Diagnosed group', 'Stage', 'Site',\n",
    "       'Sequence number', 'COD', 'COD2', 'Report',\n",
    "       'Property', 'Tumor size group', 'Surgery', 'Chemotherapy',\n",
    "       'Radiotherapy']\n",
    "\n",
    "for col in categorical_columns:\n",
    "    col_ohe = pd.get_dummies(df[col], prefix=col)\n",
    "    df_ohe = pd.concat((df_ohe, col_ohe), axis=1).drop(col, axis=1)"
   ]
  },
  {
   "cell_type": "code",
   "execution_count": 178,
   "metadata": {},
   "outputs": [
    {
     "name": "stdout",
     "output_type": "stream",
     "text": [
      "Index(['Malignat number', 'Survive', 'Age_00', 'Age_01-04', 'Age_05-09',\n",
      "       'Age_10-14', 'Age_15-19', 'Race_Black', 'Race_Other', 'Race_White',\n",
      "       'Sex_Female', 'Sex_Male', 'Diagnosed group_1975-1999',\n",
      "       'Diagnosed group_2000-2009', 'Diagnosed group_2010-2018',\n",
      "       'Stage_Distant', 'Stage_Localized', 'Stage_Regional',\n",
      "       'Site_Bones and Joints', 'Site_Kidney and Renal Pelvis', 'Site_Other',\n",
      "       'Site_Soft Tissue including Heart',\n",
      "       'Sequence number_1st of 2 or more primaries',\n",
      "       'Sequence number_2nd of 2 or more primaries',\n",
      "       'Sequence number_3rd of 3 or more primaries',\n",
      "       'Sequence number_One primary only', 'COD_Alive', 'COD_Bones and Joints',\n",
      "       'COD_Brain and Other Nervous System', 'COD_Dead Other Site',\n",
      "       'COD_Other Cause of Death', 'COD_Soft Tissue including Heart',\n",
      "       'COD2_Alive or dead of other cause',\n",
      "       'COD2_Dead (attributable to this cancer dx)',\n",
      "       'COD2_Dead (missing/unknown COD)', 'Report_Death certificate only',\n",
      "       'Report_Hospital inpatient/outpatient or clinic',\n",
      "       'Report_Laboratory only (hospital or private)',\n",
      "       'Report_Other hospital outpatient unit or surgery center (2006+)',\n",
      "       'Report_Physicians office/private medical practitioner (LMD)',\n",
      "       'Report_Radiation treatment or medical oncology center (2006+)',\n",
      "       'Property_$60,000 - $74,999', 'Property_$75,000+', 'Property_< $60,999',\n",
      "       'Tumor size group_85-115', 'Tumor size group_< 85',\n",
      "       'Tumor size group_> 115', 'Surgery_No', 'Surgery_Unknown',\n",
      "       'Surgery_Yes', 'Chemotherapy_No', 'Chemotherapy_Yes', 'Radiotherapy_No',\n",
      "       'Radiotherapy_Yes'],\n",
      "      dtype='object')\n"
     ]
    }
   ],
   "source": [
    "print(df_ohe.columns)"
   ]
  },
  {
   "cell_type": "code",
   "execution_count": 182,
   "metadata": {},
   "outputs": [],
   "source": [
    "df_ohe['Survive'] = df_ohe['Survive'].astype('category').cat.codes"
   ]
  },
  {
   "cell_type": "code",
   "execution_count": 183,
   "metadata": {},
   "outputs": [
    {
     "data": {
      "text/plain": [
       "3    1610\n",
       "2     806\n",
       "0     102\n",
       "1      63\n",
       "Name: Survive, dtype: int64"
      ]
     },
     "execution_count": 183,
     "metadata": {},
     "output_type": "execute_result"
    }
   ],
   "source": [
    "df_ohe['Survive'].value_counts()"
   ]
  },
  {
   "cell_type": "markdown",
   "metadata": {},
   "source": [
    "# Decision tree"
   ]
  },
  {
   "cell_type": "code",
   "execution_count": 186,
   "metadata": {},
   "outputs": [],
   "source": [
    "from sklearn.model_selection import train_test_split\n",
    "from sklearn import tree\n",
    "from sklearn.model_selection import StratifiedKFold\n",
    "from sklearn.feature_selection import RFECV\n",
    "\n",
    "# split training and test\n",
    "training, test = train_test_split(df_ohe, test_size=0.25, random_state=35)\n",
    "\n",
    "\n"
   ]
  },
  {
   "cell_type": "code",
   "execution_count": 187,
   "metadata": {},
   "outputs": [],
   "source": [
    "features = training.drop(['Survive'], axis=1).columns\n"
   ]
  },
  {
   "cell_type": "code",
   "execution_count": null,
   "metadata": {},
   "outputs": [],
   "source": []
  },
  {
   "cell_type": "code",
   "execution_count": 188,
   "metadata": {},
   "outputs": [
    {
     "data": {
      "text/html": [
       "<div>\n",
       "<style scoped>\n",
       "    .dataframe tbody tr th:only-of-type {\n",
       "        vertical-align: middle;\n",
       "    }\n",
       "\n",
       "    .dataframe tbody tr th {\n",
       "        vertical-align: top;\n",
       "    }\n",
       "\n",
       "    .dataframe thead th {\n",
       "        text-align: right;\n",
       "    }\n",
       "</style>\n",
       "<table border=\"1\" class=\"dataframe\">\n",
       "  <thead>\n",
       "    <tr style=\"text-align: right;\">\n",
       "      <th></th>\n",
       "      <th>Malignat number</th>\n",
       "      <th>Survive</th>\n",
       "      <th>Age_00</th>\n",
       "      <th>Age_01-04</th>\n",
       "      <th>Age_05-09</th>\n",
       "      <th>Age_10-14</th>\n",
       "      <th>Age_15-19</th>\n",
       "      <th>Race_Black</th>\n",
       "      <th>Race_Other</th>\n",
       "      <th>Race_White</th>\n",
       "      <th>...</th>\n",
       "      <th>Tumor size group_85-115</th>\n",
       "      <th>Tumor size group_&lt; 85</th>\n",
       "      <th>Tumor size group_&gt; 115</th>\n",
       "      <th>Surgery_No</th>\n",
       "      <th>Surgery_Unknown</th>\n",
       "      <th>Surgery_Yes</th>\n",
       "      <th>Chemotherapy_No</th>\n",
       "      <th>Chemotherapy_Yes</th>\n",
       "      <th>Radiotherapy_No</th>\n",
       "      <th>Radiotherapy_Yes</th>\n",
       "    </tr>\n",
       "  </thead>\n",
       "  <tbody>\n",
       "    <tr>\n",
       "      <th>2464</th>\n",
       "      <td>1</td>\n",
       "      <td>3</td>\n",
       "      <td>0</td>\n",
       "      <td>0</td>\n",
       "      <td>0</td>\n",
       "      <td>1</td>\n",
       "      <td>0</td>\n",
       "      <td>0</td>\n",
       "      <td>0</td>\n",
       "      <td>1</td>\n",
       "      <td>...</td>\n",
       "      <td>0</td>\n",
       "      <td>0</td>\n",
       "      <td>1</td>\n",
       "      <td>0</td>\n",
       "      <td>0</td>\n",
       "      <td>1</td>\n",
       "      <td>0</td>\n",
       "      <td>1</td>\n",
       "      <td>0</td>\n",
       "      <td>1</td>\n",
       "    </tr>\n",
       "    <tr>\n",
       "      <th>2399</th>\n",
       "      <td>1</td>\n",
       "      <td>3</td>\n",
       "      <td>0</td>\n",
       "      <td>0</td>\n",
       "      <td>0</td>\n",
       "      <td>1</td>\n",
       "      <td>0</td>\n",
       "      <td>0</td>\n",
       "      <td>0</td>\n",
       "      <td>1</td>\n",
       "      <td>...</td>\n",
       "      <td>0</td>\n",
       "      <td>1</td>\n",
       "      <td>0</td>\n",
       "      <td>0</td>\n",
       "      <td>0</td>\n",
       "      <td>1</td>\n",
       "      <td>0</td>\n",
       "      <td>1</td>\n",
       "      <td>0</td>\n",
       "      <td>1</td>\n",
       "    </tr>\n",
       "    <tr>\n",
       "      <th>2188</th>\n",
       "      <td>1</td>\n",
       "      <td>3</td>\n",
       "      <td>0</td>\n",
       "      <td>0</td>\n",
       "      <td>0</td>\n",
       "      <td>0</td>\n",
       "      <td>1</td>\n",
       "      <td>0</td>\n",
       "      <td>1</td>\n",
       "      <td>0</td>\n",
       "      <td>...</td>\n",
       "      <td>1</td>\n",
       "      <td>0</td>\n",
       "      <td>0</td>\n",
       "      <td>1</td>\n",
       "      <td>0</td>\n",
       "      <td>0</td>\n",
       "      <td>0</td>\n",
       "      <td>1</td>\n",
       "      <td>1</td>\n",
       "      <td>0</td>\n",
       "    </tr>\n",
       "    <tr>\n",
       "      <th>2204</th>\n",
       "      <td>1</td>\n",
       "      <td>3</td>\n",
       "      <td>0</td>\n",
       "      <td>0</td>\n",
       "      <td>0</td>\n",
       "      <td>0</td>\n",
       "      <td>1</td>\n",
       "      <td>0</td>\n",
       "      <td>0</td>\n",
       "      <td>1</td>\n",
       "      <td>...</td>\n",
       "      <td>0</td>\n",
       "      <td>1</td>\n",
       "      <td>0</td>\n",
       "      <td>0</td>\n",
       "      <td>0</td>\n",
       "      <td>1</td>\n",
       "      <td>0</td>\n",
       "      <td>1</td>\n",
       "      <td>0</td>\n",
       "      <td>1</td>\n",
       "    </tr>\n",
       "    <tr>\n",
       "      <th>1908</th>\n",
       "      <td>1</td>\n",
       "      <td>3</td>\n",
       "      <td>0</td>\n",
       "      <td>1</td>\n",
       "      <td>0</td>\n",
       "      <td>0</td>\n",
       "      <td>0</td>\n",
       "      <td>0</td>\n",
       "      <td>1</td>\n",
       "      <td>0</td>\n",
       "      <td>...</td>\n",
       "      <td>0</td>\n",
       "      <td>1</td>\n",
       "      <td>0</td>\n",
       "      <td>0</td>\n",
       "      <td>0</td>\n",
       "      <td>1</td>\n",
       "      <td>0</td>\n",
       "      <td>1</td>\n",
       "      <td>1</td>\n",
       "      <td>0</td>\n",
       "    </tr>\n",
       "    <tr>\n",
       "      <th>...</th>\n",
       "      <td>...</td>\n",
       "      <td>...</td>\n",
       "      <td>...</td>\n",
       "      <td>...</td>\n",
       "      <td>...</td>\n",
       "      <td>...</td>\n",
       "      <td>...</td>\n",
       "      <td>...</td>\n",
       "      <td>...</td>\n",
       "      <td>...</td>\n",
       "      <td>...</td>\n",
       "      <td>...</td>\n",
       "      <td>...</td>\n",
       "      <td>...</td>\n",
       "      <td>...</td>\n",
       "      <td>...</td>\n",
       "      <td>...</td>\n",
       "      <td>...</td>\n",
       "      <td>...</td>\n",
       "      <td>...</td>\n",
       "      <td>...</td>\n",
       "    </tr>\n",
       "    <tr>\n",
       "      <th>184</th>\n",
       "      <td>1</td>\n",
       "      <td>2</td>\n",
       "      <td>0</td>\n",
       "      <td>0</td>\n",
       "      <td>0</td>\n",
       "      <td>0</td>\n",
       "      <td>1</td>\n",
       "      <td>0</td>\n",
       "      <td>0</td>\n",
       "      <td>1</td>\n",
       "      <td>...</td>\n",
       "      <td>1</td>\n",
       "      <td>0</td>\n",
       "      <td>0</td>\n",
       "      <td>1</td>\n",
       "      <td>0</td>\n",
       "      <td>0</td>\n",
       "      <td>0</td>\n",
       "      <td>1</td>\n",
       "      <td>1</td>\n",
       "      <td>0</td>\n",
       "    </tr>\n",
       "    <tr>\n",
       "      <th>1675</th>\n",
       "      <td>1</td>\n",
       "      <td>3</td>\n",
       "      <td>0</td>\n",
       "      <td>0</td>\n",
       "      <td>0</td>\n",
       "      <td>1</td>\n",
       "      <td>0</td>\n",
       "      <td>1</td>\n",
       "      <td>0</td>\n",
       "      <td>0</td>\n",
       "      <td>...</td>\n",
       "      <td>0</td>\n",
       "      <td>0</td>\n",
       "      <td>1</td>\n",
       "      <td>0</td>\n",
       "      <td>0</td>\n",
       "      <td>1</td>\n",
       "      <td>0</td>\n",
       "      <td>1</td>\n",
       "      <td>0</td>\n",
       "      <td>1</td>\n",
       "    </tr>\n",
       "    <tr>\n",
       "      <th>951</th>\n",
       "      <td>1</td>\n",
       "      <td>3</td>\n",
       "      <td>0</td>\n",
       "      <td>0</td>\n",
       "      <td>0</td>\n",
       "      <td>1</td>\n",
       "      <td>0</td>\n",
       "      <td>0</td>\n",
       "      <td>0</td>\n",
       "      <td>1</td>\n",
       "      <td>...</td>\n",
       "      <td>0</td>\n",
       "      <td>1</td>\n",
       "      <td>0</td>\n",
       "      <td>0</td>\n",
       "      <td>0</td>\n",
       "      <td>1</td>\n",
       "      <td>0</td>\n",
       "      <td>1</td>\n",
       "      <td>1</td>\n",
       "      <td>0</td>\n",
       "    </tr>\n",
       "    <tr>\n",
       "      <th>1295</th>\n",
       "      <td>1</td>\n",
       "      <td>3</td>\n",
       "      <td>0</td>\n",
       "      <td>0</td>\n",
       "      <td>0</td>\n",
       "      <td>0</td>\n",
       "      <td>1</td>\n",
       "      <td>0</td>\n",
       "      <td>0</td>\n",
       "      <td>1</td>\n",
       "      <td>...</td>\n",
       "      <td>0</td>\n",
       "      <td>1</td>\n",
       "      <td>0</td>\n",
       "      <td>0</td>\n",
       "      <td>0</td>\n",
       "      <td>1</td>\n",
       "      <td>1</td>\n",
       "      <td>0</td>\n",
       "      <td>1</td>\n",
       "      <td>0</td>\n",
       "    </tr>\n",
       "    <tr>\n",
       "      <th>1737</th>\n",
       "      <td>1</td>\n",
       "      <td>2</td>\n",
       "      <td>0</td>\n",
       "      <td>0</td>\n",
       "      <td>0</td>\n",
       "      <td>0</td>\n",
       "      <td>1</td>\n",
       "      <td>0</td>\n",
       "      <td>0</td>\n",
       "      <td>1</td>\n",
       "      <td>...</td>\n",
       "      <td>1</td>\n",
       "      <td>0</td>\n",
       "      <td>0</td>\n",
       "      <td>1</td>\n",
       "      <td>0</td>\n",
       "      <td>0</td>\n",
       "      <td>0</td>\n",
       "      <td>1</td>\n",
       "      <td>1</td>\n",
       "      <td>0</td>\n",
       "    </tr>\n",
       "  </tbody>\n",
       "</table>\n",
       "<p>1935 rows × 54 columns</p>\n",
       "</div>"
      ],
      "text/plain": [
       "      Malignat number  Survive  Age_00  Age_01-04  Age_05-09  Age_10-14  \\\n",
       "2464                1        3       0          0          0          1   \n",
       "2399                1        3       0          0          0          1   \n",
       "2188                1        3       0          0          0          0   \n",
       "2204                1        3       0          0          0          0   \n",
       "1908                1        3       0          1          0          0   \n",
       "...               ...      ...     ...        ...        ...        ...   \n",
       "184                 1        2       0          0          0          0   \n",
       "1675                1        3       0          0          0          1   \n",
       "951                 1        3       0          0          0          1   \n",
       "1295                1        3       0          0          0          0   \n",
       "1737                1        2       0          0          0          0   \n",
       "\n",
       "      Age_15-19  Race_Black  Race_Other  Race_White  ...  \\\n",
       "2464          0           0           0           1  ...   \n",
       "2399          0           0           0           1  ...   \n",
       "2188          1           0           1           0  ...   \n",
       "2204          1           0           0           1  ...   \n",
       "1908          0           0           1           0  ...   \n",
       "...         ...         ...         ...         ...  ...   \n",
       "184           1           0           0           1  ...   \n",
       "1675          0           1           0           0  ...   \n",
       "951           0           0           0           1  ...   \n",
       "1295          1           0           0           1  ...   \n",
       "1737          1           0           0           1  ...   \n",
       "\n",
       "      Tumor size group_85-115  Tumor size group_< 85  Tumor size group_> 115  \\\n",
       "2464                        0                      0                       1   \n",
       "2399                        0                      1                       0   \n",
       "2188                        1                      0                       0   \n",
       "2204                        0                      1                       0   \n",
       "1908                        0                      1                       0   \n",
       "...                       ...                    ...                     ...   \n",
       "184                         1                      0                       0   \n",
       "1675                        0                      0                       1   \n",
       "951                         0                      1                       0   \n",
       "1295                        0                      1                       0   \n",
       "1737                        1                      0                       0   \n",
       "\n",
       "      Surgery_No  Surgery_Unknown  Surgery_Yes  Chemotherapy_No  \\\n",
       "2464           0                0            1                0   \n",
       "2399           0                0            1                0   \n",
       "2188           1                0            0                0   \n",
       "2204           0                0            1                0   \n",
       "1908           0                0            1                0   \n",
       "...          ...              ...          ...              ...   \n",
       "184            1                0            0                0   \n",
       "1675           0                0            1                0   \n",
       "951            0                0            1                0   \n",
       "1295           0                0            1                1   \n",
       "1737           1                0            0                0   \n",
       "\n",
       "      Chemotherapy_Yes  Radiotherapy_No  Radiotherapy_Yes  \n",
       "2464                 1                0                 1  \n",
       "2399                 1                0                 1  \n",
       "2188                 1                1                 0  \n",
       "2204                 1                0                 1  \n",
       "1908                 1                1                 0  \n",
       "...                ...              ...               ...  \n",
       "184                  1                1                 0  \n",
       "1675                 1                0                 1  \n",
       "951                  1                1                 0  \n",
       "1295                 0                1                 0  \n",
       "1737                 1                1                 0  \n",
       "\n",
       "[1935 rows x 54 columns]"
      ]
     },
     "execution_count": 188,
     "metadata": {},
     "output_type": "execute_result"
    }
   ],
   "source": [
    "training\n"
   ]
  },
  {
   "cell_type": "markdown",
   "metadata": {},
   "source": [
    "### Cross validation"
   ]
  },
  {
   "cell_type": "code",
   "execution_count": 158,
   "metadata": {},
   "outputs": [],
   "source": [
    "from matplotlib import pyplot as plt"
   ]
  },
  {
   "cell_type": "code",
   "execution_count": 192,
   "metadata": {},
   "outputs": [
    {
     "name": "stdout",
     "output_type": "stream",
     "text": [
      "Optimalan broj atributa : 7\n"
     ]
    },
    {
     "data": {
      "image/png": "[encoded data removed]",
      "text/plain": [
       "<Figure size 432x288 with 1 Axes>"
      ]
     },
     "metadata": {
      "needs_background": "light"
     },
     "output_type": "display_data"
    }
   ],
   "source": [
    "dtree_clf = tree.DecisionTreeClassifier(max_leaf_nodes = 10, min_samples_leaf = 5, max_depth= 5)\n",
    "rfecv = RFECV(estimator=dtree_clf, cv=StratifiedKFold(5), scoring='f1_micro')\n",
    "\n",
    "rfecv.fit(training[features], training['Survive'])\n",
    "\n",
    "print(\"Optimalan broj atributa : %d\" % rfecv.n_features_)\n",
    "\n",
    "#Prikazujemo broj atributa i rezultate unakrsne validacije \n",
    "plt.figure()\n",
    "plt.xlabel(\"Broj odabranih atributa\")\n",
    "plt.ylabel(\"Mera dobijena pomoću unakrsne validacije.\")\n",
    "plt.plot(range(1, len(rfecv.grid_scores_) + 1), rfecv.grid_scores_)\n",
    "plt.show()"
   ]
  },
  {
   "cell_type": "code",
   "execution_count": 193,
   "metadata": {},
   "outputs": [
    {
     "data": {
      "text/plain": [
       "Index(['Diagnosed group_2010-2018', 'Site_Bones and Joints',\n",
       "       'Sequence number_1st of 2 or more primaries', 'COD_Alive',\n",
       "       'COD_Other Cause of Death', 'COD2_Alive or dead of other cause',\n",
       "       'Radiotherapy_No'],\n",
       "      dtype='object')"
      ]
     },
     "execution_count": 193,
     "metadata": {},
     "output_type": "execute_result"
    }
   ],
   "source": [
    "features[rfecv.support_]"
   ]
  },
  {
   "cell_type": "code",
   "execution_count": 197,
   "metadata": {},
   "outputs": [
    {
     "name": "stdout",
     "output_type": "stream",
     "text": [
      "              precision    recall  f1-score   support\n",
      "\n",
      "           0       0.00      0.00      0.00        22\n",
      "           1       0.26      0.42      0.32        12\n",
      "           2       0.90      0.96      0.93       206\n",
      "           3       1.00      1.00      1.00       406\n",
      "\n",
      "    accuracy                           0.94       646\n",
      "   macro avg       0.54      0.59      0.56       646\n",
      "weighted avg       0.92      0.94      0.93       646\n",
      "\n"
     ]
    },
    {
     "name": "stderr",
     "output_type": "stream",
     "text": [
      "C:\\anaconda3\\lib\\site-packages\\sklearn\\metrics\\_classification.py:1221: UndefinedMetricWarning: Precision and F-score are ill-defined and being set to 0.0 in labels with no predicted samples. Use `zero_division` parameter to control this behavior.\n",
      "  _warn_prf(average, modifier, msg_start, len(result))\n"
     ]
    }
   ],
   "source": [
    "from sklearn.metrics import classification_report\n",
    "\n",
    "print(classification_report(test['Survive'], rfecv.predict(test[features])))"
   ]
  },
  {
   "cell_type": "code",
   "execution_count": 198,
   "metadata": {},
   "outputs": [
    {
     "ename": "AttributeError",
     "evalue": "'RFECV' object has no attribute 'feature_importances_'",
     "output_type": "error",
     "traceback": [
      "\u001b[1;31m---------------------------------------------------------------------------\u001b[0m",
      "\u001b[1;31mAttributeError\u001b[0m                            Traceback (most recent call last)",
      "\u001b[1;32m<ipython-input-198-b5cd20e3ea35>\u001b[0m in \u001b[0;36m<module>\u001b[1;34m\u001b[0m\n\u001b[1;32m----> 1\u001b[1;33m \u001b[0mimportance\u001b[0m \u001b[1;33m=\u001b[0m \u001b[0mrfecv\u001b[0m\u001b[1;33m.\u001b[0m\u001b[0mfeature_importances_\u001b[0m\u001b[1;33m\u001b[0m\u001b[1;33m\u001b[0m\u001b[0m\n\u001b[0m\u001b[0;32m      2\u001b[0m \u001b[1;31m# summarize feature importance\u001b[0m\u001b[1;33m\u001b[0m\u001b[1;33m\u001b[0m\u001b[1;33m\u001b[0m\u001b[0m\n\u001b[0;32m      3\u001b[0m \u001b[1;32mfor\u001b[0m \u001b[0mi\u001b[0m\u001b[1;33m,\u001b[0m\u001b[0mv\u001b[0m \u001b[1;32min\u001b[0m \u001b[0menumerate\u001b[0m\u001b[1;33m(\u001b[0m\u001b[0mimportance\u001b[0m\u001b[1;33m)\u001b[0m\u001b[1;33m:\u001b[0m\u001b[1;33m\u001b[0m\u001b[1;33m\u001b[0m\u001b[0m\n\u001b[0;32m      4\u001b[0m     \u001b[0mprint\u001b[0m\u001b[1;33m(\u001b[0m\u001b[1;34m'Feature: %0d, Score: %.5f'\u001b[0m \u001b[1;33m%\u001b[0m \u001b[1;33m(\u001b[0m\u001b[0mi\u001b[0m\u001b[1;33m,\u001b[0m\u001b[0mv\u001b[0m\u001b[1;33m)\u001b[0m\u001b[1;33m)\u001b[0m\u001b[1;33m\u001b[0m\u001b[1;33m\u001b[0m\u001b[0m\n\u001b[0;32m      5\u001b[0m \u001b[1;31m# plot feature importance\u001b[0m\u001b[1;33m\u001b[0m\u001b[1;33m\u001b[0m\u001b[1;33m\u001b[0m\u001b[0m\n",
      "\u001b[1;31mAttributeError\u001b[0m: 'RFECV' object has no attribute 'feature_importances_'"
     ]
    }
   ],
   "source": [
    "importance = rfecv.feature_importances_\n",
    "# summarize feature importance\n",
    "for i,v in enumerate(importance):\n",
    "    print('Feature: %0d, Score: %.5f' % (i,v))\n",
    "# plot feature importance\n",
    "plt.bar([x for x in range(len(importance))], importance, tick_label=['Malignat number', 'Survive', 'Age_00', 'Age_01-04', 'Age_05-09',\n",
    "       'Age_10-14', 'Age_15-19', 'Race_Black', 'Race_Other', 'Race_White',\n",
    "       'Sex_Female', 'Sex_Male', 'Diagnosed group_1975-1999',\n",
    "       'Diagnosed group_2000-2009', 'Diagnosed group_2010-2018',\n",
    "       'Stage_Distant', 'Stage_Localized', 'Stage_Regional',\n",
    "       'Site_Bones and Joints', 'Site_Kidney and Renal Pelvis', 'Site_Other',\n",
    "       'Site_Soft Tissue including Heart',\n",
    "       'Sequence number_1st of 2 or more primaries',\n",
    "       'Sequence number_2nd of 2 or more primaries',\n",
    "       'Sequence number_3rd of 3 or more primaries',\n",
    "       'Sequence number_One primary only', 'COD_Alive', 'COD_Bones and Joints',\n",
    "       'COD_Brain and Other Nervous System', 'COD_Dead Other Site',\n",
    "       'COD_Other Cause of Death', 'COD_Soft Tissue including Heart',\n",
    "       'COD2_Alive or dead of other cause',\n",
    "       'COD2_Dead (attributable to this cancer dx)',\n",
    "       'COD2_Dead (missing/unknown COD)', 'Report_Death certificate only',\n",
    "       'Report_Hospital inpatient/outpatient or clinic',\n",
    "       'Report_Laboratory only (hospital or private)',\n",
    "       'Report_Other hospital outpatient unit or surgery center (2006+)',\n",
    "       'Report_Physicians office/private medical practitioner (LMD)',\n",
    "       'Report_Radiation treatment or medical oncology center (2006+)',\n",
    "       'Property_$60,000 - $74,999', 'Property_$75,000+', 'Property_< $60,999',\n",
    "       'Tumor size group_85-115', 'Tumor size group_< 85',\n",
    "       'Tumor size group_> 115', 'Surgery_No', 'Surgery_Unknown',\n",
    "       'Surgery_Yes', 'Chemotherapy_No', 'Chemotherapy_Yes', 'Radiotherapy_No',\n",
    "       'Radiotherapy_Yes'])\n",
    "plt.xticks(rotation='vertical')"
   ]
  },
  {
   "cell_type": "code",
   "execution_count": null,
   "metadata": {},
   "outputs": [],
   "source": []
  },
  {
   "cell_type": "code",
   "execution_count": 54,
   "metadata": {
    "collapsed": true
   },
   "outputs": [
    {
     "data": {
      "text/plain": [
       "2000-2009    992\n",
       "2010-2018    862\n",
       "1975-1999    727\n",
       "Name: Diagnosed group, dtype: int64"
      ]
     },
     "execution_count": 54,
     "metadata": {},
     "output_type": "execute_result"
    }
   ],
   "source": [
    "df['Diagnosed group'].value_counts()"
   ]
  },
  {
   "cell_type": "code",
   "execution_count": 37,
   "metadata": {},
   "outputs": [],
   "source": [
    "df.to_csv('ml-data.csv', index= False)\n",
    "df.to_csv('ml2-data.csv', index= False)"
   ]
  },
  {
   "cell_type": "code",
   "execution_count": 59,
   "metadata": {
    "collapsed": true
   },
   "outputs": [
    {
     "data": {
      "text/html": [
       "<div>\n",
       "<style scoped>\n",
       "    .dataframe tbody tr th:only-of-type {\n",
       "        vertical-align: middle;\n",
       "    }\n",
       "\n",
       "    .dataframe tbody tr th {\n",
       "        vertical-align: top;\n",
       "    }\n",
       "\n",
       "    .dataframe thead th {\n",
       "        text-align: right;\n",
       "    }\n",
       "</style>\n",
       "<table border=\"1\" class=\"dataframe\">\n",
       "  <thead>\n",
       "    <tr style=\"text-align: right;\">\n",
       "      <th></th>\n",
       "      <th>Id</th>\n",
       "      <th>Age</th>\n",
       "      <th>Race</th>\n",
       "      <th>Sex</th>\n",
       "      <th>Diagnosed</th>\n",
       "      <th>Diagnosed group</th>\n",
       "      <th>Stage</th>\n",
       "      <th>Months</th>\n",
       "      <th>Site</th>\n",
       "      <th>Sequence number</th>\n",
       "      <th>...</th>\n",
       "      <th>COD</th>\n",
       "      <th>COD2</th>\n",
       "      <th>Report</th>\n",
       "      <th>Property</th>\n",
       "      <th>Tumor size</th>\n",
       "      <th>Tumor size group</th>\n",
       "      <th>Surgery</th>\n",
       "      <th>Chemotherapy</th>\n",
       "      <th>Radiotherapy</th>\n",
       "      <th>Survive</th>\n",
       "    </tr>\n",
       "  </thead>\n",
       "  <tbody>\n",
       "    <tr>\n",
       "      <th>0</th>\n",
       "      <td>22929427</td>\n",
       "      <td>15-19</td>\n",
       "      <td>White</td>\n",
       "      <td>Male</td>\n",
       "      <td>1975</td>\n",
       "      <td>1975-1999</td>\n",
       "      <td>Regional</td>\n",
       "      <td>31.0</td>\n",
       "      <td>Bones and Joints</td>\n",
       "      <td>One primary only</td>\n",
       "      <td>...</td>\n",
       "      <td>Bones and Joints</td>\n",
       "      <td>Dead (attributable to this cancer dx)</td>\n",
       "      <td>Hospital inpatient/outpatient or clinic</td>\n",
       "      <td>&lt;function &lt;lambda&gt; at 0x00000218727CA3A0&gt;</td>\n",
       "      <td>94.0</td>\n",
       "      <td>85-115</td>\n",
       "      <td>No</td>\n",
       "      <td>No</td>\n",
       "      <td>No</td>\n",
       "      <td>Dead in 5</td>\n",
       "    </tr>\n",
       "    <tr>\n",
       "      <th>1</th>\n",
       "      <td>10123011</td>\n",
       "      <td>05-09</td>\n",
       "      <td>White</td>\n",
       "      <td>Male</td>\n",
       "      <td>1975</td>\n",
       "      <td>1975-1999</td>\n",
       "      <td>Regional</td>\n",
       "      <td>23.0</td>\n",
       "      <td>Bones and Joints</td>\n",
       "      <td>One primary only</td>\n",
       "      <td>...</td>\n",
       "      <td>Bones and Joints</td>\n",
       "      <td>Dead (attributable to this cancer dx)</td>\n",
       "      <td>Hospital inpatient/outpatient or clinic</td>\n",
       "      <td>&lt;function &lt;lambda&gt; at 0x00000218727CA3A0&gt;</td>\n",
       "      <td>94.0</td>\n",
       "      <td>85-115</td>\n",
       "      <td>No</td>\n",
       "      <td>No</td>\n",
       "      <td>No</td>\n",
       "      <td>Dead in 5</td>\n",
       "    </tr>\n",
       "    <tr>\n",
       "      <th>2</th>\n",
       "      <td>28016877</td>\n",
       "      <td>15-19</td>\n",
       "      <td>White</td>\n",
       "      <td>Male</td>\n",
       "      <td>1975</td>\n",
       "      <td>1975-1999</td>\n",
       "      <td>Distant</td>\n",
       "      <td>28.0</td>\n",
       "      <td>Bones and Joints</td>\n",
       "      <td>One primary only</td>\n",
       "      <td>...</td>\n",
       "      <td>Bones and Joints</td>\n",
       "      <td>Dead (attributable to this cancer dx)</td>\n",
       "      <td>Hospital inpatient/outpatient or clinic</td>\n",
       "      <td>&lt;function &lt;lambda&gt; at 0x00000218727CA3A0&gt;</td>\n",
       "      <td>104.0</td>\n",
       "      <td>85-115</td>\n",
       "      <td>No</td>\n",
       "      <td>Yes</td>\n",
       "      <td>No</td>\n",
       "      <td>Dead in 5</td>\n",
       "    </tr>\n",
       "    <tr>\n",
       "      <th>3</th>\n",
       "      <td>10055225</td>\n",
       "      <td>15-19</td>\n",
       "      <td>White</td>\n",
       "      <td>Male</td>\n",
       "      <td>1975</td>\n",
       "      <td>1975-1999</td>\n",
       "      <td>Regional</td>\n",
       "      <td>11.0</td>\n",
       "      <td>Bones and Joints</td>\n",
       "      <td>One primary only</td>\n",
       "      <td>...</td>\n",
       "      <td>Bones and Joints</td>\n",
       "      <td>Dead (attributable to this cancer dx)</td>\n",
       "      <td>Hospital inpatient/outpatient or clinic</td>\n",
       "      <td>&lt;function &lt;lambda&gt; at 0x00000218727CA3A0&gt;</td>\n",
       "      <td>94.0</td>\n",
       "      <td>85-115</td>\n",
       "      <td>No</td>\n",
       "      <td>Yes</td>\n",
       "      <td>No</td>\n",
       "      <td>Dead in 5</td>\n",
       "    </tr>\n",
       "    <tr>\n",
       "      <th>4</th>\n",
       "      <td>5166438</td>\n",
       "      <td>15-19</td>\n",
       "      <td>White</td>\n",
       "      <td>Male</td>\n",
       "      <td>1975</td>\n",
       "      <td>1975-1999</td>\n",
       "      <td>Localized</td>\n",
       "      <td>31.0</td>\n",
       "      <td>Bones and Joints</td>\n",
       "      <td>One primary only</td>\n",
       "      <td>...</td>\n",
       "      <td>Bones and Joints</td>\n",
       "      <td>Dead (attributable to this cancer dx)</td>\n",
       "      <td>Hospital inpatient/outpatient or clinic</td>\n",
       "      <td>&lt;function &lt;lambda&gt; at 0x00000218727CA3A0&gt;</td>\n",
       "      <td>142.0</td>\n",
       "      <td>&gt; 115</td>\n",
       "      <td>Yes</td>\n",
       "      <td>No</td>\n",
       "      <td>No</td>\n",
       "      <td>Dead in 5</td>\n",
       "    </tr>\n",
       "    <tr>\n",
       "      <th>...</th>\n",
       "      <td>...</td>\n",
       "      <td>...</td>\n",
       "      <td>...</td>\n",
       "      <td>...</td>\n",
       "      <td>...</td>\n",
       "      <td>...</td>\n",
       "      <td>...</td>\n",
       "      <td>...</td>\n",
       "      <td>...</td>\n",
       "      <td>...</td>\n",
       "      <td>...</td>\n",
       "      <td>...</td>\n",
       "      <td>...</td>\n",
       "      <td>...</td>\n",
       "      <td>...</td>\n",
       "      <td>...</td>\n",
       "      <td>...</td>\n",
       "      <td>...</td>\n",
       "      <td>...</td>\n",
       "      <td>...</td>\n",
       "      <td>...</td>\n",
       "    </tr>\n",
       "    <tr>\n",
       "      <th>2576</th>\n",
       "      <td>46141605</td>\n",
       "      <td>01-04</td>\n",
       "      <td>White</td>\n",
       "      <td>Male</td>\n",
       "      <td>2018</td>\n",
       "      <td>2010-2018</td>\n",
       "      <td>Localized</td>\n",
       "      <td>6.0</td>\n",
       "      <td>Bones and Joints</td>\n",
       "      <td>One primary only</td>\n",
       "      <td>...</td>\n",
       "      <td>Alive</td>\n",
       "      <td>Alive or dead of other cause</td>\n",
       "      <td>Hospital inpatient/outpatient or clinic</td>\n",
       "      <td>&lt; $60,999</td>\n",
       "      <td>74.0</td>\n",
       "      <td>&lt; 85</td>\n",
       "      <td>Yes</td>\n",
       "      <td>Yes</td>\n",
       "      <td>Yes</td>\n",
       "      <td>Survive</td>\n",
       "    </tr>\n",
       "    <tr>\n",
       "      <th>2577</th>\n",
       "      <td>46144083</td>\n",
       "      <td>15-19</td>\n",
       "      <td>White</td>\n",
       "      <td>Male</td>\n",
       "      <td>2018</td>\n",
       "      <td>2010-2018</td>\n",
       "      <td>Localized</td>\n",
       "      <td>7.0</td>\n",
       "      <td>Bones and Joints</td>\n",
       "      <td>One primary only</td>\n",
       "      <td>...</td>\n",
       "      <td>Alive</td>\n",
       "      <td>Alive or dead of other cause</td>\n",
       "      <td>Hospital inpatient/outpatient or clinic</td>\n",
       "      <td>$60,000 - $74,999</td>\n",
       "      <td>16.0</td>\n",
       "      <td>&lt; 85</td>\n",
       "      <td>Yes</td>\n",
       "      <td>Yes</td>\n",
       "      <td>Yes</td>\n",
       "      <td>Survive</td>\n",
       "    </tr>\n",
       "    <tr>\n",
       "      <th>2578</th>\n",
       "      <td>46146654</td>\n",
       "      <td>01-04</td>\n",
       "      <td>White</td>\n",
       "      <td>Male</td>\n",
       "      <td>2018</td>\n",
       "      <td>2010-2018</td>\n",
       "      <td>Localized</td>\n",
       "      <td>9.0</td>\n",
       "      <td>Bones and Joints</td>\n",
       "      <td>One primary only</td>\n",
       "      <td>...</td>\n",
       "      <td>Alive</td>\n",
       "      <td>Alive or dead of other cause</td>\n",
       "      <td>Hospital inpatient/outpatient or clinic</td>\n",
       "      <td>$75,000+</td>\n",
       "      <td>60.0</td>\n",
       "      <td>&lt; 85</td>\n",
       "      <td>Yes</td>\n",
       "      <td>Yes</td>\n",
       "      <td>Yes</td>\n",
       "      <td>Survive</td>\n",
       "    </tr>\n",
       "    <tr>\n",
       "      <th>2579</th>\n",
       "      <td>46215234</td>\n",
       "      <td>10-14</td>\n",
       "      <td>White</td>\n",
       "      <td>Male</td>\n",
       "      <td>2018</td>\n",
       "      <td>2010-2018</td>\n",
       "      <td>Localized</td>\n",
       "      <td>3.0</td>\n",
       "      <td>Bones and Joints</td>\n",
       "      <td>One primary only</td>\n",
       "      <td>...</td>\n",
       "      <td>Alive</td>\n",
       "      <td>Alive or dead of other cause</td>\n",
       "      <td>Hospital inpatient/outpatient or clinic</td>\n",
       "      <td>$75,000+</td>\n",
       "      <td>105.0</td>\n",
       "      <td>85-115</td>\n",
       "      <td>No</td>\n",
       "      <td>Yes</td>\n",
       "      <td>No</td>\n",
       "      <td>Survive</td>\n",
       "    </tr>\n",
       "    <tr>\n",
       "      <th>2580</th>\n",
       "      <td>75872838</td>\n",
       "      <td>15-19</td>\n",
       "      <td>Other</td>\n",
       "      <td>Female</td>\n",
       "      <td>2018</td>\n",
       "      <td>2010-2018</td>\n",
       "      <td>Localized</td>\n",
       "      <td>3.0</td>\n",
       "      <td>Soft Tissue including Heart</td>\n",
       "      <td>One primary only</td>\n",
       "      <td>...</td>\n",
       "      <td>Alive</td>\n",
       "      <td>Alive or dead of other cause</td>\n",
       "      <td>Hospital inpatient/outpatient or clinic</td>\n",
       "      <td>&lt; $60,999</td>\n",
       "      <td>78.0</td>\n",
       "      <td>&lt; 85</td>\n",
       "      <td>No</td>\n",
       "      <td>Yes</td>\n",
       "      <td>No</td>\n",
       "      <td>Survive</td>\n",
       "    </tr>\n",
       "  </tbody>\n",
       "</table>\n",
       "<p>2581 rows × 21 columns</p>\n",
       "</div>"
      ],
      "text/plain": [
       "            Id    Age   Race     Sex  Diagnosed Diagnosed group      Stage  \\\n",
       "0     22929427  15-19  White    Male       1975       1975-1999   Regional   \n",
       "1     10123011  05-09  White    Male       1975       1975-1999   Regional   \n",
       "2     28016877  15-19  White    Male       1975       1975-1999    Distant   \n",
       "3     10055225  15-19  White    Male       1975       1975-1999   Regional   \n",
       "4      5166438  15-19  White    Male       1975       1975-1999  Localized   \n",
       "...        ...    ...    ...     ...        ...             ...        ...   \n",
       "2576  46141605  01-04  White    Male       2018       2010-2018  Localized   \n",
       "2577  46144083  15-19  White    Male       2018       2010-2018  Localized   \n",
       "2578  46146654  01-04  White    Male       2018       2010-2018  Localized   \n",
       "2579  46215234  10-14  White    Male       2018       2010-2018  Localized   \n",
       "2580  75872838  15-19  Other  Female       2018       2010-2018  Localized   \n",
       "\n",
       "      Months                         Site   Sequence number  ...  \\\n",
       "0       31.0             Bones and Joints  One primary only  ...   \n",
       "1       23.0             Bones and Joints  One primary only  ...   \n",
       "2       28.0             Bones and Joints  One primary only  ...   \n",
       "3       11.0             Bones and Joints  One primary only  ...   \n",
       "4       31.0             Bones and Joints  One primary only  ...   \n",
       "...      ...                          ...               ...  ...   \n",
       "2576     6.0             Bones and Joints  One primary only  ...   \n",
       "2577     7.0             Bones and Joints  One primary only  ...   \n",
       "2578     9.0             Bones and Joints  One primary only  ...   \n",
       "2579     3.0             Bones and Joints  One primary only  ...   \n",
       "2580     3.0  Soft Tissue including Heart  One primary only  ...   \n",
       "\n",
       "                   COD                                   COD2  \\\n",
       "0     Bones and Joints  Dead (attributable to this cancer dx)   \n",
       "1     Bones and Joints  Dead (attributable to this cancer dx)   \n",
       "2     Bones and Joints  Dead (attributable to this cancer dx)   \n",
       "3     Bones and Joints  Dead (attributable to this cancer dx)   \n",
       "4     Bones and Joints  Dead (attributable to this cancer dx)   \n",
       "...                ...                                    ...   \n",
       "2576             Alive           Alive or dead of other cause   \n",
       "2577             Alive           Alive or dead of other cause   \n",
       "2578             Alive           Alive or dead of other cause   \n",
       "2579             Alive           Alive or dead of other cause   \n",
       "2580             Alive           Alive or dead of other cause   \n",
       "\n",
       "                                       Report  \\\n",
       "0     Hospital inpatient/outpatient or clinic   \n",
       "1     Hospital inpatient/outpatient or clinic   \n",
       "2     Hospital inpatient/outpatient or clinic   \n",
       "3     Hospital inpatient/outpatient or clinic   \n",
       "4     Hospital inpatient/outpatient or clinic   \n",
       "...                                       ...   \n",
       "2576  Hospital inpatient/outpatient or clinic   \n",
       "2577  Hospital inpatient/outpatient or clinic   \n",
       "2578  Hospital inpatient/outpatient or clinic   \n",
       "2579  Hospital inpatient/outpatient or clinic   \n",
       "2580  Hospital inpatient/outpatient or clinic   \n",
       "\n",
       "                                       Property Tumor size  Tumor size group  \\\n",
       "0     <function <lambda> at 0x00000218727CA3A0>       94.0            85-115   \n",
       "1     <function <lambda> at 0x00000218727CA3A0>       94.0            85-115   \n",
       "2     <function <lambda> at 0x00000218727CA3A0>      104.0            85-115   \n",
       "3     <function <lambda> at 0x00000218727CA3A0>       94.0            85-115   \n",
       "4     <function <lambda> at 0x00000218727CA3A0>      142.0             > 115   \n",
       "...                                         ...        ...               ...   \n",
       "2576                                  < $60,999       74.0              < 85   \n",
       "2577                          $60,000 - $74,999       16.0              < 85   \n",
       "2578                                   $75,000+       60.0              < 85   \n",
       "2579                                   $75,000+      105.0            85-115   \n",
       "2580                                  < $60,999       78.0              < 85   \n",
       "\n",
       "     Surgery Chemotherapy Radiotherapy    Survive  \n",
       "0         No           No           No  Dead in 5  \n",
       "1         No           No           No  Dead in 5  \n",
       "2         No          Yes           No  Dead in 5  \n",
       "3         No          Yes           No  Dead in 5  \n",
       "4        Yes           No           No  Dead in 5  \n",
       "...      ...          ...          ...        ...  \n",
       "2576     Yes          Yes          Yes    Survive  \n",
       "2577     Yes          Yes          Yes    Survive  \n",
       "2578     Yes          Yes          Yes    Survive  \n",
       "2579      No          Yes           No    Survive  \n",
       "2580      No          Yes           No    Survive  \n",
       "\n",
       "[2581 rows x 21 columns]"
      ]
     },
     "execution_count": 59,
     "metadata": {},
     "output_type": "execute_result"
    }
   ],
   "source": []
  },
  {
   "cell_type": "code",
   "execution_count": 58,
   "metadata": {},
   "outputs": [],
   "source": [
    "df2 = pd.read_csv('ml2-data.csv', delimiter=',', encoding= 'unicode_escape')"
   ]
  },
  {
   "cell_type": "code",
   "execution_count": 123,
   "metadata": {
    "collapsed": true
   },
   "outputs": [
    {
     "data": {
      "text/plain": [
       "$60,000 - $74,999    1081\n",
       "$75,000+              852\n",
       "< $60,999             648\n",
       "Name: Property, dtype: int64"
      ]
     },
     "execution_count": 123,
     "metadata": {},
     "output_type": "execute_result"
    }
   ],
   "source": [
    "df['Property'].value_counts()"
   ]
  },
  {
   "cell_type": "code",
   "execution_count": 110,
   "metadata": {},
   "outputs": [],
   "source": [
    "df.loc[(df['Property']!='$60,000 - $74,999') &  \n",
    "      (df['Property']!='$75,000+') &\n",
    "      (df['Property']!='< $60,999'), 'Property'] = np.nan"
   ]
  },
  {
   "cell_type": "code",
   "execution_count": 66,
   "metadata": {},
   "outputs": [],
   "source": [
    "import numpy as np\n",
    "import random"
   ]
  },
  {
   "cell_type": "code",
   "execution_count": 108,
   "metadata": {},
   "outputs": [],
   "source": [
    "df[\"Property\"].fillna(lambda x: random.choice(df[df['Property'] != np.nan][\"Property\"]), inplace =True)"
   ]
  },
  {
   "cell_type": "code",
   "execution_count": 118,
   "metadata": {},
   "outputs": [],
   "source": [
    "def randomiseMissingData(df2):\n",
    "    \"randomise missing data for DataFrame (within a column)\"\n",
    "    df = df2.copy()\n",
    "    for col in df.columns:\n",
    "        data = df[col]\n",
    "        mask = data.isnull()\n",
    "        samples = random.choices( data[~mask].values , k = mask.sum() )\n",
    "        data[mask] = samples\n",
    "\n",
    "    return df"
   ]
  },
  {
   "cell_type": "code",
   "execution_count": 121,
   "metadata": {
    "collapsed": true
   },
   "outputs": [
    {
     "name": "stderr",
     "output_type": "stream",
     "text": [
      "<ipython-input-118-c3c857110875>:8: SettingWithCopyWarning: \n",
      "A value is trying to be set on a copy of a slice from a DataFrame\n",
      "\n",
      "See the caveats in the documentation: https://pandas.pydata.org/pandas-docs/stable/user_guide/indexing.html#returning-a-view-versus-a-copy\n",
      "  data[mask] = samples\n"
     ]
    }
   ],
   "source": [
    "df = randomiseMissingData(df)"
   ]
  },
  {
   "cell_type": "code",
   "execution_count": 126,
   "metadata": {
    "collapsed": true
   },
   "outputs": [
    {
     "name": "stdout",
     "output_type": "stream",
     "text": [
      "<class 'pandas.core.frame.DataFrame'>\n",
      "RangeIndex: 2581 entries, 0 to 2580\n",
      "Data columns (total 17 columns):\n",
      " #   Column            Non-Null Count  Dtype \n",
      "---  ------            --------------  ----- \n",
      " 0   Age               2581 non-null   object\n",
      " 1   Race              2581 non-null   object\n",
      " 2   Sex               2581 non-null   object\n",
      " 3   Diagnosed group   2581 non-null   object\n",
      " 4   Stage             2581 non-null   object\n",
      " 5   Site              2581 non-null   object\n",
      " 6   Sequence number   2581 non-null   object\n",
      " 7   Malignat number   2581 non-null   int64 \n",
      " 8   COD               2581 non-null   object\n",
      " 9   COD2              2581 non-null   object\n",
      " 10  Report            2581 non-null   object\n",
      " 11  Property          2581 non-null   object\n",
      " 12  Tumor size group  2581 non-null   object\n",
      " 13  Surgery           2581 non-null   object\n",
      " 14  Chemotherapy      2581 non-null   object\n",
      " 15  Radiotherapy      2581 non-null   object\n",
      " 16  Survive           2581 non-null   object\n",
      "dtypes: int64(1), object(16)\n",
      "memory usage: 342.9+ KB\n"
     ]
    }
   ],
   "source": []
  }
 ],
 "metadata": {
  "kernelspec": {
   "display_name": "Python 3",
   "language": "python",
   "name": "python3"
  },
  "language_info": {
   "codemirror_mode": {
    "name": "ipython",
    "version": 3
   },
   "file_extension": ".py",
   "mimetype": "text/x-python",
   "name": "python",
   "nbconvert_exporter": "python",
   "pygments_lexer": "ipython3",
   "version": "3.8.5"
  }
 },
 "nbformat": 4,
 "nbformat_minor": 4
}
