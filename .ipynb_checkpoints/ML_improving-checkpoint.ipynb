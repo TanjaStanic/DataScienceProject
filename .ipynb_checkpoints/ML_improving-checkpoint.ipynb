{
 "cells": [
  {
   "cell_type": "markdown",
   "metadata": {},
   "source": [
    "## ML improving model"
   ]
  },
  {
   "cell_type": "code",
   "execution_count": null,
   "metadata": {},
   "outputs": [],
   "source": [
    "import pandas as pd\n",
    "from matplotlib import pyplot as plt\n",
    "from sklearn import preprocessing"
   ]
  },
  {
   "cell_type": "code",
   "execution_count": 2,
   "metadata": {
    "scrolled": true
   },
   "outputs": [],
   "source": [
    "df = pd.read_csv('ml-data.csv', delimiter=',', encoding= 'unicode_escape')"
   ]
  },
  {
   "cell_type": "code",
   "execution_count": 3,
   "metadata": {},
   "outputs": [],
   "source": [
    "df = df.drop(['Diagnosed','Months','Tumor size','COD2','COD','Malignat number','Sequence number','Id'], axis = 1)"
   ]
  },
  {
   "cell_type": "code",
   "execution_count": 4,
   "metadata": {},
   "outputs": [],
   "source": [
    "df.loc[(df['Survive']=='Dead in 10') | (df['Survive']=='Dead in 10+'), 'Survive'] ='Dead in 5+'"
   ]
  },
  {
   "cell_type": "code",
   "execution_count": 5,
   "metadata": {
    "scrolled": true
   },
   "outputs": [
    {
     "data": {
      "text/html": [
       "<div>\n",
       "<style scoped>\n",
       "    .dataframe tbody tr th:only-of-type {\n",
       "        vertical-align: middle;\n",
       "    }\n",
       "\n",
       "    .dataframe tbody tr th {\n",
       "        vertical-align: top;\n",
       "    }\n",
       "\n",
       "    .dataframe thead th {\n",
       "        text-align: right;\n",
       "    }\n",
       "</style>\n",
       "<table border=\"1\" class=\"dataframe\">\n",
       "  <thead>\n",
       "    <tr style=\"text-align: right;\">\n",
       "      <th></th>\n",
       "      <th>Age</th>\n",
       "      <th>Race</th>\n",
       "      <th>Sex</th>\n",
       "      <th>Diagnosed group</th>\n",
       "      <th>Stage</th>\n",
       "      <th>Site</th>\n",
       "      <th>Report</th>\n",
       "      <th>Property</th>\n",
       "      <th>Tumor size group</th>\n",
       "      <th>Surgery</th>\n",
       "      <th>Chemotherapy</th>\n",
       "      <th>Radiotherapy</th>\n",
       "      <th>Survive</th>\n",
       "    </tr>\n",
       "  </thead>\n",
       "  <tbody>\n",
       "    <tr>\n",
       "      <th>10</th>\n",
       "      <td>15-19</td>\n",
       "      <td>White</td>\n",
       "      <td>Male</td>\n",
       "      <td>1975-1999</td>\n",
       "      <td>Localized</td>\n",
       "      <td>Bones and Joints</td>\n",
       "      <td>Hospital inpatient/outpatient or clinic</td>\n",
       "      <td>$75,000+</td>\n",
       "      <td>&lt; 85</td>\n",
       "      <td>No</td>\n",
       "      <td>Yes</td>\n",
       "      <td>No</td>\n",
       "      <td>Dead in 5+</td>\n",
       "    </tr>\n",
       "    <tr>\n",
       "      <th>18</th>\n",
       "      <td>15-19</td>\n",
       "      <td>White</td>\n",
       "      <td>Male</td>\n",
       "      <td>1975-1999</td>\n",
       "      <td>Regional</td>\n",
       "      <td>Bones and Joints</td>\n",
       "      <td>Hospital inpatient/outpatient or clinic</td>\n",
       "      <td>$75,000+</td>\n",
       "      <td>85-115</td>\n",
       "      <td>Unknown</td>\n",
       "      <td>Yes</td>\n",
       "      <td>Yes</td>\n",
       "      <td>Dead in 5+</td>\n",
       "    </tr>\n",
       "    <tr>\n",
       "      <th>20</th>\n",
       "      <td>15-19</td>\n",
       "      <td>White</td>\n",
       "      <td>Male</td>\n",
       "      <td>1975-1999</td>\n",
       "      <td>Regional</td>\n",
       "      <td>Bones and Joints</td>\n",
       "      <td>Hospital inpatient/outpatient or clinic</td>\n",
       "      <td>&lt; $60,999</td>\n",
       "      <td>85-115</td>\n",
       "      <td>No</td>\n",
       "      <td>Yes</td>\n",
       "      <td>No</td>\n",
       "      <td>Dead in 5+</td>\n",
       "    </tr>\n",
       "    <tr>\n",
       "      <th>28</th>\n",
       "      <td>10-14</td>\n",
       "      <td>White</td>\n",
       "      <td>Female</td>\n",
       "      <td>1975-1999</td>\n",
       "      <td>Distant</td>\n",
       "      <td>Bones and Joints</td>\n",
       "      <td>Hospital inpatient/outpatient or clinic</td>\n",
       "      <td>$75,000+</td>\n",
       "      <td>85-115</td>\n",
       "      <td>Unknown</td>\n",
       "      <td>Yes</td>\n",
       "      <td>No</td>\n",
       "      <td>Dead in 5+</td>\n",
       "    </tr>\n",
       "    <tr>\n",
       "      <th>41</th>\n",
       "      <td>10-14</td>\n",
       "      <td>White</td>\n",
       "      <td>Male</td>\n",
       "      <td>1975-1999</td>\n",
       "      <td>Distant</td>\n",
       "      <td>Bones and Joints</td>\n",
       "      <td>Hospital inpatient/outpatient or clinic</td>\n",
       "      <td>&lt; $60,999</td>\n",
       "      <td>85-115</td>\n",
       "      <td>No</td>\n",
       "      <td>Yes</td>\n",
       "      <td>No</td>\n",
       "      <td>Dead in 5+</td>\n",
       "    </tr>\n",
       "    <tr>\n",
       "      <th>...</th>\n",
       "      <td>...</td>\n",
       "      <td>...</td>\n",
       "      <td>...</td>\n",
       "      <td>...</td>\n",
       "      <td>...</td>\n",
       "      <td>...</td>\n",
       "      <td>...</td>\n",
       "      <td>...</td>\n",
       "      <td>...</td>\n",
       "      <td>...</td>\n",
       "      <td>...</td>\n",
       "      <td>...</td>\n",
       "      <td>...</td>\n",
       "    </tr>\n",
       "    <tr>\n",
       "      <th>1881</th>\n",
       "      <td>05-09</td>\n",
       "      <td>White</td>\n",
       "      <td>Female</td>\n",
       "      <td>2010-2018</td>\n",
       "      <td>Regional</td>\n",
       "      <td>Bones and Joints</td>\n",
       "      <td>Hospital inpatient/outpatient or clinic</td>\n",
       "      <td>$60,000 - $74,999</td>\n",
       "      <td>&lt; 85</td>\n",
       "      <td>Yes</td>\n",
       "      <td>Yes</td>\n",
       "      <td>Yes</td>\n",
       "      <td>Dead in 5+</td>\n",
       "    </tr>\n",
       "    <tr>\n",
       "      <th>1892</th>\n",
       "      <td>05-09</td>\n",
       "      <td>Other</td>\n",
       "      <td>Male</td>\n",
       "      <td>2010-2018</td>\n",
       "      <td>Localized</td>\n",
       "      <td>Bones and Joints</td>\n",
       "      <td>Hospital inpatient/outpatient or clinic</td>\n",
       "      <td>$60,000 - $74,999</td>\n",
       "      <td>&gt; 115</td>\n",
       "      <td>Yes</td>\n",
       "      <td>Yes</td>\n",
       "      <td>No</td>\n",
       "      <td>Dead in 5+</td>\n",
       "    </tr>\n",
       "    <tr>\n",
       "      <th>1898</th>\n",
       "      <td>10-14</td>\n",
       "      <td>White</td>\n",
       "      <td>Female</td>\n",
       "      <td>2010-2018</td>\n",
       "      <td>Regional</td>\n",
       "      <td>Bones and Joints</td>\n",
       "      <td>Hospital inpatient/outpatient or clinic</td>\n",
       "      <td>$60,000 - $74,999</td>\n",
       "      <td>&lt; 85</td>\n",
       "      <td>Yes</td>\n",
       "      <td>Yes</td>\n",
       "      <td>Yes</td>\n",
       "      <td>Dead in 5+</td>\n",
       "    </tr>\n",
       "    <tr>\n",
       "      <th>2043</th>\n",
       "      <td>10-14</td>\n",
       "      <td>White</td>\n",
       "      <td>Male</td>\n",
       "      <td>2010-2018</td>\n",
       "      <td>Localized</td>\n",
       "      <td>Bones and Joints</td>\n",
       "      <td>Hospital inpatient/outpatient or clinic</td>\n",
       "      <td>$75,000+</td>\n",
       "      <td>&lt; 85</td>\n",
       "      <td>No</td>\n",
       "      <td>Yes</td>\n",
       "      <td>No</td>\n",
       "      <td>Dead in 5+</td>\n",
       "    </tr>\n",
       "    <tr>\n",
       "      <th>2100</th>\n",
       "      <td>10-14</td>\n",
       "      <td>White</td>\n",
       "      <td>Female</td>\n",
       "      <td>2010-2018</td>\n",
       "      <td>Distant</td>\n",
       "      <td>Bones and Joints</td>\n",
       "      <td>Hospital inpatient/outpatient or clinic</td>\n",
       "      <td>$75,000+</td>\n",
       "      <td>&gt; 115</td>\n",
       "      <td>Yes</td>\n",
       "      <td>Yes</td>\n",
       "      <td>Yes</td>\n",
       "      <td>Dead in 5+</td>\n",
       "    </tr>\n",
       "  </tbody>\n",
       "</table>\n",
       "<p>165 rows × 13 columns</p>\n",
       "</div>"
      ],
      "text/plain": [
       "        Age   Race     Sex Diagnosed group      Stage              Site  \\\n",
       "10    15-19  White    Male       1975-1999  Localized  Bones and Joints   \n",
       "18    15-19  White    Male       1975-1999   Regional  Bones and Joints   \n",
       "20    15-19  White    Male       1975-1999   Regional  Bones and Joints   \n",
       "28    10-14  White  Female       1975-1999    Distant  Bones and Joints   \n",
       "41    10-14  White    Male       1975-1999    Distant  Bones and Joints   \n",
       "...     ...    ...     ...             ...        ...               ...   \n",
       "1881  05-09  White  Female       2010-2018   Regional  Bones and Joints   \n",
       "1892  05-09  Other    Male       2010-2018  Localized  Bones and Joints   \n",
       "1898  10-14  White  Female       2010-2018   Regional  Bones and Joints   \n",
       "2043  10-14  White    Male       2010-2018  Localized  Bones and Joints   \n",
       "2100  10-14  White  Female       2010-2018    Distant  Bones and Joints   \n",
       "\n",
       "                                       Report           Property  \\\n",
       "10    Hospital inpatient/outpatient or clinic           $75,000+   \n",
       "18    Hospital inpatient/outpatient or clinic           $75,000+   \n",
       "20    Hospital inpatient/outpatient or clinic          < $60,999   \n",
       "28    Hospital inpatient/outpatient or clinic           $75,000+   \n",
       "41    Hospital inpatient/outpatient or clinic          < $60,999   \n",
       "...                                       ...                ...   \n",
       "1881  Hospital inpatient/outpatient or clinic  $60,000 - $74,999   \n",
       "1892  Hospital inpatient/outpatient or clinic  $60,000 - $74,999   \n",
       "1898  Hospital inpatient/outpatient or clinic  $60,000 - $74,999   \n",
       "2043  Hospital inpatient/outpatient or clinic           $75,000+   \n",
       "2100  Hospital inpatient/outpatient or clinic           $75,000+   \n",
       "\n",
       "     Tumor size group  Surgery Chemotherapy Radiotherapy     Survive  \n",
       "10               < 85       No          Yes           No  Dead in 5+  \n",
       "18             85-115  Unknown          Yes          Yes  Dead in 5+  \n",
       "20             85-115       No          Yes           No  Dead in 5+  \n",
       "28             85-115  Unknown          Yes           No  Dead in 5+  \n",
       "41             85-115       No          Yes           No  Dead in 5+  \n",
       "...               ...      ...          ...          ...         ...  \n",
       "1881             < 85      Yes          Yes          Yes  Dead in 5+  \n",
       "1892            > 115      Yes          Yes           No  Dead in 5+  \n",
       "1898             < 85      Yes          Yes          Yes  Dead in 5+  \n",
       "2043             < 85       No          Yes           No  Dead in 5+  \n",
       "2100            > 115      Yes          Yes          Yes  Dead in 5+  \n",
       "\n",
       "[165 rows x 13 columns]"
      ]
     },
     "execution_count": 5,
     "metadata": {},
     "output_type": "execute_result"
    }
   ],
   "source": [
    "df.loc[(df['Survive']=='Dead in 5+') ]"
   ]
  },
  {
   "cell_type": "markdown",
   "metadata": {},
   "source": [
    "## Final attributes"
   ]
  },
  {
   "cell_type": "code",
   "execution_count": 6,
   "metadata": {},
   "outputs": [
    {
     "data": {
      "text/plain": [
       "Index(['Age', 'Race', 'Sex', 'Diagnosed group', 'Stage', 'Site', 'Report',\n",
       "       'Property', 'Tumor size group', 'Surgery', 'Chemotherapy',\n",
       "       'Radiotherapy', 'Survive'],\n",
       "      dtype='object')"
      ]
     },
     "execution_count": 6,
     "metadata": {},
     "output_type": "execute_result"
    }
   ],
   "source": [
    "df.columns"
   ]
  },
  {
   "cell_type": "markdown",
   "metadata": {},
   "source": [
    "### One hot Encoding - columns"
   ]
  },
  {
   "cell_type": "code",
   "execution_count": 7,
   "metadata": {},
   "outputs": [],
   "source": [
    "from sklearn.preprocessing import OneHotEncoder"
   ]
  },
  {
   "cell_type": "code",
   "execution_count": 8,
   "metadata": {},
   "outputs": [
    {
     "name": "stdout",
     "output_type": "stream",
     "text": [
      "Index(['Survive', 'Age_00', 'Age_01-04', 'Age_05-09', 'Age_10-14', 'Age_15-19',\n",
      "       'Race_Black', 'Race_Other', 'Race_White', 'Sex_Female', 'Sex_Male',\n",
      "       'Diagnosed group_1975-1999', 'Diagnosed group_2000-2009',\n",
      "       'Diagnosed group_2010-2018', 'Stage_Distant', 'Stage_Localized',\n",
      "       'Stage_Regional', 'Site_Bones and Joints',\n",
      "       'Site_Kidney and Renal Pelvis', 'Site_Other',\n",
      "       'Site_Soft Tissue including Heart', 'Report_Death certificate only',\n",
      "       'Report_Hospital inpatient/outpatient or clinic',\n",
      "       'Report_Laboratory only (hospital or private)',\n",
      "       'Report_Other hospital outpatient unit or surgery center (2006+)',\n",
      "       'Report_Physicians office/private medical practitioner (LMD)',\n",
      "       'Report_Radiation treatment or medical oncology center (2006+)',\n",
      "       'Property_$60,000 - $74,999', 'Property_$75,000+', 'Property_< $60,999',\n",
      "       'Tumor size group_85-115', 'Tumor size group_< 85',\n",
      "       'Tumor size group_> 115', 'Surgery_No', 'Surgery_Unknown',\n",
      "       'Surgery_Yes', 'Chemotherapy_No', 'Chemotherapy_Yes', 'Radiotherapy_No',\n",
      "       'Radiotherapy_Yes'],\n",
      "      dtype='object')\n"
     ]
    }
   ],
   "source": [
    "df_ohe = df\n",
    "categorical_columns = ['Age', 'Race', 'Sex','Diagnosed group', 'Stage', 'Site', 'Report',\n",
    "       'Property', 'Tumor size group', 'Surgery', 'Chemotherapy',\n",
    "       'Radiotherapy']\n",
    "\n",
    "for col in categorical_columns:\n",
    "    col_ohe = pd.get_dummies(df[col], prefix=col)\n",
    "    df_ohe = pd.concat((df_ohe, col_ohe), axis=1).drop(col, axis=1)\n",
    "    \n",
    "print(df_ohe.columns)"
   ]
  },
  {
   "cell_type": "markdown",
   "metadata": {},
   "source": [
    "## Make survive as category"
   ]
  },
  {
   "cell_type": "code",
   "execution_count": null,
   "metadata": {},
   "outputs": [],
   "source": []
  },
  {
   "cell_type": "markdown",
   "metadata": {},
   "source": [
    "### Split on training and test data"
   ]
  },
  {
   "cell_type": "code",
   "execution_count": 9,
   "metadata": {},
   "outputs": [],
   "source": [
    "from sklearn.model_selection import train_test_split"
   ]
  },
  {
   "cell_type": "code",
   "execution_count": 10,
   "metadata": {},
   "outputs": [],
   "source": [
    "training, test = train_test_split(df_ohe, test_size=0.25, random_state=35)"
   ]
  },
  {
   "cell_type": "code",
   "execution_count": 11,
   "metadata": {},
   "outputs": [],
   "source": [
    "features = training.drop([\"Survive\"], axis=1).columns"
   ]
  },
  {
   "cell_type": "code",
   "execution_count": 12,
   "metadata": {},
   "outputs": [],
   "source": [
    "X_train, X_test, y_train, y_test = train_test_split(\n",
    "    df_ohe[features], df_ohe['Survive'], test_size=0.25, random_state=35)"
   ]
  },
  {
   "cell_type": "markdown",
   "metadata": {},
   "source": [
    "## Linear SVM"
   ]
  },
  {
   "cell_type": "code",
   "execution_count": 13,
   "metadata": {},
   "outputs": [],
   "source": [
    "from sklearn.metrics import classification_report"
   ]
  },
  {
   "cell_type": "code",
   "execution_count": 14,
   "metadata": {},
   "outputs": [
    {
     "name": "stdout",
     "output_type": "stream",
     "text": [
      "              precision    recall  f1-score   support\n",
      "\n",
      "   Dead in 5       0.78      0.67      0.72       206\n",
      "  Dead in 5+       0.00      0.00      0.00        34\n",
      "     Survive       0.80      0.92      0.86       406\n",
      "\n",
      "    accuracy                           0.79       646\n",
      "   macro avg       0.53      0.53      0.53       646\n",
      "weighted avg       0.75      0.79      0.77       646\n",
      "\n"
     ]
    },
    {
     "name": "stderr",
     "output_type": "stream",
     "text": [
      "C:\\anaconda3\\lib\\site-packages\\sklearn\\metrics\\_classification.py:1221: UndefinedMetricWarning: Precision and F-score are ill-defined and being set to 0.0 in labels with no predicted samples. Use `zero_division` parameter to control this behavior.\n",
      "  _warn_prf(average, modifier, msg_start, len(result))\n"
     ]
    }
   ],
   "source": [
    "from sklearn import svm\n",
    "\n",
    "clf_svm = svm.SVC(kernel='linear', C=0.5, degree=9)\n",
    "clf_svm.fit(training[features], training['Survive'])\n",
    "print(classification_report(test['Survive'], clf_svm.predict(test[features])))"
   ]
  },
  {
   "cell_type": "markdown",
   "metadata": {},
   "source": [
    "## RBF SVM"
   ]
  },
  {
   "cell_type": "code",
   "execution_count": 15,
   "metadata": {},
   "outputs": [
    {
     "name": "stdout",
     "output_type": "stream",
     "text": [
      "              precision    recall  f1-score   support\n",
      "\n",
      "   Dead in 5       0.83      0.69      0.75       206\n",
      "  Dead in 5+       0.00      0.00      0.00        34\n",
      "     Survive       0.81      0.94      0.87       406\n",
      "\n",
      "    accuracy                           0.81       646\n",
      "   macro avg       0.55      0.55      0.54       646\n",
      "weighted avg       0.77      0.81      0.79       646\n",
      "\n"
     ]
    },
    {
     "name": "stderr",
     "output_type": "stream",
     "text": [
      "C:\\anaconda3\\lib\\site-packages\\sklearn\\metrics\\_classification.py:1221: UndefinedMetricWarning: Precision and F-score are ill-defined and being set to 0.0 in labels with no predicted samples. Use `zero_division` parameter to control this behavior.\n",
      "  _warn_prf(average, modifier, msg_start, len(result))\n"
     ]
    }
   ],
   "source": [
    "clf_svm_rbf = svm.SVC(kernel='rbf')\n",
    "clf_svm_rbf.fit(training[features], training['Survive'])\n",
    "print(classification_report(test['Survive'], clf_svm_rbf.predict(test[features])))"
   ]
  },
  {
   "cell_type": "markdown",
   "metadata": {},
   "source": [
    "### Select the best hyperparameter for SVM\n"
   ]
  },
  {
   "cell_type": "code",
   "execution_count": 16,
   "metadata": {},
   "outputs": [],
   "source": [
    "from sklearn.model_selection import GridSearchCV"
   ]
  },
  {
   "cell_type": "code",
   "execution_count": 15,
   "metadata": {},
   "outputs": [
    {
     "data": {
      "text/plain": [
       "GridSearchCV(cv=2, estimator=SVC(),\n",
       "             param_grid=[{'C': [1000, 1100, 1300], 'degree': [1, 3, 6],\n",
       "                          'gamma': [0.001, 1e-05],\n",
       "                          'kernel': ['rbf', 'linear']}])"
      ]
     },
     "execution_count": 15,
     "metadata": {},
     "output_type": "execute_result"
    }
   ],
   "source": [
    "param_grid = [{'kernel': ['rbf','linear'], \n",
    "               'gamma': [1e-3, 1e-5],\n",
    "                'C': [1000, 1100, 1300], \n",
    "                'degree' : [1,3,6]}]\n",
    "clf = GridSearchCV(svm.SVC(), param_grid, cv=2)\n",
    "clf.fit(X_train, y_train)"
   ]
  },
  {
   "cell_type": "code",
   "execution_count": 16,
   "metadata": {},
   "outputs": [
    {
     "name": "stdout",
     "output_type": "stream",
     "text": [
      "{'C': 1300, 'degree': 1, 'gamma': 0.001, 'kernel': 'rbf'}\n"
     ]
    }
   ],
   "source": [
    "print(clf.best_params_)"
   ]
  },
  {
   "cell_type": "code",
   "execution_count": 56,
   "metadata": {
    "collapsed": true
   },
   "outputs": [
    {
     "name": "stdout",
     "output_type": "stream",
     "text": [
      "              precision    recall  f1-score   support\n",
      "\n",
      "   Dead in 5       0.82      0.70      0.76       206\n",
      "  Dead in 5+       0.00      0.00      0.00        34\n",
      "     Survive       0.81      0.94      0.87       406\n",
      "\n",
      "    accuracy                           0.81       646\n",
      "   macro avg       0.54      0.55      0.54       646\n",
      "weighted avg       0.77      0.81      0.79       646\n",
      "\n"
     ]
    },
    {
     "name": "stderr",
     "output_type": "stream",
     "text": [
      "C:\\anaconda3\\lib\\site-packages\\sklearn\\metrics\\_classification.py:1221: UndefinedMetricWarning: Precision and F-score are ill-defined and being set to 0.0 in labels with no predicted samples. Use `zero_division` parameter to control this behavior.\n",
      "  _warn_prf(average, modifier, msg_start, len(result))\n"
     ]
    }
   ],
   "source": [
    "print(classification_report(test['Survive'], clf.predict(test[features])))"
   ]
  },
  {
   "cell_type": "markdown",
   "metadata": {},
   "source": [
    "# "
   ]
  },
  {
   "cell_type": "markdown",
   "metadata": {},
   "source": [
    "## Decision tree optimisation"
   ]
  },
  {
   "cell_type": "code",
   "execution_count": 17,
   "metadata": {
    "collapsed": true
   },
   "outputs": [
    {
     "name": "stdout",
     "output_type": "stream",
     "text": [
      "              precision    recall  f1-score   support\n",
      "\n",
      "   Dead in 5       0.81      0.69      0.74       206\n",
      "  Dead in 5+       0.33      0.12      0.17        34\n",
      "     Survive       0.82      0.93      0.87       406\n",
      "\n",
      "    accuracy                           0.81       646\n",
      "   macro avg       0.65      0.58      0.60       646\n",
      "weighted avg       0.79      0.81      0.79       646\n",
      "\n"
     ]
    }
   ],
   "source": [
    "from sklearn import tree\n",
    "clf_dtree = tree.DecisionTreeClassifier(max_leaf_nodes = 20, max_depth= 20)\n",
    "\n",
    "clf_dtree.fit(training[features], training['Survive'])\n",
    "print(classification_report(test['Survive'], clf_dtree.predict(test[features])))"
   ]
  },
  {
   "cell_type": "code",
   "execution_count": 34,
   "metadata": {
    "collapsed": true
   },
   "outputs": [
    {
     "data": {
      "text/plain": [
       "GridSearchCV(cv=2, estimator=DecisionTreeClassifier(),\n",
       "             param_grid=[{'max_depth': [20, 25, 30, 35],\n",
       "                          'max_leaf_nodes': [20, 25, 30, 35, 40, 45],\n",
       "                          'min_samples_split': [2, 3, 4]}])"
      ]
     },
     "execution_count": 34,
     "metadata": {},
     "output_type": "execute_result"
    }
   ],
   "source": [
    "tree_para = [{'max_leaf_nodes' : [20,25,30,35,40,45],\n",
    "             'max_depth':[20,25,30,35],\n",
    "              'min_samples_split': [2, 3, 4]\n",
    "             }]\n",
    "clf_dt = GridSearchCV(tree.DecisionTreeClassifier(), tree_para, cv=2)\n",
    "clf_dt.fit(training[features], training['Survive'])"
   ]
  },
  {
   "cell_type": "code",
   "execution_count": 35,
   "metadata": {
    "collapsed": true
   },
   "outputs": [
    {
     "name": "stdout",
     "output_type": "stream",
     "text": [
      "{'max_depth': 25, 'max_leaf_nodes': 40, 'min_samples_split': 3}\n"
     ]
    }
   ],
   "source": [
    "print(clf_dt.best_params_)"
   ]
  },
  {
   "cell_type": "code",
   "execution_count": 36,
   "metadata": {
    "collapsed": true
   },
   "outputs": [
    {
     "name": "stdout",
     "output_type": "stream",
     "text": [
      "              precision    recall  f1-score   support\n",
      "\n",
      "   Dead in 5       0.82      0.71      0.76       206\n",
      "  Dead in 5+       0.50      0.15      0.23        34\n",
      "     Survive       0.83      0.93      0.88       406\n",
      "\n",
      "    accuracy                           0.82       646\n",
      "   macro avg       0.72      0.60      0.62       646\n",
      "weighted avg       0.81      0.82      0.81       646\n",
      "\n"
     ]
    }
   ],
   "source": [
    "print(classification_report(test['Survive'], clf_dt.predict(test[features])))"
   ]
  },
  {
   "cell_type": "markdown",
   "metadata": {},
   "source": [
    "# "
   ]
  },
  {
   "cell_type": "markdown",
   "metadata": {},
   "source": [
    "## Random forest optimisation"
   ]
  },
  {
   "cell_type": "code",
   "execution_count": 39,
   "metadata": {},
   "outputs": [
    {
     "name": "stdout",
     "output_type": "stream",
     "text": [
      "              precision    recall  f1-score   support\n",
      "\n",
      "   Dead in 5       0.87      0.45      0.59       206\n",
      "  Dead in 5+       0.00      0.00      0.00        34\n",
      "     Survive       0.73      0.97      0.83       406\n",
      "\n",
      "    accuracy                           0.75       646\n",
      "   macro avg       0.53      0.47      0.47       646\n",
      "weighted avg       0.73      0.75      0.71       646\n",
      "\n"
     ]
    },
    {
     "name": "stderr",
     "output_type": "stream",
     "text": [
      "C:\\anaconda3\\lib\\site-packages\\sklearn\\metrics\\_classification.py:1221: UndefinedMetricWarning: Precision and F-score are ill-defined and being set to 0.0 in labels with no predicted samples. Use `zero_division` parameter to control this behavior.\n",
      "  _warn_prf(average, modifier, msg_start, len(result))\n"
     ]
    }
   ],
   "source": [
    "from sklearn.ensemble import RandomForestClassifier\n",
    "\n",
    "clf_rf = RandomForestClassifier(max_depth=3, random_state=0)\n",
    "\n",
    "clf_rf.fit(training[features], training['Survive'])\n",
    "print(classification_report(test['Survive'], clf_rf.predict(test[features])))"
   ]
  },
  {
   "cell_type": "code",
   "execution_count": 40,
   "metadata": {},
   "outputs": [],
   "source": [
    "rf_para = [{'bootstrap': [True, False],\n",
    " 'max_depth': [10, 20, 30, 40, 50, 60, 70, 80, 90, 100, None],\n",
    " 'max_features': ['auto', 'sqrt'],\n",
    " 'min_samples_leaf': [1, 2, 4],\n",
    " 'min_samples_split': [2, 5, 10],\n",
    " 'n_estimators': [200, 400, 600, 800, 1000, 1200, 1400, 1600, 1800, 2000]}]"
   ]
  },
  {
   "cell_type": "code",
   "execution_count": null,
   "metadata": {
    "collapsed": true
   },
   "outputs": [],
   "source": [
    "clf_rf = GridSearchCV(RandomForestClassifier(), rf_para, cv=2)\n",
    "clf_rf.fit(training[features], training['Survive'])"
   ]
  },
  {
   "cell_type": "code",
   "execution_count": null,
   "metadata": {},
   "outputs": [],
   "source": [
    "print(clf_rf.best_params_)\n",
    "print(classification_report(test['Survive'], clf_rf.predict(test[features])))"
   ]
  },
  {
   "cell_type": "markdown",
   "metadata": {},
   "source": [
    "# "
   ]
  },
  {
   "cell_type": "markdown",
   "metadata": {},
   "source": [
    "## KNN optimization"
   ]
  },
  {
   "cell_type": "code",
   "execution_count": null,
   "metadata": {},
   "outputs": [],
   "source": [
    "from sklearn.neighbors import KNeighborsClassifier\n",
    "clf_knn = KNeighborsClassifier(n_neighbors=5,weights='distance')\n",
    "\n",
    "clf_knn.fit(training[features], training['Survive'])\n",
    "print(classification_report(test['Survive'], clf_knn.predict(test[features])))"
   ]
  },
  {
   "cell_type": "code",
   "execution_count": null,
   "metadata": {},
   "outputs": [],
   "source": [
    "knn_para = [{\n",
    "    'n_neighbors' : [3,5,7,9,11,13,15],\n",
    "    'weight_options' : [\"uniform\", \"distance\"],\n",
    "    'leaf_size' : [10,30,50,70,90,110]  \n",
    "}]"
   ]
  },
  {
   "cell_type": "code",
   "execution_count": null,
   "metadata": {},
   "outputs": [],
   "source": [
    "clf_knn = GridSearchCV(KNeighborsClassifier(), knn_para, cv=2)\n",
    "clf_knn.fit(training[features], training['Survive'])"
   ]
  }
 ],
 "metadata": {
  "kernelspec": {
   "display_name": "Python 3",
   "language": "python",
   "name": "python3"
  },
  "language_info": {
   "codemirror_mode": {
    "name": "ipython",
    "version": 3
   },
   "file_extension": ".py",
   "mimetype": "text/x-python",
   "name": "python",
   "nbconvert_exporter": "python",
   "pygments_lexer": "ipython3",
   "version": "3.8.5"
  }
 },
 "nbformat": 4,
 "nbformat_minor": 4
}
